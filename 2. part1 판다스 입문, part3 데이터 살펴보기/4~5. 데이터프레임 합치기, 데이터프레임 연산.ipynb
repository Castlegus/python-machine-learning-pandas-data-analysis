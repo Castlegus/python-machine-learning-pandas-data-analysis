{
 "cells": [
  {
   "cell_type": "markdown",
   "metadata": {},
   "source": [
    "# 4. 데이터프레임 합치기"
   ]
  },
  {
   "cell_type": "code",
   "execution_count": null,
   "metadata": {},
   "outputs": [],
   "source": [
    "import pandas as pd\n",
    "df1 = pd.DataFrame({'a':['a0','a1','a2'],\n",
    "                   'b':['b0','b1','b2'],\n",
    "                   'c':['c0','c1','c2']},\n",
    "                  index = [0,1,2])\n",
    "df2 = pd.DataFrame({'a':['a1','a2','a3'],\n",
    "                   'b':['b1','b2','b3'],\n",
    "                   'c':['c1','c2','c3'],\n",
    "                   'd':['d1','d2','d3']},\n",
    "                   index=[1,2,3])\n",
    "print(df1)\n",
    "print()\n",
    "print(df2)"
   ]
  },
  {
   "cell_type": "code",
   "execution_count": null,
   "metadata": {},
   "outputs": [],
   "source": [
    "# 연결(concat)\n",
    "result1 = pd.concat([df1,df2])\n",
    "result1"
   ]
  },
  {
   "cell_type": "code",
   "execution_count": null,
   "metadata": {},
   "outputs": [],
   "source": [
    "result2 = pd.concat([df1,df2], ignore_index=True)\n",
    "result2"
   ]
  },
  {
   "cell_type": "code",
   "execution_count": null,
   "metadata": {},
   "outputs": [],
   "source": [
    "result3 = pd.concat([df1,df2], axis = 1)\n",
    "result3"
   ]
  },
  {
   "cell_type": "code",
   "execution_count": null,
   "metadata": {},
   "outputs": [],
   "source": [
    "result3_in = pd.concat([df1,df2], axis = 1, join='inner')\n",
    "result3_in"
   ]
  },
  {
   "cell_type": "code",
   "execution_count": null,
   "metadata": {},
   "outputs": [],
   "source": [
    "# 병합(merge)\n",
    "merge_inner = pd.merge(df1,df2) # df1과 df2의 공통 열인 a열,b,열,c열을 기준으로 병합 \n",
    "# merge()함수 기본 값 : on=None, how=‘inner’\n",
    "\n",
    "merge_inner"
   ]
  },
  {
   "cell_type": "code",
   "execution_count": null,
   "metadata": {},
   "outputs": [],
   "source": [
    "merge_outer = pd.merge(df1,df2,how='outer',on='c') # how= 'outer': 기준이 되는 ‘c’열의 데이터가 한 쪽에만 속하더라도 포함\n",
    "merge_outer"
   ]
  },
  {
   "cell_type": "code",
   "execution_count": null,
   "metadata": {},
   "outputs": [],
   "source": [
    "merge_left = pd.merge(df1, df2, how='left', on='c') # how=‘left’ 옵션 : 왼쪽 데이터프레임 키열에 속하는 데이터 값을 기준으로 병합\n",
    "merge_left"
   ]
  },
  {
   "cell_type": "code",
   "execution_count": null,
   "metadata": {},
   "outputs": [],
   "source": [
    "# 연결(join): 행 인덱스를 기준으로 결합\n",
    "import pandas as pd\n",
    "df1 = pd.DataFrame({'a':['a0','a1','a2'],\n",
    "                   'b':['b0','b1','b2'],\n",
    "                   'c':['c0','c1','c2']},\n",
    "                  index = [0,1,2])\n",
    "df2 = pd.DataFrame({'e':['e1','e2','e3'],\n",
    "                   'f':['f1','f2','f3'],\n",
    "                   'g':['g1','g2','g3'],\n",
    "                   'h':['h1','h2','h3']},\n",
    "                   index=[1,2,3])\n",
    "\n",
    "df3 = df1.join(df2)\n",
    "df3"
   ]
  },
  {
   "cell_type": "markdown",
   "metadata": {},
   "source": [
    "# 5. 데이터프레임의 연산"
   ]
  },
  {
   "cell_type": "code",
   "execution_count": null,
   "metadata": {},
   "outputs": [],
   "source": [
    "import seaborn as sns\n",
    "titanic = sns.load_dataset('titanic')\n",
    "df = titanic.loc[:,['age','fare']]\n",
    "print(df.head())\n",
    "print()\n",
    "print(type(df))\n",
    "print()\n",
    "\n",
    "addition = df + 10\n",
    "print(addition.head())\n",
    "print()\n",
    "print(type(addition))"
   ]
  },
  {
   "cell_type": "code",
   "execution_count": null,
   "metadata": {},
   "outputs": [],
   "source": [
    "substraction = addition - df\n",
    "print(substraction.head())"
   ]
  },
  {
   "cell_type": "code",
   "execution_count": null,
   "metadata": {},
   "outputs": [],
   "source": [
    "# 그룹 객체 만들기\n",
    "titanic_groupby = titanic.groupby('pclass').count()\n",
    "titanic_groupby"
   ]
  },
  {
   "cell_type": "code",
   "execution_count": null,
   "metadata": {},
   "outputs": [],
   "source": [
    "titanic_groupby = titanic.groupby('pclass')[['sex','age']].count()\n",
    "titanic_groupby"
   ]
  },
  {
   "cell_type": "code",
   "execution_count": null,
   "metadata": {},
   "outputs": [],
   "source": [
    "# 그룸 연산 메서드\n",
    "titanic.groupby('pclass')['age'].agg([max,min])"
   ]
  },
  {
   "cell_type": "code",
   "execution_count": null,
   "metadata": {},
   "outputs": [],
   "source": [
    "agg_format = {\"age\":\"max\",\"sibsp\":\"sum\",\"fare\":\"mean\"}\n",
    "titanic.groupby('pclass').agg(agg_format)"
   ]
  },
  {
   "cell_type": "code",
   "execution_count": null,
   "metadata": {},
   "outputs": [],
   "source": [
    "# group 객체.transform(매핑 함수)\n",
    "def minusmean(x):\n",
    "    return x - x.mean()\n",
    "\n",
    "grouped = titanic.groupby(['pclass'])\n",
    "age_minusmean = grouped.age.transform(minusmean)\n",
    "print(age_minusmean.loc[0:4])"
   ]
  },
  {
   "cell_type": "code",
   "execution_count": null,
   "metadata": {},
   "outputs": [],
   "source": []
  }
 ],
 "metadata": {
  "kernelspec": {
   "display_name": "Python 3",
   "language": "python",
   "name": "python3"
  },
  "language_info": {
   "codemirror_mode": {
    "name": "ipython",
    "version": 3
   },
   "file_extension": ".py",
   "mimetype": "text/x-python",
   "name": "python",
   "nbconvert_exporter": "python",
   "pygments_lexer": "ipython3",
   "version": "3.7.6"
  }
 },
 "nbformat": 4,
 "nbformat_minor": 4
}
