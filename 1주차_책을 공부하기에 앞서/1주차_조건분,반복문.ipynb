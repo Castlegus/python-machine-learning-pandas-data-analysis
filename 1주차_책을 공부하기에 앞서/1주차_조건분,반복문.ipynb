{
 "cells": [
  {
   "cell_type": "markdown",
   "metadata": {},
   "source": [
    "# 1. 조건문"
   ]
  },
  {
   "cell_type": "code",
   "execution_count": 1,
   "metadata": {},
   "outputs": [
    {
     "name": "stdout",
     "output_type": "stream",
     "text": [
      "행복하다\n"
     ]
    }
   ],
   "source": [
    "bitamin = True\n",
    "if bitamin:\n",
    "    print('행복하다')\n",
    "else:\n",
    "    print('슬프다')"
   ]
  },
  {
   "cell_type": "code",
   "execution_count": 3,
   "metadata": {},
   "outputs": [
    {
     "name": "stdout",
     "output_type": "stream",
     "text": [
      "안녕하세요\n",
      "저는\n",
      "비타민 6기 교육부를 맡고 있습니다\n"
     ]
    }
   ],
   "source": [
    "이소연 = True\n",
    "\n",
    "if 이소연:\n",
    "    print('안녕하세요')\n",
    "    print('저는')\n",
    "    print('비타민 6기 교육부를 맡고 있습니다')\n",
    "    "
   ]
  },
  {
   "cell_type": "code",
   "execution_count": 4,
   "metadata": {},
   "outputs": [
    {
     "name": "stdout",
     "output_type": "stream",
     "text": [
      "먹어라\n"
     ]
    }
   ],
   "source": [
    "hour = 21\n",
    "if hour >= 22:\n",
    "    print('참아라')\n",
    "else:\n",
    "    print('먹어라')"
   ]
  },
  {
   "cell_type": "code",
   "execution_count": 5,
   "metadata": {},
   "outputs": [
    {
     "name": "stdout",
     "output_type": "stream",
     "text": [
      "먹어라\n"
     ]
    }
   ],
   "source": [
    "hour = 23\n",
    "hungry = True\n",
    "\n",
    "if hour >= 22 and not hungry:\n",
    "    print('참아라')\n",
    "else:\n",
    "    print('먹어라')"
   ]
  },
  {
   "cell_type": "code",
   "execution_count": 6,
   "metadata": {},
   "outputs": [
    {
     "name": "stdout",
     "output_type": "stream",
     "text": [
      "떡볶이를 먹어라\n"
     ]
    }
   ],
   "source": [
    "pocket = ['money','cellphone','papar']\n",
    "\n",
    "if 'money' in pocket:\n",
    "    print('떡볶이를 먹어라')\n",
    "else:\n",
    "    print('먹지 말아라')"
   ]
  },
  {
   "cell_type": "code",
   "execution_count": 7,
   "metadata": {},
   "outputs": [
    {
     "name": "stdout",
     "output_type": "stream",
     "text": [
      "떡볶이를 먹어라\n"
     ]
    }
   ],
   "source": [
    "pocket = ['cellphone', 'paper']\n",
    "card = True\n",
    "\n",
    "if 'money' in pocket:\n",
    "    print('떡볶이를 먹어라')\n",
    "else:\n",
    "    if card:\n",
    "        print('떡볶이를 먹어라')\n",
    "    else:\n",
    "        print('먹지 말아라')"
   ]
  },
  {
   "cell_type": "code",
   "execution_count": 8,
   "metadata": {},
   "outputs": [
    {
     "name": "stdout",
     "output_type": "stream",
     "text": [
      "떡볶이를 먹어라\n"
     ]
    }
   ],
   "source": [
    "pocket = ['cellphone', 'paper']\n",
    "card = True\n",
    "\n",
    "if 'money' in pocket:\n",
    "    print('떡볶이를 먹어라')\n",
    "elif card:\n",
    "    print('떡볶이를 먹어라')\n",
    "else:\n",
    "    print('먹지 말아라')"
   ]
  },
  {
   "cell_type": "code",
   "execution_count": 9,
   "metadata": {},
   "outputs": [
    {
     "name": "stdout",
     "output_type": "stream",
     "text": [
      "1~10사이의 숫자를 입력해주세요: 11\n",
      "범위를 벗어납니다\n"
     ]
    }
   ],
   "source": [
    "num = int(input('1~10사이의 숫자를 입력해주세요: '))\n",
    "\n",
    "if num>5 and num<=10:\n",
    "    print('5보다 큽니다')\n",
    "elif num>0 and num<=5:\n",
    "    print('5보다 작거나 같습니다')\n",
    "else:\n",
    "    print('범위를 벗어납니다')"
   ]
  },
  {
   "cell_type": "code",
   "execution_count": 10,
   "metadata": {},
   "outputs": [
    {
     "name": "stdout",
     "output_type": "stream",
     "text": [
      "버튼을 눌러주세요: 2\n",
      "사이다\n"
     ]
    }
   ],
   "source": [
    "button = int(input('버튼을 눌러주세요: '))\n",
    "\n",
    "if button == 1:\n",
    "    print('콜라')\n",
    "elif button == 2:\n",
    "    print('사이다')\n",
    "elif button == 3:\n",
    "    print('환타')\n",
    "else:\n",
    "    print('제공하지 않는 메뉴')"
   ]
  },
  {
   "cell_type": "markdown",
   "metadata": {},
   "source": [
    "## 중첩 조건문"
   ]
  },
  {
   "cell_type": "code",
   "execution_count": 11,
   "metadata": {},
   "outputs": [
    {
     "name": "stdout",
     "output_type": "stream",
     "text": [
      "나이를 입력하세요: 24\n",
      "점수를 입력하세요: 95\n",
      "합격입니다!\n"
     ]
    }
   ],
   "source": [
    "age = int(input('나이를 입력하세요: '))\n",
    "score = int(input('점수를 입력하세요: '))\n",
    "\n",
    "if age >= 20:\n",
    "    if score >= 80:\n",
    "        print('합격입니다!')\n",
    "    else:\n",
    "        print('점수가 낮아 불합격입니다!')\n",
    "else:\n",
    "    print('너무 어려서 불합격입니다!')"
   ]
  },
  {
   "cell_type": "code",
   "execution_count": 12,
   "metadata": {},
   "outputs": [
    {
     "name": "stdout",
     "output_type": "stream",
     "text": [
      "합격입니다!\n"
     ]
    }
   ],
   "source": [
    "# 논리 연산자를 이용한 if 조건문\n",
    "if age>= 20 and score >=80:\n",
    "    print('합격입니다!')\n",
    "else:\n",
    "    print('불합격입니다!')"
   ]
  },
  {
   "cell_type": "markdown",
   "metadata": {},
   "source": [
    "# 2. 반복문"
   ]
  },
  {
   "cell_type": "code",
   "execution_count": 21,
   "metadata": {},
   "outputs": [
    {
     "name": "stdout",
     "output_type": "stream",
     "text": [
      "hello, bitamin!\n",
      "hello, bitamin!\n",
      "hello, bitamin!\n",
      "hello, bitamin!\n",
      "hello, bitamin!\n",
      "hello, bitamin!\n",
      "hello, bitamin!\n",
      "hello, bitamin!\n",
      "hello, bitamin!\n",
      "hello, bitamin!\n"
     ]
    }
   ],
   "source": [
    "#print 10번 사용\n",
    "print('hello, bitamin!') \n",
    "print('hello, bitamin!') \n",
    "print('hello, bitamin!') \n",
    "print('hello, bitamin!') \n",
    "print('hello, bitamin!') \n",
    "print('hello, bitamin!') \n",
    "print('hello, bitamin!') \n",
    "print('hello, bitamin!') \n",
    "print('hello, bitamin!') \n",
    "print('hello, bitamin!') "
   ]
  },
  {
   "cell_type": "code",
   "execution_count": 22,
   "metadata": {},
   "outputs": [
    {
     "name": "stdout",
     "output_type": "stream",
     "text": [
      "hello, bitamin!\n",
      "hello, bitamin!\n",
      "hello, bitamin!\n",
      "hello, bitamin!\n",
      "hello, bitamin!\n",
      "hello, bitamin!\n",
      "hello, bitamin!\n",
      "hello, bitamin!\n",
      "hello, bitamin!\n",
      "hello, bitamin!\n",
      "hello, bitamin!\n",
      "hello, bitamin!\n",
      "hello, bitamin!\n",
      "hello, bitamin!\n",
      "hello, bitamin!\n",
      "hello, bitamin!\n",
      "hello, bitamin!\n",
      "hello, bitamin!\n",
      "hello, bitamin!\n",
      "hello, bitamin!\n",
      "hello, bitamin!\n",
      "hello, bitamin!\n",
      "hello, bitamin!\n",
      "hello, bitamin!\n",
      "hello, bitamin!\n",
      "hello, bitamin!\n",
      "hello, bitamin!\n",
      "hello, bitamin!\n",
      "hello, bitamin!\n",
      "hello, bitamin!\n",
      "hello, bitamin!\n",
      "hello, bitamin!\n",
      "hello, bitamin!\n",
      "hello, bitamin!\n",
      "hello, bitamin!\n",
      "hello, bitamin!\n",
      "hello, bitamin!\n",
      "hello, bitamin!\n",
      "hello, bitamin!\n",
      "hello, bitamin!\n",
      "hello, bitamin!\n",
      "hello, bitamin!\n",
      "hello, bitamin!\n",
      "hello, bitamin!\n",
      "hello, bitamin!\n",
      "hello, bitamin!\n",
      "hello, bitamin!\n",
      "hello, bitamin!\n",
      "hello, bitamin!\n",
      "hello, bitamin!\n",
      "hello, bitamin!\n",
      "hello, bitamin!\n",
      "hello, bitamin!\n",
      "hello, bitamin!\n",
      "hello, bitamin!\n",
      "hello, bitamin!\n",
      "hello, bitamin!\n",
      "hello, bitamin!\n",
      "hello, bitamin!\n",
      "hello, bitamin!\n",
      "hello, bitamin!\n",
      "hello, bitamin!\n",
      "hello, bitamin!\n",
      "hello, bitamin!\n",
      "hello, bitamin!\n",
      "hello, bitamin!\n",
      "hello, bitamin!\n",
      "hello, bitamin!\n",
      "hello, bitamin!\n",
      "hello, bitamin!\n",
      "hello, bitamin!\n",
      "hello, bitamin!\n",
      "hello, bitamin!\n",
      "hello, bitamin!\n",
      "hello, bitamin!\n",
      "hello, bitamin!\n",
      "hello, bitamin!\n",
      "hello, bitamin!\n",
      "hello, bitamin!\n",
      "hello, bitamin!\n",
      "hello, bitamin!\n",
      "hello, bitamin!\n",
      "hello, bitamin!\n",
      "hello, bitamin!\n",
      "hello, bitamin!\n",
      "hello, bitamin!\n",
      "hello, bitamin!\n",
      "hello, bitamin!\n",
      "hello, bitamin!\n",
      "hello, bitamin!\n",
      "hello, bitamin!\n",
      "hello, bitamin!\n",
      "hello, bitamin!\n",
      "hello, bitamin!\n",
      "hello, bitamin!\n",
      "hello, bitamin!\n",
      "hello, bitamin!\n",
      "hello, bitamin!\n",
      "hello, bitamin!\n",
      "hello, bitamin!\n"
     ]
    }
   ],
   "source": [
    "for i in range(100):\n",
    "    print('hello, bitamin!')"
   ]
  },
  {
   "cell_type": "code",
   "execution_count": 23,
   "metadata": {},
   "outputs": [
    {
     "name": "stdout",
     "output_type": "stream",
     "text": [
      "hello, bitamin! 0\n",
      "hello, bitamin! 1\n",
      "hello, bitamin! 2\n",
      "hello, bitamin! 3\n",
      "hello, bitamin! 4\n",
      "hello, bitamin! 5\n",
      "hello, bitamin! 6\n",
      "hello, bitamin! 7\n",
      "hello, bitamin! 8\n",
      "hello, bitamin! 9\n",
      "반복문 끝\n"
     ]
    }
   ],
   "source": [
    "for i in range(10):\n",
    "    print('hello, bitamin!' ,i)\n",
    "print('반복문 끝')"
   ]
  },
  {
   "cell_type": "code",
   "execution_count": 24,
   "metadata": {},
   "outputs": [
    {
     "name": "stdout",
     "output_type": "stream",
     "text": [
      "0\n",
      "1\n",
      "2\n",
      "3\n",
      "4\n",
      "5\n",
      "6\n",
      "7\n",
      "8\n",
      "9\n"
     ]
    }
   ],
   "source": [
    "for i in range(10):\n",
    "    print(i)\n",
    "    i=10"
   ]
  },
  {
   "cell_type": "code",
   "execution_count": 25,
   "metadata": {},
   "outputs": [
    {
     "name": "stdout",
     "output_type": "stream",
     "text": [
      "10\n",
      "9\n",
      "8\n",
      "7\n",
      "6\n",
      "5\n",
      "4\n",
      "3\n",
      "2\n",
      "1\n"
     ]
    }
   ],
   "source": [
    "for i in range(10,0,-1):\n",
    "    print(i)"
   ]
  },
  {
   "cell_type": "code",
   "execution_count": 26,
   "metadata": {},
   "outputs": [
    {
     "name": "stdout",
     "output_type": "stream",
     "text": [
      "이소연\n",
      "김도경\n",
      "김지윤\n",
      "서현재\n"
     ]
    }
   ],
   "source": [
    "name = ['이소연','김도경','김지윤','서현재']\n",
    "for n in name:\n",
    "    print(n)"
   ]
  },
  {
   "cell_type": "code",
   "execution_count": 27,
   "metadata": {},
   "outputs": [
    {
     "name": "stdout",
     "output_type": "stream",
     "text": [
      "이소연\n",
      "김도경\n",
      "김지윤\n",
      "서현재\n"
     ]
    }
   ],
   "source": [
    "name = ('이소연','김도경','김지윤','서현재')\n",
    "for n in name:\n",
    "    print(n)"
   ]
  },
  {
   "cell_type": "code",
   "execution_count": 28,
   "metadata": {},
   "outputs": [
    {
     "name": "stdout",
     "output_type": "stream",
     "text": [
      "h\n",
      "e\n",
      "l\n",
      "l\n",
      "o\n",
      " \n",
      "b\n",
      "i\n",
      "t\n",
      "a\n",
      "m\n",
      "i\n",
      "n\n",
      "!\n"
     ]
    }
   ],
   "source": [
    "for i in 'hello bitamin!':\n",
    "    print(i)"
   ]
  },
  {
   "cell_type": "code",
   "execution_count": 30,
   "metadata": {},
   "outputs": [
    {
     "name": "stdout",
     "output_type": "stream",
     "text": [
      "교육부\n",
      "기획부\n",
      "총무부\n"
     ]
    }
   ],
   "source": [
    "#딕셔너리에서는 key값만 출력된다.\n",
    "bitamin = {'교육부' : '김도경','기획부':'김지윤','총무부':'서현재'}\n",
    "for depart in bitamin:\n",
    "    print(depart)"
   ]
  },
  {
   "cell_type": "code",
   "execution_count": 33,
   "metadata": {},
   "outputs": [
    {
     "data": {
      "text/plain": [
       "dict_keys(['교육부', '기획부', '총무부'])"
      ]
     },
     "execution_count": 33,
     "metadata": {},
     "output_type": "execute_result"
    }
   ],
   "source": [
    "bitamin.keys()"
   ]
  },
  {
   "cell_type": "code",
   "execution_count": 34,
   "metadata": {},
   "outputs": [
    {
     "name": "stdout",
     "output_type": "stream",
     "text": [
      "김도경\n",
      "김지윤\n",
      "서현재\n"
     ]
    }
   ],
   "source": [
    "bitamin = {'교육부' : '김도경','기획부':'김지윤','총무부':'서현재'}\n",
    "for name in bitamin.values():\n",
    "    print(name)"
   ]
  },
  {
   "cell_type": "code",
   "execution_count": 37,
   "metadata": {},
   "outputs": [
    {
     "name": "stdout",
     "output_type": "stream",
     "text": [
      "교육부 김도경\n",
      "기획부 김지윤\n",
      "총무부 서현재\n"
     ]
    }
   ],
   "source": [
    "bitamin = {'교육부' : '김도경','기획부':'김지윤','총무부':'서현재'}\n",
    "for depart , name in bitamin.items():\n",
    "    print(depart, name)"
   ]
  },
  {
   "cell_type": "code",
   "execution_count": 38,
   "metadata": {},
   "outputs": [
    {
     "data": {
      "text/plain": [
       "dict_items([('교육부', '김도경'), ('기획부', '김지윤'), ('총무부', '서현재')])"
      ]
     },
     "execution_count": 38,
     "metadata": {},
     "output_type": "execute_result"
    }
   ],
   "source": [
    "bitamin.items()"
   ]
  },
  {
   "cell_type": "code",
   "execution_count": 40,
   "metadata": {},
   "outputs": [
    {
     "data": {
      "text/plain": [
       "[(0, '이소연'), (1, '김도경'), (2, '김지윤'), (3, '서현재')]"
      ]
     },
     "execution_count": 40,
     "metadata": {},
     "output_type": "execute_result"
    }
   ],
   "source": [
    "#enumerate 함수는 index와 리스트의 값을 동시에 전달한다.\n",
    "name = ['이소연','김도경','김지윤','서현재']\n",
    "list(enumerate(name))"
   ]
  },
  {
   "cell_type": "code",
   "execution_count": 44,
   "metadata": {},
   "outputs": [
    {
     "name": "stdout",
     "output_type": "stream",
     "text": [
      "2 김지윤\n",
      "3 서현재\n"
     ]
    }
   ],
   "source": [
    "name = ['이소연','김도경','김지윤','서현재']\n",
    "for index, name in enumerate(name):\n",
    "    if index > 1:\n",
    "        print(index,name)"
   ]
  },
  {
   "cell_type": "code",
   "execution_count": 45,
   "metadata": {},
   "outputs": [
    {
     "name": "stdout",
     "output_type": "stream",
     "text": [
      "1 : 50 (불합격)\n",
      "2 : 70 (합격)\n",
      "3 : 80 (합격)\n",
      "4 : 20 (불합격)\n",
      "5 : 90 (합격)\n"
     ]
    }
   ],
   "source": [
    "score = [50,70,80,20,90]\n",
    "data = enumerate(score)\n",
    "\n",
    "for idx, sc in data:\n",
    "    if sc > 60:\n",
    "        print(idx+1,':',sc,'(합격)')\n",
    "    else:\n",
    "        print(idx+1,':',sc,'(불합격)')"
   ]
  },
  {
   "cell_type": "code",
   "execution_count": 46,
   "metadata": {},
   "outputs": [
    {
     "name": "stdout",
     "output_type": "stream",
     "text": [
      "hello, bitamin! 0\n",
      "hello, bitamin! 1\n",
      "hello, bitamin! 2\n",
      "hello, bitamin! 3\n",
      "hello, bitamin! 4\n",
      "hello, bitamin! 5\n",
      "hello, bitamin! 6\n",
      "hello, bitamin! 7\n",
      "hello, bitamin! 8\n",
      "hello, bitamin! 9\n",
      "hello, bitamin! 10\n",
      "hello, bitamin! 11\n",
      "hello, bitamin! 12\n",
      "hello, bitamin! 13\n",
      "hello, bitamin! 14\n",
      "hello, bitamin! 15\n",
      "hello, bitamin! 16\n",
      "hello, bitamin! 17\n",
      "hello, bitamin! 18\n",
      "hello, bitamin! 19\n",
      "hello, bitamin! 20\n",
      "hello, bitamin! 21\n",
      "hello, bitamin! 22\n",
      "hello, bitamin! 23\n",
      "hello, bitamin! 24\n",
      "hello, bitamin! 25\n",
      "hello, bitamin! 26\n",
      "hello, bitamin! 27\n",
      "hello, bitamin! 28\n",
      "hello, bitamin! 29\n",
      "hello, bitamin! 30\n",
      "hello, bitamin! 31\n",
      "hello, bitamin! 32\n",
      "hello, bitamin! 33\n",
      "hello, bitamin! 34\n",
      "hello, bitamin! 35\n",
      "hello, bitamin! 36\n",
      "hello, bitamin! 37\n",
      "hello, bitamin! 38\n",
      "hello, bitamin! 39\n",
      "hello, bitamin! 40\n",
      "hello, bitamin! 41\n",
      "hello, bitamin! 42\n",
      "hello, bitamin! 43\n",
      "hello, bitamin! 44\n",
      "hello, bitamin! 45\n",
      "hello, bitamin! 46\n",
      "hello, bitamin! 47\n",
      "hello, bitamin! 48\n",
      "hello, bitamin! 49\n",
      "hello, bitamin! 50\n",
      "hello, bitamin! 51\n",
      "hello, bitamin! 52\n",
      "hello, bitamin! 53\n",
      "hello, bitamin! 54\n",
      "hello, bitamin! 55\n",
      "hello, bitamin! 56\n",
      "hello, bitamin! 57\n",
      "hello, bitamin! 58\n",
      "hello, bitamin! 59\n",
      "hello, bitamin! 60\n",
      "hello, bitamin! 61\n",
      "hello, bitamin! 62\n",
      "hello, bitamin! 63\n",
      "hello, bitamin! 64\n",
      "hello, bitamin! 65\n",
      "hello, bitamin! 66\n",
      "hello, bitamin! 67\n",
      "hello, bitamin! 68\n",
      "hello, bitamin! 69\n",
      "hello, bitamin! 70\n",
      "hello, bitamin! 71\n",
      "hello, bitamin! 72\n",
      "hello, bitamin! 73\n",
      "hello, bitamin! 74\n",
      "hello, bitamin! 75\n",
      "hello, bitamin! 76\n",
      "hello, bitamin! 77\n",
      "hello, bitamin! 78\n",
      "hello, bitamin! 79\n",
      "hello, bitamin! 80\n",
      "hello, bitamin! 81\n",
      "hello, bitamin! 82\n",
      "hello, bitamin! 83\n",
      "hello, bitamin! 84\n",
      "hello, bitamin! 85\n",
      "hello, bitamin! 86\n",
      "hello, bitamin! 87\n",
      "hello, bitamin! 88\n",
      "hello, bitamin! 89\n",
      "hello, bitamin! 90\n",
      "hello, bitamin! 91\n",
      "hello, bitamin! 92\n",
      "hello, bitamin! 93\n",
      "hello, bitamin! 94\n",
      "hello, bitamin! 95\n",
      "hello, bitamin! 96\n",
      "hello, bitamin! 97\n",
      "hello, bitamin! 98\n",
      "hello, bitamin! 99\n"
     ]
    }
   ],
   "source": [
    "i=0\n",
    "while i <100:\n",
    "    print('hello, bitamin!',i)\n",
    "    i+=1"
   ]
  },
  {
   "cell_type": "code",
   "execution_count": 47,
   "metadata": {},
   "outputs": [
    {
     "name": "stdout",
     "output_type": "stream",
     "text": [
      "나무를 1 번 찍었습니다.\n",
      "나무를 2 번 찍었습니다.\n",
      "나무를 3 번 찍었습니다.\n",
      "나무를 4 번 찍었습니다.\n",
      "나무를 5 번 찍었습니다.\n",
      "나무를 6 번 찍었습니다.\n",
      "나무를 7 번 찍었습니다.\n",
      "나무를 8 번 찍었습니다.\n",
      "나무를 9 번 찍었습니다.\n",
      "나무를 10 번 찍었습니다.\n",
      "나무 넘어갑니다.\n"
     ]
    }
   ],
   "source": [
    "treeHit = 0\n",
    "while treeHit < 10:\n",
    "    treeHit = treeHit + 1\n",
    "    print('나무를',treeHit,'번 찍었습니다.')\n",
    "    if treeHit == 10:\n",
    "        print('나무 넘어갑니다.')"
   ]
  },
  {
   "cell_type": "code",
   "execution_count": 48,
   "metadata": {},
   "outputs": [
    {
     "name": "stdout",
     "output_type": "stream",
     "text": [
      "0\n",
      "1\n",
      "2\n",
      "3\n",
      "4\n",
      "5\n",
      "6\n",
      "7\n",
      "8\n",
      "9\n"
     ]
    }
   ],
   "source": [
    "i=0\n",
    "while True:\n",
    "    print(i)\n",
    "    i+=1\n",
    "    if i==10:\n",
    "        break"
   ]
  },
  {
   "cell_type": "code",
   "execution_count": 50,
   "metadata": {},
   "outputs": [
    {
     "name": "stdout",
     "output_type": "stream",
     "text": [
      "0\n",
      "1\n",
      "2\n",
      "3\n",
      "4\n",
      "5\n",
      "6\n",
      "7\n",
      "8\n",
      "9\n",
      "10\n"
     ]
    }
   ],
   "source": [
    "for i in range(100000000):\n",
    "    print(i)\n",
    "    if i == 10:\n",
    "        break"
   ]
  },
  {
   "cell_type": "code",
   "execution_count": 51,
   "metadata": {},
   "outputs": [
    {
     "name": "stdout",
     "output_type": "stream",
     "text": [
      "돈을 받았으니 커피를 드립니다.\n",
      "남은 커피는 9 잔 입니다.\n",
      "돈을 받았으니 커피를 드립니다.\n",
      "남은 커피는 8 잔 입니다.\n",
      "돈을 받았으니 커피를 드립니다.\n",
      "남은 커피는 7 잔 입니다.\n",
      "돈을 받았으니 커피를 드립니다.\n",
      "남은 커피는 6 잔 입니다.\n",
      "돈을 받았으니 커피를 드립니다.\n",
      "남은 커피는 5 잔 입니다.\n",
      "돈을 받았으니 커피를 드립니다.\n",
      "남은 커피는 4 잔 입니다.\n",
      "돈을 받았으니 커피를 드립니다.\n",
      "남은 커피는 3 잔 입니다.\n",
      "돈을 받았으니 커피를 드립니다.\n",
      "남은 커피는 2 잔 입니다.\n",
      "돈을 받았으니 커피를 드립니다.\n",
      "남은 커피는 1 잔 입니다.\n",
      "돈을 받았으니 커피를 드립니다.\n",
      "남은 커피는 0 잔 입니다.\n",
      "커피가 다 떨어졌습니다. 판매를 중지합니다.\n"
     ]
    }
   ],
   "source": [
    "money = 300\n",
    "coffee = 10\n",
    "\n",
    "while money:\n",
    "    print('돈을 받았으니 커피를 드립니다.')\n",
    "    coffee = coffee -1\n",
    "    print('남은 커피는', coffee, '잔 입니다.')\n",
    "    if coffee == 0:\n",
    "        print('커피가 다 떨어졌습니다. 판매를 중지합니다.')\n",
    "        break"
   ]
  },
  {
   "cell_type": "code",
   "execution_count": 53,
   "metadata": {},
   "outputs": [
    {
     "name": "stdout",
     "output_type": "stream",
     "text": [
      "1\n",
      "3\n",
      "5\n",
      "7\n",
      "9\n",
      "11\n",
      "13\n",
      "15\n",
      "17\n",
      "19\n",
      "21\n",
      "23\n",
      "25\n",
      "27\n",
      "29\n",
      "31\n",
      "33\n",
      "35\n",
      "37\n",
      "39\n",
      "41\n",
      "43\n",
      "45\n",
      "47\n",
      "49\n",
      "51\n",
      "53\n",
      "55\n",
      "57\n",
      "59\n",
      "61\n",
      "63\n",
      "65\n",
      "67\n",
      "69\n",
      "71\n",
      "73\n",
      "75\n",
      "77\n",
      "79\n",
      "81\n",
      "83\n",
      "85\n",
      "87\n",
      "89\n",
      "91\n",
      "93\n",
      "95\n",
      "97\n",
      "99\n"
     ]
    }
   ],
   "source": [
    "i=0\n",
    "while i<100:\n",
    "    i+=1\n",
    "    if i%2 == 0:\n",
    "        continue\n",
    "    print(i)"
   ]
  },
  {
   "cell_type": "code",
   "execution_count": 54,
   "metadata": {},
   "outputs": [
    {
     "name": "stdout",
     "output_type": "stream",
     "text": [
      "1\n",
      "3\n",
      "5\n",
      "7\n",
      "9\n",
      "11\n",
      "13\n",
      "15\n",
      "17\n",
      "19\n",
      "21\n",
      "23\n",
      "25\n",
      "27\n",
      "29\n",
      "31\n",
      "33\n",
      "35\n",
      "37\n",
      "39\n",
      "41\n",
      "43\n",
      "45\n",
      "47\n",
      "49\n",
      "51\n",
      "53\n",
      "55\n",
      "57\n",
      "59\n",
      "61\n",
      "63\n",
      "65\n",
      "67\n",
      "69\n",
      "71\n",
      "73\n",
      "75\n",
      "77\n",
      "79\n",
      "81\n",
      "83\n",
      "85\n",
      "87\n",
      "89\n",
      "91\n",
      "93\n",
      "95\n",
      "97\n",
      "99\n"
     ]
    }
   ],
   "source": [
    "for i in range(100):\n",
    "    if i%2 == 0:\n",
    "        continue\n",
    "    print(i)"
   ]
  },
  {
   "cell_type": "code",
   "execution_count": 56,
   "metadata": {},
   "outputs": [
    {
     "name": "stdout",
     "output_type": "stream",
     "text": [
      "0\n",
      "1\n",
      "2\n",
      "3\n",
      "4\n",
      "5\n",
      "6\n",
      "7\n",
      "8\n",
      "9\n",
      "10\n",
      "11\n",
      "12\n",
      "13\n",
      "14\n",
      "15\n",
      "16\n",
      "17\n",
      "18\n",
      "19\n",
      "20\n",
      "21\n",
      "22\n",
      "23\n",
      "24\n",
      "25\n",
      "26\n",
      "27\n",
      "28\n",
      "29\n",
      "30\n",
      "31\n",
      "32\n",
      "33\n",
      "34\n",
      "35\n",
      "36\n",
      "37\n",
      "38\n",
      "39\n",
      "40\n",
      "41\n",
      "42\n",
      "43\n",
      "44\n",
      "45\n",
      "46\n",
      "47\n",
      "48\n",
      "49\n",
      "50\n",
      "51\n",
      "52\n",
      "53\n",
      "54\n",
      "55\n",
      "56\n",
      "57\n",
      "58\n",
      "59\n",
      "60\n",
      "61\n",
      "62\n",
      "63\n",
      "64\n",
      "65\n",
      "66\n",
      "67\n",
      "68\n",
      "69\n",
      "70\n",
      "71\n",
      "72\n",
      "73\n",
      "74\n",
      "75\n",
      "76\n",
      "77\n",
      "78\n",
      "79\n",
      "80\n",
      "81\n",
      "82\n",
      "83\n",
      "84\n",
      "85\n",
      "86\n",
      "87\n",
      "88\n",
      "89\n",
      "90\n",
      "91\n",
      "92\n",
      "93\n",
      "94\n",
      "95\n",
      "96\n",
      "97\n",
      "98\n",
      "99\n"
     ]
    }
   ],
   "source": [
    "for i in range(100):\n",
    "    if i%2 == 0:\n",
    "        pass\n",
    "    print(i)"
   ]
  },
  {
   "cell_type": "code",
   "execution_count": 60,
   "metadata": {},
   "outputs": [
    {
     "name": "stdout",
     "output_type": "stream",
     "text": [
      "1\n",
      "2\n",
      "3\n",
      "4\n",
      "5\n",
      "6\n",
      "7\n",
      "8\n",
      "9\n"
     ]
    },
    {
     "data": {
      "text/plain": [
       "[1, 2, 3, 4, 5, 6, 7, 8, 9]"
      ]
     },
     "execution_count": 60,
     "metadata": {},
     "output_type": "execute_result"
    }
   ],
   "source": [
    "matrix = [[1,2,3],[4,5,6],[7,8,9]]\n",
    "new = []\n",
    "\n",
    "for i in matrix:\n",
    "    for j in i:\n",
    "        print(j)\n",
    "        new.append(j)\n",
    "new"
   ]
  },
  {
   "cell_type": "code",
   "execution_count": 69,
   "metadata": {},
   "outputs": [
    {
     "name": "stdout",
     "output_type": "stream",
     "text": [
      "1 x 1 = 1\n",
      "1 x 2 = 2\n",
      "1 x 3 = 3\n",
      "1 x 4 = 4\n",
      "1 x 5 = 5\n",
      "1 x 6 = 6\n",
      "1 x 7 = 7\n",
      "1 x 8 = 8\n",
      "1 x 9 = 9\n",
      "-----------------\n",
      "2 x 1 = 2\n",
      "2 x 2 = 4\n",
      "2 x 3 = 6\n",
      "2 x 4 = 8\n",
      "2 x 5 = 10\n",
      "2 x 6 = 12\n",
      "2 x 7 = 14\n",
      "2 x 8 = 16\n",
      "2 x 9 = 18\n",
      "-----------------\n",
      "3 x 1 = 3\n",
      "3 x 2 = 6\n",
      "3 x 3 = 9\n",
      "3 x 4 = 12\n",
      "3 x 5 = 15\n",
      "3 x 6 = 18\n",
      "3 x 7 = 21\n",
      "3 x 8 = 24\n",
      "3 x 9 = 27\n",
      "-----------------\n",
      "4 x 1 = 4\n",
      "4 x 2 = 8\n",
      "4 x 3 = 12\n",
      "4 x 4 = 16\n",
      "4 x 5 = 20\n",
      "4 x 6 = 24\n",
      "4 x 7 = 28\n",
      "4 x 8 = 32\n",
      "4 x 9 = 36\n",
      "-----------------\n",
      "5 x 1 = 5\n",
      "5 x 2 = 10\n",
      "5 x 3 = 15\n",
      "5 x 4 = 20\n",
      "5 x 5 = 25\n",
      "5 x 6 = 30\n",
      "5 x 7 = 35\n",
      "5 x 8 = 40\n",
      "5 x 9 = 45\n",
      "-----------------\n",
      "6 x 1 = 6\n",
      "6 x 2 = 12\n",
      "6 x 3 = 18\n",
      "6 x 4 = 24\n",
      "6 x 5 = 30\n",
      "6 x 6 = 36\n",
      "6 x 7 = 42\n",
      "6 x 8 = 48\n",
      "6 x 9 = 54\n",
      "-----------------\n",
      "7 x 1 = 7\n",
      "7 x 2 = 14\n",
      "7 x 3 = 21\n",
      "7 x 4 = 28\n",
      "7 x 5 = 35\n",
      "7 x 6 = 42\n",
      "7 x 7 = 49\n",
      "7 x 8 = 56\n",
      "7 x 9 = 63\n",
      "-----------------\n",
      "8 x 1 = 8\n",
      "8 x 2 = 16\n",
      "8 x 3 = 24\n",
      "8 x 4 = 32\n",
      "8 x 5 = 40\n",
      "8 x 6 = 48\n",
      "8 x 7 = 56\n",
      "8 x 8 = 64\n",
      "8 x 9 = 72\n",
      "-----------------\n",
      "9 x 1 = 9\n",
      "9 x 2 = 18\n",
      "9 x 3 = 27\n",
      "9 x 4 = 36\n",
      "9 x 5 = 45\n",
      "9 x 6 = 54\n",
      "9 x 7 = 63\n",
      "9 x 8 = 72\n",
      "9 x 9 = 81\n",
      "-----------------\n"
     ]
    }
   ],
   "source": [
    "# 구구단 만들기\n",
    "for i in range(1,10):\n",
    "    for j in range(1,10):\n",
    "        print(i,'x',j,'=',i*j)\n",
    "    print('-----------------')"
   ]
  }
 ],
 "metadata": {
  "kernelspec": {
   "display_name": "Python 3",
   "language": "python",
   "name": "python3"
  },
  "language_info": {
   "codemirror_mode": {
    "name": "ipython",
    "version": 3
   },
   "file_extension": ".py",
   "mimetype": "text/x-python",
   "name": "python",
   "nbconvert_exporter": "python",
   "pygments_lexer": "ipython3",
   "version": "3.7.6"
  }
 },
 "nbformat": 4,
 "nbformat_minor": 4
}
