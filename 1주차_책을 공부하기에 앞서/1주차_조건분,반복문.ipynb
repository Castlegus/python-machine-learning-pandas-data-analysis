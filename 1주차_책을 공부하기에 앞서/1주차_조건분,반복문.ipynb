{
 "cells": [
  {
   "cell_type": "markdown",
   "metadata": {},
   "source": [
    "# 1. 조건문"
   ]
  },
  {
   "cell_type": "code",
   "execution_count": null,
   "metadata": {},
   "outputs": [],
   "source": [
    "bitamin = True\n",
    "if bitamin:\n",
    "    print('행복하다')\n",
    "else:\n",
    "    print('슬프다')"
   ]
  },
  {
   "cell_type": "code",
   "execution_count": null,
   "metadata": {},
   "outputs": [],
   "source": [
    "이소연 = True\n",
    "\n",
    "if 이소연:\n",
    "    print('안녕하세요')\n",
    "    print('저는')\n",
    "    print('비타민 6기 교육부를 맡고 있습니다')\n",
    "    "
   ]
  },
  {
   "cell_type": "code",
   "execution_count": null,
   "metadata": {},
   "outputs": [],
   "source": [
    "hour = 21\n",
    "if hour >= 22:\n",
    "    print('참아라')\n",
    "else:\n",
    "    print('먹어라')"
   ]
  },
  {
   "cell_type": "code",
   "execution_count": null,
   "metadata": {},
   "outputs": [],
   "source": [
    "hour = 23\n",
    "hungry = True\n",
    "\n",
    "if hour >= 22 and not hungry:\n",
    "    print('참아라')\n",
    "else:\n",
    "    print('먹어라')"
   ]
  },
  {
   "cell_type": "code",
   "execution_count": null,
   "metadata": {},
   "outputs": [],
   "source": [
    "pocket = ['money','cellphone','papar']\n",
    "\n",
    "if 'money' in pocket:\n",
    "    print('떡볶이를 먹어라')\n",
    "else:\n",
    "    print('먹지 말아라')"
   ]
  },
  {
   "cell_type": "code",
   "execution_count": null,
   "metadata": {},
   "outputs": [],
   "source": [
    "pocket = ['cellphone', 'paper']\n",
    "card = True\n",
    "\n",
    "if 'money' in pocket:\n",
    "    print('떡볶이를 먹어라')\n",
    "else:\n",
    "    if card:\n",
    "        print('떡볶이를 먹어라')\n",
    "    else:\n",
    "        print('먹지 말아라')"
   ]
  },
  {
   "cell_type": "code",
   "execution_count": null,
   "metadata": {},
   "outputs": [],
   "source": [
    "pocket = ['cellphone', 'paper']\n",
    "card = True\n",
    "\n",
    "if 'money' in pocket:\n",
    "    print('떡볶이를 먹어라')\n",
    "elif card:\n",
    "    print('떡볶이를 먹어라')\n",
    "else:\n",
    "    print('먹지 말아라')"
   ]
  },
  {
   "cell_type": "code",
   "execution_count": null,
   "metadata": {},
   "outputs": [],
   "source": [
    "num = int(input('1~10사이의 숫자를 입력해주세요: '))\n",
    "\n",
    "if num>5 and num<=10:\n",
    "    print('5보다 큽니다')\n",
    "elif num>0 and num<=5:\n",
    "    print('5보다 작거나 같습니다')\n",
    "else:\n",
    "    print('범위를 벗어납니다')"
   ]
  },
  {
   "cell_type": "code",
   "execution_count": null,
   "metadata": {},
   "outputs": [],
   "source": [
    "button = int(input('버튼을 눌러주세요: '))\n",
    "\n",
    "if button == 1:\n",
    "    print('콜라')\n",
    "elif button == 2:\n",
    "    print('사이다')\n",
    "elif button == 3:\n",
    "    print('환타')\n",
    "else:\n",
    "    print('제공하지 않는 메뉴')"
   ]
  },
  {
   "cell_type": "markdown",
   "metadata": {},
   "source": [
    "## 중첩 조건문"
   ]
  },
  {
   "cell_type": "code",
   "execution_count": null,
   "metadata": {},
   "outputs": [],
   "source": [
    "age = int(input('나이를 입력하세요: '))\n",
    "score = int(input('점수를 입력하세요: '))\n",
    "\n",
    "if age >= 20:\n",
    "    if score >= 80:\n",
    "        print('합격입니다!')\n",
    "    else:\n",
    "        print('점수가 낮아 불합격입니다!')\n",
    "else:\n",
    "    print('너무 어려서 불합격입니다!')"
   ]
  },
  {
   "cell_type": "code",
   "execution_count": null,
   "metadata": {},
   "outputs": [],
   "source": [
    "# 논리 연산자를 이용한 if 조건문\n",
    "if age>= 20 and score >=80:\n",
    "    print('합격입니다!')\n",
    "else:\n",
    "    print('불합격입니다!')"
   ]
  },
  {
   "cell_type": "markdown",
   "metadata": {},
   "source": [
    "# 2. 반복문"
   ]
  },
  {
   "cell_type": "code",
   "execution_count": null,
   "metadata": {},
   "outputs": [],
   "source": [
    "#print 10번 사용\n",
    "print('hello, bitamin!') \n",
    "print('hello, bitamin!') \n",
    "print('hello, bitamin!') \n",
    "print('hello, bitamin!') \n",
    "print('hello, bitamin!') \n",
    "print('hello, bitamin!') \n",
    "print('hello, bitamin!') \n",
    "print('hello, bitamin!') \n",
    "print('hello, bitamin!') \n",
    "print('hello, bitamin!') "
   ]
  },
  {
   "cell_type": "code",
   "execution_count": null,
   "metadata": {},
   "outputs": [],
   "source": [
    "for i in range(100):\n",
    "    print('hello, bitamin!')"
   ]
  },
  {
   "cell_type": "code",
   "execution_count": null,
   "metadata": {},
   "outputs": [],
   "source": [
    "for i in range(10):\n",
    "    print('hello, bitamin!' ,i)\n",
    "print('반복문 끝')"
   ]
  },
  {
   "cell_type": "code",
   "execution_count": null,
   "metadata": {},
   "outputs": [],
   "source": [
    "for i in range(10):\n",
    "    print(i)\n",
    "    i=10"
   ]
  },
  {
   "cell_type": "code",
   "execution_count": null,
   "metadata": {},
   "outputs": [],
   "source": [
    "for i in range(10,0,-1):\n",
    "    print(i)"
   ]
  },
  {
   "cell_type": "code",
   "execution_count": null,
   "metadata": {},
   "outputs": [],
   "source": [
    "name = ['이소연','김도경','김지윤','서현재']\n",
    "for n in name:\n",
    "    print(n)"
   ]
  },
  {
   "cell_type": "code",
   "execution_count": null,
   "metadata": {},
   "outputs": [],
   "source": [
    "name = ('이소연','김도경','김지윤','서현재')\n",
    "for n in name:\n",
    "    print(n)"
   ]
  },
  {
   "cell_type": "code",
   "execution_count": null,
   "metadata": {},
   "outputs": [],
   "source": [
    "for i in 'hello bitamin!':\n",
    "    print(i)"
   ]
  },
  {
   "cell_type": "code",
   "execution_count": null,
   "metadata": {},
   "outputs": [],
   "source": [
    "#딕셔너리에서는 key값만 출력된다.\n",
    "bitamin = {'교육부' : '김도경','기획부':'김지윤','총무부':'서현재'}\n",
    "for depart in bitamin:\n",
    "    print(depart)"
   ]
  },
  {
   "cell_type": "code",
   "execution_count": null,
   "metadata": {},
   "outputs": [],
   "source": [
    "bitamin.keys()"
   ]
  },
  {
   "cell_type": "code",
   "execution_count": null,
   "metadata": {},
   "outputs": [],
   "source": [
    "bitamin = {'교육부' : '김도경','기획부':'김지윤','총무부':'서현재'}\n",
    "for name in bitamin.values():\n",
    "    print(name)"
   ]
  },
  {
   "cell_type": "code",
   "execution_count": null,
   "metadata": {},
   "outputs": [],
   "source": [
    "bitamin = {'교육부' : '김도경','기획부':'김지윤','총무부':'서현재'}\n",
    "for depart , name in bitamin.items():\n",
    "    print(depart, name)"
   ]
  },
  {
   "cell_type": "code",
   "execution_count": null,
   "metadata": {},
   "outputs": [],
   "source": [
    "bitamin.items()"
   ]
  },
  {
   "cell_type": "code",
   "execution_count": null,
   "metadata": {},
   "outputs": [],
   "source": [
    "#enumerate 함수는 index와 리스트의 값을 동시에 전달한다.\n",
    "name = ['이소연','김도경','김지윤','서현재']\n",
    "list(enumerate(name))"
   ]
  },
  {
   "cell_type": "code",
   "execution_count": null,
   "metadata": {},
   "outputs": [],
   "source": [
    "name = ['이소연','김도경','김지윤','서현재']\n",
    "for index, name in enumerate(name):\n",
    "    if index > 1:\n",
    "        print(index,name)"
   ]
  },
  {
   "cell_type": "code",
   "execution_count": null,
   "metadata": {},
   "outputs": [],
   "source": [
    "score = [50,70,80,20,90]\n",
    "data = enumerate(score)\n",
    "\n",
    "for idx, sc in data:\n",
    "    if sc > 60:\n",
    "        print(idx+1,':',sc,'(합격)')\n",
    "    else:\n",
    "        print(idx+1,':',sc,'(불합격)')"
   ]
  },
  {
   "cell_type": "code",
   "execution_count": null,
   "metadata": {},
   "outputs": [],
   "source": [
    "i=0\n",
    "while i <100:\n",
    "    print('hello, bitamin!',i)\n",
    "    i+=1"
   ]
  },
  {
   "cell_type": "code",
   "execution_count": null,
   "metadata": {},
   "outputs": [],
   "source": [
    "treeHit = 0\n",
    "while treeHit < 10:\n",
    "    treeHit = treeHit + 1\n",
    "    print('나무를',treeHit,'번 찍었습니다.')\n",
    "    if treeHit == 10:\n",
    "        print('나무 넘어갑니다.')"
   ]
  },
  {
   "cell_type": "code",
   "execution_count": null,
   "metadata": {},
   "outputs": [],
   "source": [
    "i=0\n",
    "while True:\n",
    "    print(i)\n",
    "    i+=1\n",
    "    if i==10:\n",
    "        break"
   ]
  },
  {
   "cell_type": "code",
   "execution_count": null,
   "metadata": {},
   "outputs": [],
   "source": [
    "for i in range(100000000):\n",
    "    print(i)\n",
    "    if i == 10:\n",
    "        break"
   ]
  },
  {
   "cell_type": "code",
   "execution_count": null,
   "metadata": {},
   "outputs": [],
   "source": [
    "money = 300\n",
    "coffee = 10\n",
    "\n",
    "while money:\n",
    "    print('돈을 받았으니 커피를 드립니다.')\n",
    "    coffee = coffee -1\n",
    "    print('남은 커피는', coffee, '잔 입니다.')\n",
    "    if coffee == 0:\n",
    "        print('커피가 다 떨어졌습니다. 판매를 중지합니다.')\n",
    "        break"
   ]
  },
  {
   "cell_type": "code",
   "execution_count": null,
   "metadata": {},
   "outputs": [],
   "source": [
    "i=0\n",
    "while i<100:\n",
    "    i+=1\n",
    "    if i%2 == 0:\n",
    "        continue\n",
    "    print(i)"
   ]
  },
  {
   "cell_type": "code",
   "execution_count": null,
   "metadata": {},
   "outputs": [],
   "source": [
    "for i in range(100):\n",
    "    if i%2 == 0:\n",
    "        continue\n",
    "    print(i)"
   ]
  },
  {
   "cell_type": "code",
   "execution_count": null,
   "metadata": {},
   "outputs": [],
   "source": [
    "for i in range(100):\n",
    "    if i%2 == 0:\n",
    "        pass\n",
    "    print(i)"
   ]
  },
  {
   "cell_type": "code",
   "execution_count": null,
   "metadata": {},
   "outputs": [],
   "source": [
    "matrix = [[1,2,3],[4,5,6],[7,8,9]]\n",
    "new = []\n",
    "\n",
    "for i in matrix:\n",
    "    for j in i:\n",
    "        print(j)\n",
    "        new.append(j)\n",
    "new"
   ]
  },
  {
   "cell_type": "code",
   "execution_count": null,
   "metadata": {},
   "outputs": [],
   "source": [
    "# 구구단 만들기\n",
    "for i in range(1,10):\n",
    "    for j in range(1,10):\n",
    "        print(i,'x',j,'=',i*j)\n",
    "    print('-----------------')"
   ]
  }
 ],
 "metadata": {
  "kernelspec": {
   "display_name": "Python 3",
   "language": "python",
   "name": "python3"
  },
  "language_info": {
   "codemirror_mode": {
    "name": "ipython",
    "version": 3
   },
   "file_extension": ".py",
   "mimetype": "text/x-python",
   "name": "python",
   "nbconvert_exporter": "python",
   "pygments_lexer": "ipython3",
   "version": "3.7.6"
  }
 },
 "nbformat": 4,
 "nbformat_minor": 4
}
