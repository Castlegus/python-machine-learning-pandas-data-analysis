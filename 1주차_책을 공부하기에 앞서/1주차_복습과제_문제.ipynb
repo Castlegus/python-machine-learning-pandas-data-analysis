{
 "cells": [
  {
   "cell_type": "markdown",
   "metadata": {},
   "source": [
    "#### 1. 임의의 정수를 입력받아 각 자리의 숫자 중 홀수 값의 총합을 계산하는 함수를 만들어보세요.\n",
    "예) 6753 -> 15 출력"
   ]
  },
  {
   "cell_type": "code",
   "execution_count": 1,
   "metadata": {},
   "outputs": [
    {
     "name": "stdout",
     "output_type": "stream",
     "text": [
      "숫자를 입력하세요: 3958\n"
     ]
    },
    {
     "data": {
      "text/plain": [
       "17"
      ]
     },
     "execution_count": 1,
     "metadata": {},
     "output_type": "execute_result"
    }
   ],
   "source": [
    "def sum_place_value():\n",
    "    num = input('숫자를 입력하세요: ')\n",
    "    sum = 0\n",
    "    for i in range(0,(len(num))):\n",
    "        if int(num[i]) % 2 == 1:\n",
    "            sum = sum + int(num[i])\n",
    "    return sum\n",
    "\n",
    "sum_place_value()"
   ]
  },
  {
   "cell_type": "markdown",
   "metadata": {},
   "source": [
    "#### 2. 숫자 야구 게임을 만들어 봅시다\n",
    "*구글링을 통해 참고할 수 있는 코드가 많지만 꼭 본인의 힘으로 해봅시다 !!*"
   ]
  },
  {
   "cell_type": "markdown",
   "metadata": {},
   "source": [
    "**Game Rule**\n",
    "- 임의의 세 자리수 숫자를 맞추는 게임입니다!\n",
    "- 숫자는 0이 존재하면 안되며, 중복된 수가 없어야 합니다\n",
    "- 일치하는 숫자가 존재하지만, 위치가 다를 경우 `Ball`\n",
    "- 일치하는 숫자가 존재하며 위치도 같을 경우 `Strike`\n",
    "- 숫자와 위치가 모두 다른 경우 `Out`\n",
    "- `3 Strike` 이면 정답이며, `3 Out` 전에 숫자를 맞춰야 합니다 !\n",
    "- 기회는 `총 10번` 입니다"
   ]
  },
  {
   "cell_type": "markdown",
   "metadata": {},
   "source": [
    "**힌트**\n",
    "- **`input()`**을 사용하여 사용자로 부터 매 차례 숫자를 입력 받습니다\n",
    "- **`while문`**을 사용하여 게임을 반복합니다\n",
    "- **`for문`**과 **`if문`**을 사용하여 정답과 입력 받은 숫자를 순회하며 각 자리수를 비교합니다\n",
    "- 차례가 끝날 때 마다 `Ball`, `Strike`, `Out` 현황을 **`print()`** 하여 알려줍니다\n",
    "-  `Ball`과 `Strike`는 매 차례마다 초기화 되어야 하지만 `Out`은 누적됩니다\n",
    "- 정답일 경우와 패배일 경우 **`break문`**을 사용하여 **`while문`**을 탈출합니다"
   ]
  },
  {
   "cell_type": "code",
   "execution_count": 2,
   "metadata": {
    "scrolled": true
   },
   "outputs": [
    {
     "data": {
      "text/plain": [
       "623"
      ]
     },
     "execution_count": 2,
     "metadata": {},
     "output_type": "execute_result"
    }
   ],
   "source": [
    "### 자리수가 전부 다른 세자리 숫자 난수 생성\n",
    "\n",
    "import numpy as np\n",
    "\n",
    "while True:\n",
    "    ans = np.random.randint(100,1000)\n",
    "    if '0' not in str(ans):\n",
    "        if str(ans)[0] != str(ans)[1]:\n",
    "            if str(ans)[0] != str(ans)[2]:\n",
    "                if str(ans)[1] != str(ans)[2]:\n",
    "                    break\n",
    "\n",
    "ans"
   ]
  },
  {
   "cell_type": "code",
   "execution_count": 3,
   "metadata": {},
   "outputs": [],
   "source": [
    "# 하루 종일 해도 안되는 걸로 보아 소질이 없나봐요"
   ]
  },
  {
   "cell_type": "markdown",
   "metadata": {},
   "source": [
    "#### 3. 다음 오바마 연설문을 불러오는 코드를 실행 시키고 문제를 풀어보세요"
   ]
  },
  {
   "cell_type": "code",
   "execution_count": 4,
   "metadata": {},
   "outputs": [
    {
     "name": "stdout",
     "output_type": "stream",
     "text": [
      "Hello, Chicago.\r\n",
      "If there is anyone out there who still doubts that America is a place where all things are possible, who still wonders if the dream of our founders is alive in our time, who still questions the power of our democracy, tonight is your answer.\r\n",
      "\r\n",
      "It's the answer told by lines that stretched around schools and churches in numbers this nation has never seen, by people who waited three hours and four hours, many for the first time in their lives, because they believed that this time must be different, that their voices could be that difference.\r\n",
      "\r\n",
      "It's the answer spoken by young and old, rich and poor, Democrat and Republican, black, white, Hispanic, Asian, Native American, gay, straight, disabled and not disabled. Americans who sent a message to the world that we have never been just a collection of individuals or a collection of red states and blue states.\r\n",
      "\r\n",
      "We are, and always will be, the United States of America.\r\n",
      "\r\n",
      "It's the answer that led those who've been told for so long by so many to be cynical and fearful and doubtful about what we can achieve to put their hands on the arc of history and bend it on-ce more toward the hope of a better day.\r\n",
      "\r\n",
      "It's been a long time coming, but tonight, because of what we did on this date in this election at this defining moment change has come to America.\r\n",
      "\r\n",
      "A little bit earlier this evening, I received an extraordinarily gracious call from Sen. McCain.\r\n",
      "\r\n",
      "Don't Miss\r\n",
      "America votes for change\r\n",
      "Transcript of McCain's concession speech\r\n",
      "African-American centenarian votes\r\n",
      "Obama grandmother dies before election\r\n",
      "Presidential election results\r\n",
      "Sen. McCain fought long and hard in this campaign. And he's fought even longer and harder for the country that he loves. He has endured sacrifices for America that most of us cannot begin to imagine. We are better off for the service rendered by this brave and selfless leader.\r\n",
      "\r\n",
      "I congratulate him; I congratulate Gov. Palin for all that they've achieved. And I look forward to working with them to renew this nation's promise in the months ahead.\r\n",
      "\r\n",
      "I want to thank my partner in this journey, a man who campaigned from his heart, and spoke for the men and women he grew up with on the streets of Scranton and rode with on the train home to Delaware, the vice president-elect of the United States, Joe Biden.\r\n",
      "\r\n",
      "And I would not be standing here tonight without the unyielding support of my best friend for the last 16 years the rock of our family, the love of my life, the nation's next first lady Michelle Obama.\r\n",
      "\r\n",
      "Sasha and Malia I love you both more than you can imagine. And you have earned the new puppy that's coming with us to the new White House.\r\n",
      "\r\n",
      "And while she's no longer with us, I know my grandmother's watching, along with the family that made me who I am. I miss them tonight. I know that my debt to them is beyond measure.\r\n",
      "\r\n",
      "To my sister Maya, my sister Alma, all my other brothers and sisters, thank you so much for all the support that you've given me. I am grateful to them.\r\n",
      "\r\n",
      "And to my campaign manager, David Plouffe, the unsung hero of this campaign, who built the best -- the best political campaign, I think, in the history of the United States of America.\r\n",
      "\r\n",
      "To my chief strategist David Axelrod who's been a partner with me every step of the way.\r\n",
      "\r\n",
      "To the best campaign team ever assembled in the history of politics you made this happen, and I am forever grateful for what you've sacrificed to get it done.\r\n",
      "\r\n",
      "But above all, I will never forget who this victory truly belongs to. It belongs to you. It belongs to you.\r\n",
      "\r\n",
      "I was never the likeliest candidate for this office. We didn't start with much money or many endorsements. Our campaign was not hatched in the halls of Washington. It began in the backyards of Des Moines and the living rooms of Concord and the front porches of Charleston. It was built by working men and women who dug into what little savings they had to give $5 and $10 and $20 to the cause.\r\n",
      "\r\n",
      "It grew strength from the young people who rejected the myth of their generation's apathy who left their homes and their families for jobs that offered little pay and less sleep.\r\n",
      "\r\n",
      "It drew strength from the not-so-young people who braved the bitter cold and scorching heat to knock on doors of perfect strangers, and from the millions of Americans who volunteered and organized and proved that more than two centuries later a government of the people, by the people, and for the people has not perished from the Earth.\r\n",
      "\r\n",
      "This is your victory.\r\n",
      "And I know you didn't do this just to win an election. And I know you didn't do it for me.\r\n",
      "\r\n",
      "You did it because you understand the enormity of the task that lies ahead. For even as we celebrate tonight, we know the challenges that tomorrow will bring are the greatest of our lifetime -- two wars, a planet in peril, the worst financial crisis in a century.\r\n",
      "\r\n",
      "Even as we stand here tonight, we know there are brave Americans waking up in the deserts of Iraq and the mountains of Afghanistan to risk their lives for us.\r\n",
      "\r\n",
      "There are mothers and fathers who will lie awake after the children fall asleep and wonder how they'll make the mortgage or pay their doctors' bills or save enough for their child's college education.\r\n",
      "\r\n",
      "There's new energy to harness, new jobs to be created, new schools to build, and threats to meet, alliances to repair.\r\n",
      "\r\n",
      "The road ahead will be long. Our climb will be steep. We may not get there in on-e year or even in on-e term. But, America, I have never been more hopeful than I am tonight that we will get there.\r\n",
      "\r\n",
      "I promise you, we as a people will get there.\r\n",
      "There will be setbacks and false starts. There are many who won't agree with every decision or policy I make as president. And we know the government can't solve every problem.\r\n",
      "\r\n",
      "But I will always be honest with you about the challenges we face. I will listen to you, especially when we disagree. And, above all, I will ask you to join in the work of remaking this nation, the on-ly way it's been done in America for 221 years -- block by block, brick by brick, calloused hand by calloused hand.\r\n",
      "\r\n",
      "What began 21 months ago in the depths of winter cannot end on this autumn night.\r\n",
      "\r\n",
      "This victory alone is not the change we seek. It is on-ly the chance for us to make that change. And that cannot happen if we go back to the way things were.\r\n",
      "\r\n",
      "It can't happen without you, without a new spirit of service, a new spirit of sacrifice.\r\n",
      "\r\n",
      "So let us summon a new spirit of patriotism, of responsibility, where each of us resolves to pitch in and work harder and look after not on-ly ourselves but each other.\r\n",
      "\r\n",
      "Let us remember that, if this financial crisis taught us anything, it's that we cannot have a thriving Wall Street while Main Street suffers.\r\n",
      "\r\n",
      "In this country, we rise or fall as on-e nation, as on-e people. Let's resist the temptation to fall back on the same partisanship and pettiness and immaturity that has poisoned our politics for so long.\r\n",
      "\r\n",
      "Let's remember that it was a man from this state who first carried the banner of the Republican Party to the White House, a party founded on the values of self-reliance and individual liberty and national unity.\r\n",
      "\r\n",
      "Those are values that we all share. And while the Democratic Party has won a great victory tonight, we do so with a measure of humility and determination to heal the divides that have held back our progress.\r\n",
      "\r\n",
      "As Lincoln said to a nation far more divided than ours, we are not enemies but friends. Though passion may have strained, it must not break our bonds of affection.\r\n",
      "\r\n",
      "And to those Americans whose support I have yet to earn, I may not have won your vote tonight, but I hear your voices. I need your help. And I will be your president, too.\r\n",
      "\r\n",
      "And to all those watching tonight from beyond our shores, from parliaments and palaces, to those who are huddled around radios in the forgotten corners of the world, our stories are singular, but our destiny is shared, and a new dawn of American leadership is at hand.\r\n",
      "\r\n",
      "To those -- to those who would tear the world down: We will defeat you. To those who seek peace and security: We support you. And to all those who have wondered if America's beacon still burns as bright: Tonight we proved on-ce more that the true strength of our nation comes not from the might of our arms or the scale of our wealth, but from the enduring power of our ideals: democracy, liberty, opportunity and unyielding hope.\r\n",
      "\r\n",
      "That's the true genius of America: that America can change. Our union can be perfected. What we've already achieved gives us hope for what we can and must achieve tomorrow.\r\n",
      "\r\n",
      "This election had many firsts and many stories that will be told for generations. But on-e that's on my mind tonight's about a woman who cast her ballot in Atlanta. She's a lot like the millions of others who stood in line to make their voice heard in this election except for on-e thing: Ann Nixon Cooper is 106 years old.\r\n",
      "\r\n",
      "She was born just a generation past slavery; a time when there were no cars on the road or planes in the sky; when someone like her couldn't vote for two reasons -- because she was a woman and because of the color of her skin.\r\n",
      "\r\n",
      "And tonight, I think about all that she's seen throughout her century in America -- the heartache and the hope; the struggle and the progress; the times we were told that we can't, and the people who pressed on with that American creed: Yes we can.\r\n",
      "\r\n",
      "At a time when women's voices were silenced and their hopes dismissed, she lived to see them stand up and speak out and reach for the ballot. Yes we can.\r\n",
      "\r\n",
      "When there was despair in the dust bowl and depression across the land, she saw a nation conquer fear itself with a New Deal, new jobs, a new sense of common purpose. Yes we can.\r\n",
      "\r\n",
      "When the bombs fell on our harbor and tyranny threatened the world, she was there to witness a generation rise to greatness and a democracy was saved. Yes we can.\r\n",
      "\r\n",
      "She was there for the buses in Montgomery, the hoses in Birmingham, a bridge in Selma, and a preacher from Atlanta who told a people that \"We Shall Overcome.\" Yes we can.\r\n",
      "\r\n",
      "A man touched down on the moon, a wall came down in Berlin, a world was connected by our own science and imagination.\r\n",
      "\r\n",
      "And this year, in this election, she touched her finger to a screen, and cast her vote, because after 106 years in America, through the best of times and the darkest of hours, she knows how America can change.\r\n",
      "\r\n",
      "Yes we can.\r\n",
      "America, we have come so far. We have seen so much. But there is so much more to do. So tonight, let us ask ourselves -- if our children should live to see the next century; if my daughters should be so lucky to live as long as Ann Nixon Cooper, what change will they see? What progress will we have made?\r\n",
      "\r\n",
      "This is our chance to answer that call. This is our moment.\r\n",
      "\r\n",
      "This is our time, to put our people back to work and open doors of opportunity for our kids; to restore prosperity and promote the cause of peace; to reclaim the American dream and reaffirm that fundamental truth, that, out of many, we are on-e; that while we breathe, we hope. And where we are met with cynicism and doubts and those who tell us that we can't, we will respond with that timeless creed that sums up the spirit of a people: Yes, we can.\r\n",
      "\r\n",
      "Thank you. God bless you. And may God bless the United States of America.\n"
     ]
    }
   ],
   "source": [
    "import requests\n",
    "\n",
    "url = 'http://cfile221.uf.daum.net/attach/1332E3064975C0E70F1AFF' ## 오바마 연설문 화일\n",
    "res = requests.get(url)\n",
    "text = res.text\n",
    "print(text)"
   ]
  },
  {
   "cell_type": "code",
   "execution_count": 5,
   "metadata": {},
   "outputs": [
    {
     "name": "stdout",
     "output_type": "stream",
     "text": [
      "['Hello,', 'Chicago.', 'If', 'there', 'is', 'anyone', 'out', 'there', 'who', 'still', 'doubts', 'that', 'America', 'is', 'a', 'place', 'where', 'all', 'things', 'are', 'possible,', 'who', 'still', 'wonders', 'if', 'the', 'dream', 'of', 'our', 'founders', 'is', 'alive', 'in', 'our', 'time,', 'who', 'still', 'questions', 'the', 'power', 'of', 'our', 'democracy,', 'tonight', 'is', 'your', 'answer.', \"It's\", 'the', 'answer', 'told', 'by', 'lines', 'that', 'stretched', 'around', 'schools', 'and', 'churches', 'in', 'numbers', 'this', 'nation', 'has', 'never', 'seen,', 'by', 'people', 'who', 'waited', 'three', 'hours', 'and', 'four', 'hours,', 'many', 'for', 'the', 'first', 'time', 'in', 'their', 'lives,', 'because', 'they', 'believed', 'that', 'this', 'time', 'must', 'be', 'different,', 'that', 'their', 'voices', 'could', 'be', 'that', 'difference.', \"It's\", 'the', 'answer', 'spoken', 'by', 'young', 'and', 'old,', 'rich', 'and', 'poor,', 'Democrat', 'and', 'Republican,', 'black,', 'white,', 'Hispanic,', 'Asian,', 'Native', 'American,', 'gay,', 'straight,', 'disabled', 'and', 'not', 'disabled.', 'Americans', 'who', 'sent', 'a', 'message', 'to', 'the', 'world', 'that', 'we', 'have', 'never', 'been', 'just', 'a', 'collection', 'of', 'individuals', 'or', 'a', 'collection', 'of', 'red', 'states', 'and', 'blue', 'states.', 'We', 'are,', 'and', 'always', 'will', 'be,', 'the', 'United', 'States', 'of', 'America.', \"It's\", 'the', 'answer', 'that', 'led', 'those', \"who've\", 'been', 'told', 'for', 'so', 'long', 'by', 'so', 'many', 'to', 'be', 'cynical', 'and', 'fearful', 'and', 'doubtful', 'about', 'what', 'we', 'can', 'achieve', 'to', 'put', 'their', 'hands', 'on', 'the', 'arc', 'of', 'history', 'and', 'bend', 'it', 'on-ce', 'more', 'toward', 'the', 'hope', 'of', 'a', 'better', 'day.', \"It's\", 'been', 'a', 'long', 'time', 'coming,', 'but', 'tonight,', 'because', 'of', 'what', 'we', 'did', 'on', 'this', 'date', 'in', 'this', 'election', 'at', 'this', 'defining', 'moment', 'change', 'has', 'come', 'to', 'America.', 'A', 'little', 'bit', 'earlier', 'this', 'evening,', 'I', 'received', 'an', 'extraordinarily', 'gracious', 'call', 'from', 'Sen.', 'McCain.', \"Don't\", 'Miss', 'America', 'votes', 'for', 'change', 'Transcript', 'of', \"McCain's\", 'concession', 'speech', 'African-American', 'centenarian', 'votes', 'Obama', 'grandmother', 'dies', 'before', 'election', 'Presidential', 'election', 'results', 'Sen.', 'McCain', 'fought', 'long', 'and', 'hard', 'in', 'this', 'campaign.', 'And', \"he's\", 'fought', 'even', 'longer', 'and', 'harder', 'for', 'the', 'country', 'that', 'he', 'loves.', 'He', 'has', 'endured', 'sacrifices', 'for', 'America', 'that', 'most', 'of', 'us', 'cannot', 'begin', 'to', 'imagine.', 'We', 'are', 'better', 'off', 'for', 'the', 'service', 'rendered', 'by', 'this', 'brave', 'and', 'selfless', 'leader.', 'I', 'congratulate', 'him;', 'I', 'congratulate', 'Gov.', 'Palin', 'for', 'all', 'that', \"they've\", 'achieved.', 'And', 'I', 'look', 'forward', 'to', 'working', 'with', 'them', 'to', 'renew', 'this', \"nation's\", 'promise', 'in', 'the', 'months', 'ahead.', 'I', 'want', 'to', 'thank', 'my', 'partner', 'in', 'this', 'journey,', 'a', 'man', 'who', 'campaigned', 'from', 'his', 'heart,', 'and', 'spoke', 'for', 'the', 'men', 'and', 'women', 'he', 'grew', 'up', 'with', 'on', 'the', 'streets', 'of', 'Scranton', 'and', 'rode', 'with', 'on', 'the', 'train', 'home', 'to', 'Delaware,', 'the', 'vice', 'president-elect', 'of', 'the', 'United', 'States,', 'Joe', 'Biden.', 'And', 'I', 'would', 'not', 'be', 'standing', 'here', 'tonight', 'without', 'the', 'unyielding', 'support', 'of', 'my', 'best', 'friend', 'for', 'the', 'last', '16', 'years', 'the', 'rock', 'of', 'our', 'family,', 'the', 'love', 'of', 'my', 'life,', 'the', \"nation's\", 'next', 'first', 'lady', 'Michelle', 'Obama.', 'Sasha', 'and', 'Malia', 'I', 'love', 'you', 'both', 'more', 'than', 'you', 'can', 'imagine.', 'And', 'you', 'have', 'earned', 'the', 'new', 'puppy', \"that's\", 'coming', 'with', 'us', 'to', 'the', 'new', 'White', 'House.', 'And', 'while', \"she's\", 'no', 'longer', 'with', 'us,', 'I', 'know', 'my', \"grandmother's\", 'watching,', 'along', 'with', 'the', 'family', 'that', 'made', 'me', 'who', 'I', 'am.', 'I', 'miss', 'them', 'tonight.', 'I', 'know', 'that', 'my', 'debt', 'to', 'them', 'is', 'beyond', 'measure.', 'To', 'my', 'sister', 'Maya,', 'my', 'sister', 'Alma,', 'all', 'my', 'other', 'brothers', 'and', 'sisters,', 'thank', 'you', 'so', 'much', 'for', 'all', 'the', 'support', 'that', \"you've\", 'given', 'me.', 'I', 'am', 'grateful', 'to', 'them.', 'And', 'to', 'my', 'campaign', 'manager,', 'David', 'Plouffe,', 'the', 'unsung', 'hero', 'of', 'this', 'campaign,', 'who', 'built', 'the', 'best', '--', 'the', 'best', 'political', 'campaign,', 'I', 'think,', 'in', 'the', 'history', 'of', 'the', 'United', 'States', 'of', 'America.', 'To', 'my', 'chief', 'strategist', 'David', 'Axelrod', \"who's\", 'been', 'a', 'partner', 'with', 'me', 'every', 'step', 'of', 'the', 'way.', 'To', 'the', 'best', 'campaign', 'team', 'ever', 'assembled', 'in', 'the', 'history', 'of', 'politics', 'you', 'made', 'this', 'happen,', 'and', 'I', 'am', 'forever', 'grateful', 'for', 'what', \"you've\", 'sacrificed', 'to', 'get', 'it', 'done.', 'But', 'above', 'all,', 'I', 'will', 'never', 'forget', 'who', 'this', 'victory', 'truly', 'belongs', 'to.', 'It', 'belongs', 'to', 'you.', 'It', 'belongs', 'to', 'you.', 'I', 'was', 'never', 'the', 'likeliest', 'candidate', 'for', 'this', 'office.', 'We', \"didn't\", 'start', 'with', 'much', 'money', 'or', 'many', 'endorsements.', 'Our', 'campaign', 'was', 'not', 'hatched', 'in', 'the', 'halls', 'of', 'Washington.', 'It', 'began', 'in', 'the', 'backyards', 'of', 'Des', 'Moines', 'and', 'the', 'living', 'rooms', 'of', 'Concord', 'and', 'the', 'front', 'porches', 'of', 'Charleston.', 'It', 'was', 'built', 'by', 'working', 'men', 'and', 'women', 'who', 'dug', 'into', 'what', 'little', 'savings', 'they', 'had', 'to', 'give', '$5', 'and', '$10', 'and', '$20', 'to', 'the', 'cause.', 'It', 'grew', 'strength', 'from', 'the', 'young', 'people', 'who', 'rejected', 'the', 'myth', 'of', 'their', \"generation's\", 'apathy', 'who', 'left', 'their', 'homes', 'and', 'their', 'families', 'for', 'jobs', 'that', 'offered', 'little', 'pay', 'and', 'less', 'sleep.', 'It', 'drew', 'strength', 'from', 'the', 'not-so-young', 'people', 'who', 'braved', 'the', 'bitter', 'cold', 'and', 'scorching', 'heat', 'to', 'knock', 'on', 'doors', 'of', 'perfect', 'strangers,', 'and', 'from', 'the', 'millions', 'of', 'Americans', 'who', 'volunteered', 'and', 'organized', 'and', 'proved', 'that', 'more', 'than', 'two', 'centuries', 'later', 'a', 'government', 'of', 'the', 'people,', 'by', 'the', 'people,', 'and', 'for', 'the', 'people', 'has', 'not', 'perished', 'from', 'the', 'Earth.', 'This', 'is', 'your', 'victory.', 'And', 'I', 'know', 'you', \"didn't\", 'do', 'this', 'just', 'to', 'win', 'an', 'election.', 'And', 'I', 'know', 'you', \"didn't\", 'do', 'it', 'for', 'me.', 'You', 'did', 'it', 'because', 'you', 'understand', 'the', 'enormity', 'of', 'the', 'task', 'that', 'lies', 'ahead.', 'For', 'even', 'as', 'we', 'celebrate', 'tonight,', 'we', 'know', 'the', 'challenges', 'that', 'tomorrow', 'will', 'bring', 'are', 'the', 'greatest', 'of', 'our', 'lifetime', '--', 'two', 'wars,', 'a', 'planet', 'in', 'peril,', 'the', 'worst', 'financial', 'crisis', 'in', 'a', 'century.', 'Even', 'as', 'we', 'stand', 'here', 'tonight,', 'we', 'know', 'there', 'are', 'brave', 'Americans', 'waking', 'up', 'in', 'the', 'deserts', 'of', 'Iraq', 'and', 'the', 'mountains', 'of', 'Afghanistan', 'to', 'risk', 'their', 'lives', 'for', 'us.', 'There', 'are', 'mothers', 'and', 'fathers', 'who', 'will', 'lie', 'awake', 'after', 'the', 'children', 'fall', 'asleep', 'and', 'wonder', 'how', \"they'll\", 'make', 'the', 'mortgage', 'or', 'pay', 'their', \"doctors'\", 'bills', 'or', 'save', 'enough', 'for', 'their', \"child's\", 'college', 'education.', \"There's\", 'new', 'energy', 'to', 'harness,', 'new', 'jobs', 'to', 'be', 'created,', 'new', 'schools', 'to', 'build,', 'and', 'threats', 'to', 'meet,', 'alliances', 'to', 'repair.', 'The', 'road', 'ahead', 'will', 'be', 'long.', 'Our', 'climb', 'will', 'be', 'steep.', 'We', 'may', 'not', 'get', 'there', 'in', 'on-e', 'year', 'or', 'even', 'in', 'on-e', 'term.', 'But,', 'America,', 'I', 'have', 'never', 'been', 'more', 'hopeful', 'than', 'I', 'am', 'tonight', 'that', 'we', 'will', 'get', 'there.', 'I', 'promise', 'you,', 'we', 'as', 'a', 'people', 'will', 'get', 'there.', 'There', 'will', 'be', 'setbacks', 'and', 'false', 'starts.', 'There', 'are', 'many', 'who', \"won't\", 'agree', 'with', 'every', 'decision', 'or', 'policy', 'I', 'make', 'as', 'president.', 'And', 'we', 'know', 'the', 'government', \"can't\", 'solve', 'every', 'problem.', 'But', 'I', 'will', 'always', 'be', 'honest', 'with', 'you', 'about', 'the', 'challenges', 'we', 'face.', 'I', 'will', 'listen', 'to', 'you,', 'especially', 'when', 'we', 'disagree.', 'And,', 'above', 'all,', 'I', 'will', 'ask', 'you', 'to', 'join', 'in', 'the', 'work', 'of', 'remaking', 'this', 'nation,', 'the', 'on-ly', 'way', \"it's\", 'been', 'done', 'in', 'America', 'for', '221', 'years', '--', 'block', 'by', 'block,', 'brick', 'by', 'brick,', 'calloused', 'hand', 'by', 'calloused', 'hand.', 'What', 'began', '21', 'months', 'ago', 'in', 'the', 'depths', 'of', 'winter', 'cannot', 'end', 'on', 'this', 'autumn', 'night.', 'This', 'victory', 'alone', 'is', 'not', 'the', 'change', 'we', 'seek.', 'It', 'is', 'on-ly', 'the', 'chance', 'for', 'us', 'to', 'make', 'that', 'change.', 'And', 'that', 'cannot', 'happen', 'if', 'we', 'go', 'back', 'to', 'the', 'way', 'things', 'were.', 'It', \"can't\", 'happen', 'without', 'you,', 'without', 'a', 'new', 'spirit', 'of', 'service,', 'a', 'new', 'spirit', 'of', 'sacrifice.', 'So', 'let', 'us', 'summon', 'a', 'new', 'spirit', 'of', 'patriotism,', 'of', 'responsibility,', 'where', 'each', 'of', 'us', 'resolves', 'to', 'pitch', 'in', 'and', 'work', 'harder', 'and', 'look', 'after', 'not', 'on-ly', 'ourselves', 'but', 'each', 'other.', 'Let', 'us', 'remember', 'that,', 'if', 'this', 'financial', 'crisis', 'taught', 'us', 'anything,', \"it's\", 'that', 'we', 'cannot', 'have', 'a', 'thriving', 'Wall', 'Street', 'while', 'Main', 'Street', 'suffers.', 'In', 'this', 'country,', 'we', 'rise', 'or', 'fall', 'as', 'on-e', 'nation,', 'as', 'on-e', 'people.', \"Let's\", 'resist', 'the', 'temptation', 'to', 'fall', 'back', 'on', 'the', 'same', 'partisanship', 'and', 'pettiness', 'and', 'immaturity', 'that', 'has', 'poisoned', 'our', 'politics', 'for', 'so', 'long.', \"Let's\", 'remember', 'that', 'it', 'was', 'a', 'man', 'from', 'this', 'state', 'who', 'first', 'carried', 'the', 'banner', 'of', 'the', 'Republican', 'Party', 'to', 'the', 'White', 'House,', 'a', 'party', 'founded', 'on', 'the', 'values', 'of', 'self-reliance', 'and', 'individual', 'liberty', 'and', 'national', 'unity.', 'Those', 'are', 'values', 'that', 'we', 'all', 'share.', 'And', 'while', 'the', 'Democratic', 'Party', 'has', 'won', 'a', 'great', 'victory', 'tonight,', 'we', 'do', 'so', 'with', 'a', 'measure', 'of', 'humility', 'and', 'determination', 'to', 'heal', 'the', 'divides', 'that', 'have', 'held', 'back', 'our', 'progress.', 'As', 'Lincoln', 'said', 'to', 'a', 'nation', 'far', 'more', 'divided', 'than', 'ours,', 'we', 'are', 'not', 'enemies', 'but', 'friends.', 'Though', 'passion', 'may', 'have', 'strained,', 'it', 'must', 'not', 'break', 'our', 'bonds', 'of', 'affection.', 'And', 'to', 'those', 'Americans', 'whose', 'support', 'I', 'have', 'yet', 'to', 'earn,', 'I', 'may', 'not', 'have', 'won', 'your', 'vote', 'tonight,', 'but', 'I', 'hear', 'your', 'voices.', 'I', 'need', 'your', 'help.', 'And', 'I', 'will', 'be', 'your', 'president,', 'too.', 'And', 'to', 'all', 'those', 'watching', 'tonight', 'from', 'beyond', 'our', 'shores,', 'from', 'parliaments', 'and', 'palaces,', 'to', 'those', 'who', 'are', 'huddled', 'around', 'radios', 'in', 'the', 'forgotten', 'corners', 'of', 'the', 'world,', 'our', 'stories', 'are', 'singular,', 'but', 'our', 'destiny', 'is', 'shared,', 'and', 'a', 'new', 'dawn', 'of', 'American', 'leadership', 'is', 'at', 'hand.', 'To', 'those', '--', 'to', 'those', 'who', 'would', 'tear', 'the', 'world', 'down:', 'We', 'will', 'defeat', 'you.', 'To', 'those', 'who', 'seek', 'peace', 'and', 'security:', 'We', 'support', 'you.', 'And', 'to', 'all', 'those', 'who', 'have', 'wondered', 'if', \"America's\", 'beacon', 'still', 'burns', 'as', 'bright:', 'Tonight', 'we', 'proved', 'on-ce', 'more', 'that', 'the', 'true', 'strength', 'of', 'our', 'nation', 'comes', 'not', 'from', 'the', 'might', 'of', 'our', 'arms', 'or', 'the', 'scale', 'of', 'our', 'wealth,', 'but', 'from', 'the', 'enduring', 'power', 'of', 'our', 'ideals:', 'democracy,', 'liberty,', 'opportunity', 'and', 'unyielding', 'hope.', \"That's\", 'the', 'true', 'genius', 'of', 'America:', 'that', 'America', 'can', 'change.', 'Our', 'union', 'can', 'be', 'perfected.', 'What', \"we've\", 'already', 'achieved', 'gives', 'us', 'hope', 'for', 'what', 'we', 'can', 'and', 'must', 'achieve', 'tomorrow.', 'This', 'election', 'had', 'many', 'firsts', 'and', 'many', 'stories', 'that', 'will', 'be', 'told', 'for', 'generations.', 'But', 'on-e', \"that's\", 'on', 'my', 'mind', \"tonight's\", 'about', 'a', 'woman', 'who', 'cast', 'her', 'ballot', 'in', 'Atlanta.', \"She's\", 'a', 'lot', 'like', 'the', 'millions', 'of', 'others', 'who', 'stood', 'in', 'line', 'to', 'make', 'their', 'voice', 'heard', 'in', 'this', 'election', 'except', 'for', 'on-e', 'thing:', 'Ann', 'Nixon', 'Cooper', 'is', '106', 'years', 'old.', 'She', 'was', 'born', 'just', 'a', 'generation', 'past', 'slavery;', 'a', 'time', 'when', 'there', 'were', 'no', 'cars', 'on', 'the', 'road', 'or', 'planes', 'in', 'the', 'sky;', 'when', 'someone', 'like', 'her', \"couldn't\", 'vote', 'for', 'two', 'reasons', '--', 'because', 'she', 'was', 'a', 'woman', 'and', 'because', 'of', 'the', 'color', 'of', 'her', 'skin.', 'And', 'tonight,', 'I', 'think', 'about', 'all', 'that', \"she's\", 'seen', 'throughout', 'her', 'century', 'in', 'America', '--', 'the', 'heartache', 'and', 'the', 'hope;', 'the', 'struggle', 'and', 'the', 'progress;', 'the', 'times', 'we', 'were', 'told', 'that', 'we', \"can't,\", 'and', 'the', 'people', 'who', 'pressed', 'on', 'with', 'that', 'American', 'creed:', 'Yes', 'we', 'can.', 'At', 'a', 'time', 'when', \"women's\", 'voices', 'were', 'silenced', 'and', 'their', 'hopes', 'dismissed,', 'she', 'lived', 'to', 'see', 'them', 'stand', 'up', 'and', 'speak', 'out', 'and', 'reach', 'for', 'the', 'ballot.', 'Yes', 'we', 'can.', 'When', 'there', 'was', 'despair', 'in', 'the', 'dust', 'bowl', 'and', 'depression', 'across', 'the', 'land,', 'she', 'saw', 'a', 'nation', 'conquer', 'fear', 'itself', 'with', 'a', 'New', 'Deal,', 'new', 'jobs,', 'a', 'new', 'sense', 'of', 'common', 'purpose.', 'Yes', 'we', 'can.', 'When', 'the', 'bombs', 'fell', 'on', 'our', 'harbor', 'and', 'tyranny', 'threatened', 'the', 'world,', 'she', 'was', 'there', 'to', 'witness', 'a', 'generation', 'rise', 'to', 'greatness', 'and', 'a', 'democracy', 'was', 'saved.', 'Yes', 'we', 'can.', 'She', 'was', 'there', 'for', 'the', 'buses', 'in', 'Montgomery,', 'the', 'hoses', 'in', 'Birmingham,', 'a', 'bridge', 'in', 'Selma,', 'and', 'a', 'preacher', 'from', 'Atlanta', 'who', 'told', 'a', 'people', 'that', '\"We', 'Shall', 'Overcome.\"', 'Yes', 'we', 'can.', 'A', 'man', 'touched', 'down', 'on', 'the', 'moon,', 'a', 'wall', 'came', 'down', 'in', 'Berlin,', 'a', 'world', 'was', 'connected', 'by', 'our', 'own', 'science', 'and', 'imagination.', 'And', 'this', 'year,', 'in', 'this', 'election,', 'she', 'touched', 'her', 'finger', 'to', 'a', 'screen,', 'and', 'cast', 'her', 'vote,', 'because', 'after', '106', 'years', 'in', 'America,', 'through', 'the', 'best', 'of', 'times', 'and', 'the', 'darkest', 'of', 'hours,', 'she', 'knows', 'how', 'America', 'can', 'change.', 'Yes', 'we', 'can.', 'America,', 'we', 'have', 'come', 'so', 'far.', 'We', 'have', 'seen', 'so', 'much.', 'But', 'there', 'is', 'so', 'much', 'more', 'to', 'do.', 'So', 'tonight,', 'let', 'us', 'ask', 'ourselves', '--', 'if', 'our', 'children', 'should', 'live', 'to', 'see', 'the', 'next', 'century;', 'if', 'my', 'daughters', 'should', 'be', 'so', 'lucky', 'to', 'live', 'as', 'long', 'as', 'Ann', 'Nixon', 'Cooper,', 'what', 'change', 'will', 'they', 'see?', 'What', 'progress', 'will', 'we', 'have', 'made?', 'This', 'is', 'our', 'chance', 'to', 'answer', 'that', 'call.', 'This', 'is', 'our', 'moment.', 'This', 'is', 'our', 'time,', 'to', 'put', 'our', 'people', 'back', 'to', 'work', 'and', 'open', 'doors', 'of', 'opportunity', 'for', 'our', 'kids;', 'to', 'restore', 'prosperity', 'and', 'promote', 'the', 'cause', 'of', 'peace;', 'to', 'reclaim', 'the', 'American', 'dream', 'and', 'reaffirm', 'that', 'fundamental', 'truth,', 'that,', 'out', 'of', 'many,', 'we', 'are', 'on-e;', 'that', 'while', 'we', 'breathe,', 'we', 'hope.', 'And', 'where', 'we', 'are', 'met', 'with', 'cynicism', 'and', 'doubts', 'and', 'those', 'who', 'tell', 'us', 'that', 'we', \"can't,\", 'we', 'will', 'respond', 'with', 'that', 'timeless', 'creed', 'that', 'sums', 'up', 'the', 'spirit', 'of', 'a', 'people:', 'Yes,', 'we', 'can.', 'Thank', 'you.', 'God', 'bless', 'you.', 'And', 'may', 'God', 'bless', 'the', 'United', 'States', 'of', 'America.']\n"
     ]
    }
   ],
   "source": [
    "words = text.split()\n",
    "print(words)"
   ]
  },
  {
   "cell_type": "markdown",
   "metadata": {},
   "source": [
    "1) 본문에서 'America'가 처음 등장하는 위치를 반환해보세요. 또, 총 몇 번 등장했는지 알 수 있는 코드를 작성해보세요."
   ]
  },
  {
   "cell_type": "markdown",
   "metadata": {},
   "source": [
    "- 두 문제 모두 정규표현식을 사용해보세요\n",
    "- 등장횟수는 **`len()`** 함수를 통해 간단하게 알아낼 수 있겠죠 ???? 다른 방법이 있으시다면 마음껏 적어주세요 !! ㅎ"
   ]
  },
  {
   "cell_type": "code",
   "execution_count": 6,
   "metadata": {},
   "outputs": [
    {
     "name": "stdout",
     "output_type": "stream",
     "text": [
      "<re.Match object; span=(68, 75), match='America'>\n",
      "25\n"
     ]
    }
   ],
   "source": [
    "import re\n",
    "\n",
    "print(re.search('America',text))\n",
    "\n",
    "America_count = re.findall('America',text)\n",
    "print(len(America_count))"
   ]
  },
  {
   "cell_type": "markdown",
   "metadata": {},
   "source": [
    "2) 본문에 '-'가 2번 이상 등장한 경우, 이를 한번으로 대체하는 코드를 작성해보세요."
   ]
  },
  {
   "cell_type": "code",
   "execution_count": 7,
   "metadata": {},
   "outputs": [],
   "source": [
    "대체 = re.sub('--','-',text)"
   ]
  },
  {
   "cell_type": "markdown",
   "metadata": {},
   "source": [
    "3) words에 저장된 list형태의 자료를 활용하여 각 단어의 글자수를 저장한 list를 만들어보세요.\n",
    "- **`lambda`**를 활용해 보세요\n",
    "- 일반적인 문자를 찾아주는 정규 표현식을 사용하여 풀어주세요"
   ]
  },
  {
   "cell_type": "code",
   "execution_count": 8,
   "metadata": {},
   "outputs": [
    {
     "name": "stdout",
     "output_type": "stream",
     "text": [
      "방법1. 반복문\n",
      "[6, 8, 2, 5, 2, 6, 3, 5, 3, 5, 6, 4, 7, 2, 1, 5, 5, 3, 6, 3, 9, 3, 5, 7, 2, 3, 5, 2, 3, 8, 2, 5, 2, 3, 5, 3, 5, 9, 3, 5, 2, 3, 10, 7, 2, 4, 7, 4, 3, 6, 4, 2, 5, 4, 9, 6, 7, 3, 8, 2, 7, 4, 6, 3, 5, 5, 2, 6, 3, 6, 5, 5, 3, 4, 6, 4, 3, 3, 5, 4, 2, 5, 6, 7, 4, 8, 4, 4, 4, 4, 2, 10, 4, 5, 6, 5, 2, 4, 11, 4, 3, 6, 6, 2, 5, 3, 4, 4, 3, 5, 8, 3, 11, 6, 6, 9, 6, 6, 9, 4, 9, 8, 3, 3, 9, 9, 3, 4, 1, 7, 2, 3, 5, 4, 2, 4, 5, 4, 4, 1, 10, 2, 11, 2, 1, 10, 2, 3, 6, 3, 4, 7, 2, 4, 3, 6, 4, 3, 3, 6, 6, 2, 8, 4, 3, 6, 4, 3, 5, 6, 4, 4, 3, 2, 4, 2, 2, 4, 2, 2, 7, 3, 7, 3, 8, 5, 4, 2, 3, 7, 2, 3, 5, 5, 2, 3, 3, 2, 7, 3, 4, 2, 5, 4, 6, 3, 4, 2, 1, 6, 4, 4, 4, 1, 4, 4, 7, 3, 8, 7, 2, 4, 2, 3, 2, 4, 4, 2, 4, 8, 2, 4, 8, 6, 6, 3, 4, 2, 8, 1, 6, 3, 7, 4, 8, 1, 8, 2, 15, 8, 4, 4, 4, 7, 5, 4, 7, 5, 3, 6, 10, 2, 8, 10, 6, 16, 11, 5, 5, 11, 4, 6, 8, 12, 8, 7, 4, 6, 6, 4, 3, 4, 2, 4, 9, 3, 4, 6, 4, 6, 3, 6, 3, 3, 7, 4, 2, 6, 2, 3, 7, 10, 3, 7, 4, 4, 2, 2, 6, 5, 2, 8, 2, 3, 6, 3, 3, 3, 7, 8, 2, 4, 5, 3, 8, 7, 1, 12, 4, 1, 12, 4, 5, 3, 3, 4, 7, 9, 3, 1, 4, 7, 2, 7, 4, 4, 2, 5, 4, 8, 7, 2, 3, 6, 6, 1, 4, 2, 5, 2, 7, 2, 4, 8, 1, 3, 3, 10, 4, 3, 6, 3, 5, 3, 3, 3, 3, 5, 2, 4, 2, 4, 2, 3, 7, 2, 8, 3, 4, 4, 2, 3, 5, 4, 2, 9, 3, 4, 15, 2, 3, 6, 7, 3, 6, 3, 1, 5, 3, 2, 8, 4, 7, 7, 3, 10, 7, 2, 2, 4, 6, 3, 3, 4, 2, 5, 3, 4, 2, 3, 7, 3, 4, 2, 2, 5, 3, 8, 4, 5, 4, 8, 6, 5, 3, 5, 1, 4, 3, 4, 4, 4, 3, 3, 8, 3, 3, 4, 6, 3, 3, 5, 6, 6, 4, 2, 2, 3, 3, 5, 6, 3, 5, 5, 2, 6, 4, 3, 1, 4, 2, 13, 9, 5, 4, 3, 6, 4, 4, 2, 3, 1, 3, 1, 4, 4, 8, 1, 4, 4, 2, 4, 2, 4, 2, 6, 8, 2, 2, 6, 5, 2, 6, 5, 3, 2, 5, 8, 3, 8, 5, 3, 2, 4, 3, 3, 3, 7, 4, 6, 5, 3, 1, 2, 8, 2, 5, 3, 2, 2, 8, 8, 5, 8, 3, 6, 4, 2, 4, 9, 3, 5, 3, 4, 2, 3, 4, 9, 9, 1, 6, 2, 3, 7, 2, 3, 6, 6, 2, 8, 2, 2, 5, 10, 5, 7, 5, 4, 1, 7, 4, 2, 5, 4, 2, 3, 4, 2, 3, 4, 8, 4, 4, 9, 2, 3, 7, 2, 8, 3, 4, 4, 7, 3, 1, 2, 7, 8, 3, 4, 6, 10, 2, 3, 2, 5, 3, 5, 4, 1, 4, 5, 6, 3, 4, 7, 5, 7, 3, 2, 7, 2, 4, 2, 7, 2, 4, 1, 3, 5, 3, 9, 9, 3, 4, 7, 2, 6, 5, 4, 4, 5, 2, 4, 13, 3, 8, 3, 3, 7, 2, 3, 5, 2, 11, 2, 5, 2, 3, 9, 2, 3, 6, 3, 3, 6, 5, 2, 7, 3, 3, 5, 7, 2, 11, 2, 3, 5, 2, 7, 3, 3, 5, 3, 3, 4, 4, 6, 7, 4, 3, 2, 4, 2, 3, 3, 3, 3, 2, 3, 6, 2, 4, 8, 4, 3, 5, 6, 3, 8, 3, 4, 2, 5, 12, 6, 3, 4, 5, 5, 3, 5, 8, 3, 4, 4, 7, 6, 3, 3, 4, 6, 2, 4, 8, 4, 3, 12, 6, 3, 6, 3, 6, 4, 3, 9, 4, 2, 5, 2, 5, 2, 7, 10, 3, 4, 3, 8, 2, 9, 3, 11, 3, 9, 3, 6, 4, 4, 4, 3, 9, 5, 1, 10, 2, 3, 7, 2, 3, 7, 3, 3, 3, 6, 3, 3, 8, 4, 3, 6, 4, 2, 4, 8, 3, 1, 4, 3, 6, 2, 4, 4, 2, 3, 2, 9, 3, 1, 4, 3, 6, 2, 2, 3, 3, 3, 3, 2, 7, 3, 10, 3, 8, 2, 3, 4, 4, 4, 6, 3, 4, 2, 2, 9, 8, 2, 4, 3, 10, 4, 8, 4, 5, 3, 3, 8, 2, 3, 8, 2, 3, 5, 1, 6, 2, 6, 3, 5, 9, 6, 2, 1, 8, 4, 2, 2, 5, 4, 8, 2, 4, 5, 3, 5, 9, 6, 2, 2, 3, 7, 2, 4, 3, 3, 9, 2, 11, 2, 4, 5, 5, 3, 3, 5, 3, 7, 3, 7, 3, 4, 3, 5, 5, 3, 8, 4, 6, 3, 6, 3, 7, 4, 3, 8, 2, 3, 5, 8, 5, 2, 4, 6, 3, 5, 7, 7, 10, 7, 3, 6, 2, 8, 3, 4, 2, 2, 8, 3, 7, 2, 6, 3, 7, 2, 5, 9, 2, 7, 3, 4, 5, 4, 2, 5, 3, 5, 4, 2, 6, 2, 3, 3, 3, 5, 2, 4, 4, 2, 4, 2, 4, 5, 4, 8, 1, 4, 5, 4, 4, 7, 4, 1, 2, 7, 4, 2, 4, 3, 6, 1, 7, 4, 2, 2, 1, 6, 4, 3, 6, 5, 4, 2, 8, 3, 5, 7, 5, 3, 4, 3, 5, 5, 4, 5, 8, 2, 6, 1, 4, 2, 10, 3, 2, 4, 3, 10, 5, 5, 5, 8, 3, 1, 4, 6, 2, 6, 4, 3, 5, 3, 10, 2, 5, 1, 4, 6, 2, 4, 10, 4, 2, 9, 4, 5, 4, 1, 4, 3, 3, 2, 4, 2, 3, 4, 2, 8, 4, 7, 3, 5, 3, 4, 4, 4, 2, 7, 3, 3, 5, 2, 5, 2, 6, 5, 2, 6, 9, 4, 2, 9, 5, 4, 5, 2, 6, 3, 2, 3, 6, 2, 6, 6, 3, 2, 4, 6, 6, 4, 7, 5, 2, 3, 3, 6, 2, 5, 2, 2, 5, 3, 6, 3, 2, 2, 4, 4, 7, 3, 4, 6, 6, 2, 2, 2, 4, 2, 3, 3, 6, 5, 2, 5, 6, 7, 4, 7, 1, 3, 6, 2, 8, 1, 3, 6, 2, 10, 2, 3, 2, 6, 1, 3, 6, 2, 11, 2, 15, 5, 4, 2, 2, 8, 2, 5, 2, 3, 4, 6, 3, 4, 5, 3, 5, 9, 3, 4, 6, 3, 2, 8, 5, 2, 4, 9, 6, 6, 2, 9, 4, 4, 2, 6, 4, 1, 8, 4, 6, 5, 4, 6, 8, 2, 4, 8, 2, 4, 2, 4, 2, 4, 7, 2, 4, 7, 5, 6, 3, 10, 2, 4, 4, 2, 3, 4, 12, 3, 9, 3, 10, 4, 3, 8, 3, 8, 3, 2, 5, 5, 8, 4, 2, 3, 1, 3, 4, 4, 5, 3, 5, 7, 3, 6, 2, 3, 10, 5, 2, 3, 5, 6, 1, 5, 7, 2, 3, 6, 2, 13, 3, 10, 7, 3, 8, 6, 5, 3, 6, 4, 2, 3, 6, 3, 5, 3, 10, 5, 3, 3, 1, 5, 7, 8, 2, 2, 2, 4, 1, 7, 2, 8, 3, 13, 2, 4, 3, 7, 4, 4, 4, 4, 3, 9, 2, 7, 4, 2, 1, 6, 3, 4, 7, 4, 5, 2, 3, 3, 7, 3, 8, 6, 7, 3, 4, 9, 2, 4, 3, 5, 3, 5, 2, 10, 3, 2, 5, 9, 5, 7, 1, 4, 3, 2, 5, 1, 3, 3, 4, 3, 4, 4, 8, 3, 1, 4, 4, 7, 1, 4, 4, 5, 3, 1, 4, 2, 4, 10, 4, 3, 2, 3, 5, 8, 7, 4, 6, 3, 7, 4, 11, 3, 8, 2, 5, 3, 3, 7, 6, 6, 2, 3, 9, 7, 2, 3, 6, 3, 7, 3, 9, 3, 3, 7, 2, 7, 3, 1, 3, 4, 2, 8, 10, 2, 2, 5, 2, 5, 2, 2, 5, 3, 5, 4, 3, 5, 5, 2, 4, 6, 4, 2, 5, 3, 4, 5, 3, 9, 2, 7, 4, 3, 2, 3, 5, 3, 4, 8, 2, 9, 6, 5, 5, 2, 7, 7, 2, 6, 5, 4, 4, 3, 4, 8, 2, 3, 6, 5, 3, 4, 3, 5, 2, 3, 4, 2, 3, 5, 2, 3, 7, 3, 4, 3, 8, 5, 2, 3, 7, 10, 8, 11, 3, 10, 5, 6, 3, 4, 6, 2, 8, 4, 7, 3, 7, 3, 5, 3, 2, 10, 4, 5, 7, 8, 5, 2, 4, 3, 4, 2, 3, 3, 4, 7, 9, 4, 8, 3, 4, 6, 3, 4, 7, 4, 4, 2, 4, 3, 12, 3, 4, 6, 2, 2, 4, 9, 5, 1, 5, 3, 4, 3, 6, 2, 8, 5, 1, 3, 4, 3, 8, 2, 6, 3, 5, 2, 4, 2, 4, 5, 5, 5, 2, 4, 8, 6, 3, 4, 6, 3, 5, 6, 2, 3, 5, 4, 3, 3, 4, 4, 1, 10, 4, 8, 1, 4, 4, 5, 4, 2, 4, 2, 3, 4, 2, 6, 2, 3, 4, 4, 7, 4, 3, 8, 4, 3, 3, 7, 2, 7, 3, 3, 1, 5, 3, 7, 2, 3, 5, 2, 3, 5, 3, 8, 1, 5, 5, 3, 4, 5, 4, 10, 3, 7, 2, 7, 2, 3, 9, 3, 3, 5, 3, 8, 3, 3, 9, 3, 5, 2, 4, 4, 4, 2, 6, 3, 3, 6, 3, 7, 2, 4, 4, 8, 6, 3, 2, 4, 2, 1, 4, 4, 7, 6, 4, 8, 3, 5, 5, 10, 3, 5, 2, 3, 4, 5, 2, 3, 5, 3, 3, 5, 3, 3, 7, 3, 2, 4, 4, 5, 3, 7, 2, 3, 4, 4, 3, 10, 6, 3, 5, 3, 3, 1, 6, 7, 4, 6, 4, 1, 3, 5, 3, 5, 1, 3, 5, 2, 6, 8, 3, 2, 4, 4, 3, 5, 4, 2, 3, 6, 3, 7, 10, 3, 6, 3, 3, 5, 2, 7, 1, 10, 4, 2, 9, 3, 1, 9, 3, 6, 3, 2, 4, 3, 3, 5, 3, 3, 5, 2, 11, 3, 5, 2, 11, 1, 6, 2, 6, 3, 1, 8, 4, 7, 3, 4, 1, 6, 4, 3, 5, 10, 3, 2, 4, 1, 3, 7, 4, 2, 3, 5, 1, 4, 4, 4, 2, 7, 1, 5, 3, 9, 2, 3, 3, 7, 3, 12, 3, 4, 5, 2, 4, 9, 3, 7, 3, 6, 2, 1, 7, 3, 4, 3, 5, 7, 5, 3, 5, 2, 8, 7, 3, 4, 2, 5, 3, 3, 7, 2, 6, 3, 5, 3, 7, 3, 7, 3, 2, 4, 8, 2, 4, 4, 2, 4, 2, 4, 4, 2, 5, 3, 5, 2, 2, 4, 4, 2, 3, 2, 8, 3, 2, 3, 9, 2, 2, 3, 8, 6, 4, 2, 3, 3, 4, 8, 2, 2, 9, 6, 2, 2, 5, 2, 4, 2, 4, 2, 3, 5, 7, 4, 6, 4, 4, 4, 4, 8, 4, 2, 4, 5, 4, 2, 3, 6, 2, 6, 4, 5, 4, 2, 3, 7, 4, 2, 3, 5, 2, 3, 3, 6, 4, 2, 4, 3, 4, 5, 2, 11, 3, 3, 5, 2, 7, 10, 3, 7, 3, 5, 2, 6, 2, 7, 3, 8, 5, 3, 8, 4, 11, 6, 5, 3, 2, 5, 2, 3, 5, 4, 5, 2, 8, 2, 5, 3, 5, 2, 3, 3, 4, 8, 3, 6, 3, 5, 3, 4, 2, 4, 2, 6, 2, 4, 7, 4, 4, 8, 5, 4, 4, 2, 3, 6, 2, 1, 7, 4, 2, 4, 5, 4, 3, 5, 4, 3, 3, 3, 5, 3, 6, 6, 2, 8]\n",
      "방법2. 람다\n",
      "[6, 8, 2, 5, 2, 6, 3, 5, 3, 5, 6, 4, 7, 2, 1, 5, 5, 3, 6, 3, 9, 3, 5, 7, 2, 3, 5, 2, 3, 8, 2, 5, 2, 3, 5, 3, 5, 9, 3, 5, 2, 3, 10, 7, 2, 4, 7, 4, 3, 6, 4, 2, 5, 4, 9, 6, 7, 3, 8, 2, 7, 4, 6, 3, 5, 5, 2, 6, 3, 6, 5, 5, 3, 4, 6, 4, 3, 3, 5, 4, 2, 5, 6, 7, 4, 8, 4, 4, 4, 4, 2, 10, 4, 5, 6, 5, 2, 4, 11, 4, 3, 6, 6, 2, 5, 3, 4, 4, 3, 5, 8, 3, 11, 6, 6, 9, 6, 6, 9, 4, 9, 8, 3, 3, 9, 9, 3, 4, 1, 7, 2, 3, 5, 4, 2, 4, 5, 4, 4, 1, 10, 2, 11, 2, 1, 10, 2, 3, 6, 3, 4, 7, 2, 4, 3, 6, 4, 3, 3, 6, 6, 2, 8, 4, 3, 6, 4, 3, 5, 6, 4, 4, 3, 2, 4, 2, 2, 4, 2, 2, 7, 3, 7, 3, 8, 5, 4, 2, 3, 7, 2, 3, 5, 5, 2, 3, 3, 2, 7, 3, 4, 2, 5, 4, 6, 3, 4, 2, 1, 6, 4, 4, 4, 1, 4, 4, 7, 3, 8, 7, 2, 4, 2, 3, 2, 4, 4, 2, 4, 8, 2, 4, 8, 6, 6, 3, 4, 2, 8, 1, 6, 3, 7, 4, 8, 1, 8, 2, 15, 8, 4, 4, 4, 7, 5, 4, 7, 5, 3, 6, 10, 2, 8, 10, 6, 16, 11, 5, 5, 11, 4, 6, 8, 12, 8, 7, 4, 6, 6, 4, 3, 4, 2, 4, 9, 3, 4, 6, 4, 6, 3, 6, 3, 3, 7, 4, 2, 6, 2, 3, 7, 10, 3, 7, 4, 4, 2, 2, 6, 5, 2, 8, 2, 3, 6, 3, 3, 3, 7, 8, 2, 4, 5, 3, 8, 7, 1, 12, 4, 1, 12, 4, 5, 3, 3, 4, 7, 9, 3, 1, 4, 7, 2, 7, 4, 4, 2, 5, 4, 8, 7, 2, 3, 6, 6, 1, 4, 2, 5, 2, 7, 2, 4, 8, 1, 3, 3, 10, 4, 3, 6, 3, 5, 3, 3, 3, 3, 5, 2, 4, 2, 4, 2, 3, 7, 2, 8, 3, 4, 4, 2, 3, 5, 4, 2, 9, 3, 4, 15, 2, 3, 6, 7, 3, 6, 3, 1, 5, 3, 2, 8, 4, 7, 7, 3, 10, 7, 2, 2, 4, 6, 3, 3, 4, 2, 5, 3, 4, 2, 3, 7, 3, 4, 2, 2, 5, 3, 8, 4, 5, 4, 8, 6, 5, 3, 5, 1, 4, 3, 4, 4, 4, 3, 3, 8, 3, 3, 4, 6, 3, 3, 5, 6, 6, 4, 2, 2, 3, 3, 5, 6, 3, 5, 5, 2, 6, 4, 3, 1, 4, 2, 13, 9, 5, 4, 3, 6, 4, 4, 2, 3, 1, 3, 1, 4, 4, 8, 1, 4, 4, 2, 4, 2, 4, 2, 6, 8, 2, 2, 6, 5, 2, 6, 5, 3, 2, 5, 8, 3, 8, 5, 3, 2, 4, 3, 3, 3, 7, 4, 6, 5, 3, 1, 2, 8, 2, 5, 3, 2, 2, 8, 8, 5, 8, 3, 6, 4, 2, 4, 9, 3, 5, 3, 4, 2, 3, 4, 9, 9, 1, 6, 2, 3, 7, 2, 3, 6, 6, 2, 8, 2, 2, 5, 10, 5, 7, 5, 4, 1, 7, 4, 2, 5, 4, 2, 3, 4, 2, 3, 4, 8, 4, 4, 9, 2, 3, 7, 2, 8, 3, 4, 4, 7, 3, 1, 2, 7, 8, 3, 4, 6, 10, 2, 3, 2, 5, 3, 5, 4, 1, 4, 5, 6, 3, 4, 7, 5, 7, 3, 2, 7, 2, 4, 2, 7, 2, 4, 1, 3, 5, 3, 9, 9, 3, 4, 7, 2, 6, 5, 4, 4, 5, 2, 4, 13, 3, 8, 3, 3, 7, 2, 3, 5, 2, 11, 2, 5, 2, 3, 9, 2, 3, 6, 3, 3, 6, 5, 2, 7, 3, 3, 5, 7, 2, 11, 2, 3, 5, 2, 7, 3, 3, 5, 3, 3, 4, 4, 6, 7, 4, 3, 2, 4, 2, 3, 3, 3, 3, 2, 3, 6, 2, 4, 8, 4, 3, 5, 6, 3, 8, 3, 4, 2, 5, 12, 6, 3, 4, 5, 5, 3, 5, 8, 3, 4, 4, 7, 6, 3, 3, 4, 6, 2, 4, 8, 4, 3, 12, 6, 3, 6, 3, 6, 4, 3, 9, 4, 2, 5, 2, 5, 2, 7, 10, 3, 4, 3, 8, 2, 9, 3, 11, 3, 9, 3, 6, 4, 4, 4, 3, 9, 5, 1, 10, 2, 3, 7, 2, 3, 7, 3, 3, 3, 6, 3, 3, 8, 4, 3, 6, 4, 2, 4, 8, 3, 1, 4, 3, 6, 2, 4, 4, 2, 3, 2, 9, 3, 1, 4, 3, 6, 2, 2, 3, 3, 3, 3, 2, 7, 3, 10, 3, 8, 2, 3, 4, 4, 4, 6, 3, 4, 2, 2, 9, 8, 2, 4, 3, 10, 4, 8, 4, 5, 3, 3, 8, 2, 3, 8, 2, 3, 5, 1, 6, 2, 6, 3, 5, 9, 6, 2, 1, 8, 4, 2, 2, 5, 4, 8, 2, 4, 5, 3, 5, 9, 6, 2, 2, 3, 7, 2, 4, 3, 3, 9, 2, 11, 2, 4, 5, 5, 3, 3, 5, 3, 7, 3, 7, 3, 4, 3, 5, 5, 3, 8, 4, 6, 3, 6, 3, 7, 4, 3, 8, 2, 3, 5, 8, 5, 2, 4, 6, 3, 5, 7, 7, 10, 7, 3, 6, 2, 8, 3, 4, 2, 2, 8, 3, 7, 2, 6, 3, 7, 2, 5, 9, 2, 7, 3, 4, 5, 4, 2, 5, 3, 5, 4, 2, 6, 2, 3, 3, 3, 5, 2, 4, 4, 2, 4, 2, 4, 5, 4, 8, 1, 4, 5, 4, 4, 7, 4, 1, 2, 7, 4, 2, 4, 3, 6, 1, 7, 4, 2, 2, 1, 6, 4, 3, 6, 5, 4, 2, 8, 3, 5, 7, 5, 3, 4, 3, 5, 5, 4, 5, 8, 2, 6, 1, 4, 2, 10, 3, 2, 4, 3, 10, 5, 5, 5, 8, 3, 1, 4, 6, 2, 6, 4, 3, 5, 3, 10, 2, 5, 1, 4, 6, 2, 4, 10, 4, 2, 9, 4, 5, 4, 1, 4, 3, 3, 2, 4, 2, 3, 4, 2, 8, 4, 7, 3, 5, 3, 4, 4, 4, 2, 7, 3, 3, 5, 2, 5, 2, 6, 5, 2, 6, 9, 4, 2, 9, 5, 4, 5, 2, 6, 3, 2, 3, 6, 2, 6, 6, 3, 2, 4, 6, 6, 4, 7, 5, 2, 3, 3, 6, 2, 5, 2, 2, 5, 3, 6, 3, 2, 2, 4, 4, 7, 3, 4, 6, 6, 2, 2, 2, 4, 2, 3, 3, 6, 5, 2, 5, 6, 7, 4, 7, 1, 3, 6, 2, 8, 1, 3, 6, 2, 10, 2, 3, 2, 6, 1, 3, 6, 2, 11, 2, 15, 5, 4, 2, 2, 8, 2, 5, 2, 3, 4, 6, 3, 4, 5, 3, 5, 9, 3, 4, 6, 3, 2, 8, 5, 2, 4, 9, 6, 6, 2, 9, 4, 4, 2, 6, 4, 1, 8, 4, 6, 5, 4, 6, 8, 2, 4, 8, 2, 4, 2, 4, 2, 4, 7, 2, 4, 7, 5, 6, 3, 10, 2, 4, 4, 2, 3, 4, 12, 3, 9, 3, 10, 4, 3, 8, 3, 8, 3, 2, 5, 5, 8, 4, 2, 3, 1, 3, 4, 4, 5, 3, 5, 7, 3, 6, 2, 3, 10, 5, 2, 3, 5, 6, 1, 5, 7, 2, 3, 6, 2, 13, 3, 10, 7, 3, 8, 6, 5, 3, 6, 4, 2, 3, 6, 3, 5, 3, 10, 5, 3, 3, 1, 5, 7, 8, 2, 2, 2, 4, 1, 7, 2, 8, 3, 13, 2, 4, 3, 7, 4, 4, 4, 4, 3, 9, 2, 7, 4, 2, 1, 6, 3, 4, 7, 4, 5, 2, 3, 3, 7, 3, 8, 6, 7, 3, 4, 9, 2, 4, 3, 5, 3, 5, 2, 10, 3, 2, 5, 9, 5, 7, 1, 4, 3, 2, 5, 1, 3, 3, 4, 3, 4, 4, 8, 3, 1, 4, 4, 7, 1, 4, 4, 5, 3, 1, 4, 2, 4, 10, 4, 3, 2, 3, 5, 8, 7, 4, 6, 3, 7, 4, 11, 3, 8, 2, 5, 3, 3, 7, 6, 6, 2, 3, 9, 7, 2, 3, 6, 3, 7, 3, 9, 3, 3, 7, 2, 7, 3, 1, 3, 4, 2, 8, 10, 2, 2, 5, 2, 5, 2, 2, 5, 3, 5, 4, 3, 5, 5, 2, 4, 6, 4, 2, 5, 3, 4, 5, 3, 9, 2, 7, 4, 3, 2, 3, 5, 3, 4, 8, 2, 9, 6, 5, 5, 2, 7, 7, 2, 6, 5, 4, 4, 3, 4, 8, 2, 3, 6, 5, 3, 4, 3, 5, 2, 3, 4, 2, 3, 5, 2, 3, 7, 3, 4, 3, 8, 5, 2, 3, 7, 10, 8, 11, 3, 10, 5, 6, 3, 4, 6, 2, 8, 4, 7, 3, 7, 3, 5, 3, 2, 10, 4, 5, 7, 8, 5, 2, 4, 3, 4, 2, 3, 3, 4, 7, 9, 4, 8, 3, 4, 6, 3, 4, 7, 4, 4, 2, 4, 3, 12, 3, 4, 6, 2, 2, 4, 9, 5, 1, 5, 3, 4, 3, 6, 2, 8, 5, 1, 3, 4, 3, 8, 2, 6, 3, 5, 2, 4, 2, 4, 5, 5, 5, 2, 4, 8, 6, 3, 4, 6, 3, 5, 6, 2, 3, 5, 4, 3, 3, 4, 4, 1, 10, 4, 8, 1, 4, 4, 5, 4, 2, 4, 2, 3, 4, 2, 6, 2, 3, 4, 4, 7, 4, 3, 8, 4, 3, 3, 7, 2, 7, 3, 3, 1, 5, 3, 7, 2, 3, 5, 2, 3, 5, 3, 8, 1, 5, 5, 3, 4, 5, 4, 10, 3, 7, 2, 7, 2, 3, 9, 3, 3, 5, 3, 8, 3, 3, 9, 3, 5, 2, 4, 4, 4, 2, 6, 3, 3, 6, 3, 7, 2, 4, 4, 8, 6, 3, 2, 4, 2, 1, 4, 4, 7, 6, 4, 8, 3, 5, 5, 10, 3, 5, 2, 3, 4, 5, 2, 3, 5, 3, 3, 5, 3, 3, 7, 3, 2, 4, 4, 5, 3, 7, 2, 3, 4, 4, 3, 10, 6, 3, 5, 3, 3, 1, 6, 7, 4, 6, 4, 1, 3, 5, 3, 5, 1, 3, 5, 2, 6, 8, 3, 2, 4, 4, 3, 5, 4, 2, 3, 6, 3, 7, 10, 3, 6, 3, 3, 5, 2, 7, 1, 10, 4, 2, 9, 3, 1, 9, 3, 6, 3, 2, 4, 3, 3, 5, 3, 3, 5, 2, 11, 3, 5, 2, 11, 1, 6, 2, 6, 3, 1, 8, 4, 7, 3, 4, 1, 6, 4, 3, 5, 10, 3, 2, 4, 1, 3, 7, 4, 2, 3, 5, 1, 4, 4, 4, 2, 7, 1, 5, 3, 9, 2, 3, 3, 7, 3, 12, 3, 4, 5, 2, 4, 9, 3, 7, 3, 6, 2, 1, 7, 3, 4, 3, 5, 7, 5, 3, 5, 2, 8, 7, 3, 4, 2, 5, 3, 3, 7, 2, 6, 3, 5, 3, 7, 3, 7, 3, 2, 4, 8, 2, 4, 4, 2, 4, 2, 4, 4, 2, 5, 3, 5, 2, 2, 4, 4, 2, 3, 2, 8, 3, 2, 3, 9, 2, 2, 3, 8, 6, 4, 2, 3, 3, 4, 8, 2, 2, 9, 6, 2, 2, 5, 2, 4, 2, 4, 2, 3, 5, 7, 4, 6, 4, 4, 4, 4, 8, 4, 2, 4, 5, 4, 2, 3, 6, 2, 6, 4, 5, 4, 2, 3, 7, 4, 2, 3, 5, 2, 3, 3, 6, 4, 2, 4, 3, 4, 5, 2, 11, 3, 3, 5, 2, 7, 10, 3, 7, 3, 5, 2, 6, 2, 7, 3, 8, 5, 3, 8, 4, 11, 6, 5, 3, 2, 5, 2, 3, 5, 4, 5, 2, 8, 2, 5, 3, 5, 2, 3, 3, 4, 8, 3, 6, 3, 5, 3, 4, 2, 4, 2, 6, 2, 4, 7, 4, 4, 8, 5, 4, 4, 2, 3, 6, 2, 1, 7, 4, 2, 4, 5, 4, 3, 5, 4, 3, 3, 3, 5, 3, 6, 6, 2, 8]\n"
     ]
    }
   ],
   "source": [
    "# 방법1. 반복문\n",
    "print('방법1. 반복문')\n",
    "글자수list = []\n",
    "for i in range(len(words)):\n",
    "    글자수list.append(len(words[i]))\n",
    "print(글자수list)\n",
    "\n",
    "# 방법2. 람다\n",
    "print('방법2. 람다')\n",
    "print(list(map(lambda x: len(x), words)))\n",
    "\n",
    "# 정규 표현식을 사용해서..?"
   ]
  },
  {
   "cell_type": "markdown",
   "metadata": {},
   "source": [
    "#### 4. numpy 모듈 복습하기"
   ]
  },
  {
   "cell_type": "markdown",
   "metadata": {},
   "source": [
    "1) 정수인 난수를 생성하는 **`random`** 서브모듈을 활용하여 두 자리수 난수를 발생시키고, 이를 `(2,5,3)`의 shape을 가진 배열을 만든 후 `matrix` 라는 변수에 저장해 보세요. (단, 코드를 실행할 때 마다 결과값이 같아야 합니다.)"
   ]
  },
  {
   "cell_type": "code",
   "execution_count": 9,
   "metadata": {},
   "outputs": [
    {
     "data": {
      "text/plain": [
       "array([[[54, 57, 74, 77, 77],\n",
       "        [19, 93, 31, 46, 97],\n",
       "        [80, 98, 98, 22, 68]],\n",
       "\n",
       "       [[75, 49, 97, 56, 98],\n",
       "        [91, 47, 35, 87, 82],\n",
       "        [19, 30, 90, 79, 89]]])"
      ]
     },
     "execution_count": 9,
     "metadata": {},
     "output_type": "execute_result"
    }
   ],
   "source": [
    "import numpy as np\n",
    "np.random.seed(0)\n",
    "matrix = np.random.randint(10,100, size = (2,3,5))\n",
    "matrix"
   ]
  },
  {
   "cell_type": "markdown",
   "metadata": {},
   "source": [
    "2) `matrix`에 저장된 배열을 1차원 배열로 편 후 새로운 변수 `matrix2`에 저장하고, 앞에서 두 번째에 위치한 요소를 15로 바꿔보세요. (단, 원본도 함께 바뀌어야 합니다.)"
   ]
  },
  {
   "cell_type": "code",
   "execution_count": 10,
   "metadata": {},
   "outputs": [
    {
     "name": "stdout",
     "output_type": "stream",
     "text": [
      "[54 15 74 77 77 19 93 31 46 97 80 98 98 22 68 75 49 97 56 98 91 47 35 87\n",
      " 82 19 30 90 79 89]\n",
      "\n",
      "[[[54 15 74 77 77]\n",
      "  [19 93 31 46 97]\n",
      "  [80 98 98 22 68]]\n",
      "\n",
      " [[75 49 97 56 98]\n",
      "  [91 47 35 87 82]\n",
      "  [19 30 90 79 89]]]\n"
     ]
    }
   ],
   "source": [
    "# matrix2 = matrix.reshape(1,-1)\n",
    "# matrix2\n",
    "\n",
    "matrix2 = np.ravel(matrix) # matrix.flatten()은 카피본 사용\n",
    "matrix2[1] = 15\n",
    "\n",
    "print(matrix2)\n",
    "print('')\n",
    "print(matrix)"
   ]
  },
  {
   "cell_type": "markdown",
   "metadata": {},
   "source": [
    "3) `matrix2`에서 50 이상인 수의 위치값을 반환해 보고, 해당 숫자를 100으로, 그렇지 않으면 10으로 바꿔보세요."
   ]
  },
  {
   "cell_type": "code",
   "execution_count": 11,
   "metadata": {},
   "outputs": [
    {
     "data": {
      "text/plain": [
       "(array([ 0,  2,  3,  4,  6,  9, 10, 11, 12, 14, 15, 17, 18, 19, 20, 23, 24,\n",
       "        27, 28, 29], dtype=int64),)"
      ]
     },
     "execution_count": 11,
     "metadata": {},
     "output_type": "execute_result"
    }
   ],
   "source": [
    "np.where(matrix2 > 50)"
   ]
  },
  {
   "cell_type": "code",
   "execution_count": 12,
   "metadata": {},
   "outputs": [
    {
     "data": {
      "text/plain": [
       "array([100,  10, 100, 100, 100,  10, 100,  10,  10, 100, 100, 100, 100,\n",
       "        10, 100, 100,  10, 100, 100, 100, 100,  10,  10, 100, 100,  10,\n",
       "        10, 100, 100, 100])"
      ]
     },
     "execution_count": 12,
     "metadata": {},
     "output_type": "execute_result"
    }
   ],
   "source": [
    "np.where(matrix2 > 50, 100, 10) # (조건식, 조건에 맞을 때의 값, 다를 때의 값)"
   ]
  }
 ],
 "metadata": {
  "kernelspec": {
   "display_name": "Python 3",
   "language": "python",
   "name": "python3"
  },
  "language_info": {
   "codemirror_mode": {
    "name": "ipython",
    "version": 3
   },
   "file_extension": ".py",
   "mimetype": "text/x-python",
   "name": "python",
   "nbconvert_exporter": "python",
   "pygments_lexer": "ipython3",
   "version": "3.7.6"
  }
 },
 "nbformat": 4,
 "nbformat_minor": 4
}
