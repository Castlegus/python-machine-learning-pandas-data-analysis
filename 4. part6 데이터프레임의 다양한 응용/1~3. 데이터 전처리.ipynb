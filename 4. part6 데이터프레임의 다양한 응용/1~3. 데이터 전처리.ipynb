{
 "cells": [
  {
   "cell_type": "markdown",
   "metadata": {},
   "source": [
    "### 01. 판다스 입문 (part1)"
   ]
  },
  {
   "cell_type": "code",
   "execution_count": 1,
   "metadata": {},
   "outputs": [
    {
     "data": {
      "text/plain": [
       "a    160\n",
       "b    180\n",
       "c    167\n",
       "d    179\n",
       "dtype: int64"
      ]
     },
     "execution_count": 1,
     "metadata": {},
     "output_type": "execute_result"
    }
   ],
   "source": [
    "import pandas as pd\n",
    "\n",
    "키 = {'a':160, 'b':180,'c':167,'d':179}\n",
    "key = pd.Series(키)\n",
    "key"
   ]
  },
  {
   "cell_type": "code",
   "execution_count": 3,
   "metadata": {},
   "outputs": [
    {
     "data": {
      "text/plain": [
       "엄마    160\n",
       "아빠    180\n",
       "나     167\n",
       "동생    179\n",
       "dtype: int64"
      ]
     },
     "execution_count": 3,
     "metadata": {},
     "output_type": "execute_result"
    }
   ],
   "source": [
    "key.index = ['엄마','아빠','나','동생']\n",
    "key"
   ]
  },
  {
   "cell_type": "code",
   "execution_count": 6,
   "metadata": {},
   "outputs": [
    {
     "data": {
      "text/html": [
       "<div>\n",
       "<style scoped>\n",
       "    .dataframe tbody tr th:only-of-type {\n",
       "        vertical-align: middle;\n",
       "    }\n",
       "\n",
       "    .dataframe tbody tr th {\n",
       "        vertical-align: top;\n",
       "    }\n",
       "\n",
       "    .dataframe thead th {\n",
       "        text-align: right;\n",
       "    }\n",
       "</style>\n",
       "<table border=\"1\" class=\"dataframe\">\n",
       "  <thead>\n",
       "    <tr style=\"text-align: right;\">\n",
       "      <th></th>\n",
       "      <th>col_1</th>\n",
       "      <th>col_2</th>\n",
       "      <th>col_3</th>\n",
       "    </tr>\n",
       "  </thead>\n",
       "  <tbody>\n",
       "    <tr>\n",
       "      <th>id_1</th>\n",
       "      <td>1</td>\n",
       "      <td>2</td>\n",
       "      <td>3</td>\n",
       "    </tr>\n",
       "    <tr>\n",
       "      <th>id_2</th>\n",
       "      <td>11</td>\n",
       "      <td>12</td>\n",
       "      <td>13</td>\n",
       "    </tr>\n",
       "  </tbody>\n",
       "</table>\n",
       "</div>"
      ],
      "text/plain": [
       "      col_1  col_2  col_3\n",
       "id_1      1      2      3\n",
       "id_2     11     12     13"
      ]
     },
     "execution_count": 6,
     "metadata": {},
     "output_type": "execute_result"
    }
   ],
   "source": [
    "c = {'col_1':[1,11],'col_2':[2,12],'col_3':[3,13]}\n",
    "cdf = pd.DataFrame(c, index = ['id_1','id_2'])\n",
    "cdf"
   ]
  },
  {
   "cell_type": "code",
   "execution_count": 17,
   "metadata": {},
   "outputs": [
    {
     "name": "stdout",
     "output_type": "stream",
     "text": [
      "<class 'numpy.ndarray'>\n",
      "(2, 3)\n",
      "[[ 1  2  3]\n",
      " [11 12 13]]\n",
      "\n",
      "\n",
      "<class 'list'>\n",
      "[[1, 2, 3], [11, 12, 13]]\n",
      "\n",
      "\n",
      "<class 'dict'>\n",
      "{'col_1': [1, 11], 'col_2': [2, 12], 'col_3': [3, 13]}\n"
     ]
    }
   ],
   "source": [
    "a2 = cdf.values\n",
    "print(type(a2))\n",
    "print(a2.shape)\n",
    "print(a2)\n",
    "print('\\n')\n",
    "\n",
    "b2 = cdf.values.tolist()\n",
    "print(type(b2))\n",
    "print(b2)\n",
    "print('\\n')\n",
    "\n",
    "c2 = cdf.to_dict('list')\n",
    "print(type(c2))\n",
    "print(c2)"
   ]
  },
  {
   "cell_type": "code",
   "execution_count": 24,
   "metadata": {},
   "outputs": [
    {
     "name": "stdout",
     "output_type": "stream",
     "text": [
      "   carat      cut color clarity  depth  table  price\n",
      "0   0.23    Ideal     E     SI2   61.5   55.0    326\n",
      "1   0.21  Premium     E     SI1   59.8   61.0    326\n",
      "2   0.23     Good     E     VS1   56.9   65.0    327\n",
      "3   0.29  Premium     I     VS2   62.4   58.0    334\n",
      "4   0.31     Good     J     SI2   63.3   58.0    335\n",
      "\n",
      "\n",
      "RangeIndex(start=0, stop=5, step=1)\n",
      "\n",
      "\n",
      "Index(['carat', 'cut', 'color', 'clarity', 'depth', 'table', 'price'], dtype='object')\n"
     ]
    }
   ],
   "source": [
    "df = pd.read_csv('diamonds.csv')\n",
    "df = df.iloc[0:5]\n",
    "df = df[['carat','cut','color','clarity','depth','table','price']]\n",
    "print(df)\n",
    "print('\\n')\n",
    "print(df.index)\n",
    "print('\\n')\n",
    "print(df.columns)"
   ]
  },
  {
   "cell_type": "code",
   "execution_count": 26,
   "metadata": {},
   "outputs": [
    {
     "data": {
      "text/html": [
       "<div>\n",
       "<style scoped>\n",
       "    .dataframe tbody tr th:only-of-type {\n",
       "        vertical-align: middle;\n",
       "    }\n",
       "\n",
       "    .dataframe tbody tr th {\n",
       "        vertical-align: top;\n",
       "    }\n",
       "\n",
       "    .dataframe thead th {\n",
       "        text-align: right;\n",
       "    }\n",
       "</style>\n",
       "<table border=\"1\" class=\"dataframe\">\n",
       "  <thead>\n",
       "    <tr style=\"text-align: right;\">\n",
       "      <th></th>\n",
       "      <th>carat</th>\n",
       "      <th>cut</th>\n",
       "      <th>color</th>\n",
       "      <th>clarity</th>\n",
       "      <th>depth</th>\n",
       "      <th>table</th>\n",
       "      <th>price</th>\n",
       "      <th>num</th>\n",
       "    </tr>\n",
       "  </thead>\n",
       "  <tbody>\n",
       "    <tr>\n",
       "      <th>0</th>\n",
       "      <td>0.23</td>\n",
       "      <td>Ideal</td>\n",
       "      <td>E</td>\n",
       "      <td>SI2</td>\n",
       "      <td>61.5</td>\n",
       "      <td>55.0</td>\n",
       "      <td>326</td>\n",
       "      <td>dia1</td>\n",
       "    </tr>\n",
       "    <tr>\n",
       "      <th>1</th>\n",
       "      <td>0.21</td>\n",
       "      <td>Premium</td>\n",
       "      <td>E</td>\n",
       "      <td>SI1</td>\n",
       "      <td>59.8</td>\n",
       "      <td>61.0</td>\n",
       "      <td>326</td>\n",
       "      <td>dia2</td>\n",
       "    </tr>\n",
       "    <tr>\n",
       "      <th>2</th>\n",
       "      <td>0.23</td>\n",
       "      <td>Good</td>\n",
       "      <td>E</td>\n",
       "      <td>VS1</td>\n",
       "      <td>56.9</td>\n",
       "      <td>65.0</td>\n",
       "      <td>327</td>\n",
       "      <td>dia3</td>\n",
       "    </tr>\n",
       "    <tr>\n",
       "      <th>3</th>\n",
       "      <td>0.29</td>\n",
       "      <td>Premium</td>\n",
       "      <td>I</td>\n",
       "      <td>VS2</td>\n",
       "      <td>62.4</td>\n",
       "      <td>58.0</td>\n",
       "      <td>334</td>\n",
       "      <td>dia4</td>\n",
       "    </tr>\n",
       "    <tr>\n",
       "      <th>4</th>\n",
       "      <td>0.31</td>\n",
       "      <td>Good</td>\n",
       "      <td>J</td>\n",
       "      <td>SI2</td>\n",
       "      <td>63.3</td>\n",
       "      <td>58.0</td>\n",
       "      <td>335</td>\n",
       "      <td>dia5</td>\n",
       "    </tr>\n",
       "  </tbody>\n",
       "</table>\n",
       "</div>"
      ],
      "text/plain": [
       "   carat      cut color clarity  depth  table  price   num\n",
       "0   0.23    Ideal     E     SI2   61.5   55.0    326  dia1\n",
       "1   0.21  Premium     E     SI1   59.8   61.0    326  dia2\n",
       "2   0.23     Good     E     VS1   56.9   65.0    327  dia3\n",
       "3   0.29  Premium     I     VS2   62.4   58.0    334  dia4\n",
       "4   0.31     Good     J     SI2   63.3   58.0    335  dia5"
      ]
     },
     "execution_count": 26,
     "metadata": {},
     "output_type": "execute_result"
    }
   ],
   "source": [
    "df['num'] =['dia1','dia2','dia3','dia4','dia5']\n",
    "df"
   ]
  },
  {
   "cell_type": "code",
   "execution_count": 28,
   "metadata": {},
   "outputs": [
    {
     "data": {
      "text/html": [
       "<div>\n",
       "<style scoped>\n",
       "    .dataframe tbody tr th:only-of-type {\n",
       "        vertical-align: middle;\n",
       "    }\n",
       "\n",
       "    .dataframe tbody tr th {\n",
       "        vertical-align: top;\n",
       "    }\n",
       "\n",
       "    .dataframe thead th {\n",
       "        text-align: right;\n",
       "    }\n",
       "</style>\n",
       "<table border=\"1\" class=\"dataframe\">\n",
       "  <thead>\n",
       "    <tr style=\"text-align: right;\">\n",
       "      <th></th>\n",
       "      <th>carat</th>\n",
       "      <th>cut</th>\n",
       "      <th>color</th>\n",
       "      <th>clarity</th>\n",
       "      <th>depth</th>\n",
       "      <th>table</th>\n",
       "      <th>price</th>\n",
       "    </tr>\n",
       "    <tr>\n",
       "      <th>num</th>\n",
       "      <th></th>\n",
       "      <th></th>\n",
       "      <th></th>\n",
       "      <th></th>\n",
       "      <th></th>\n",
       "      <th></th>\n",
       "      <th></th>\n",
       "    </tr>\n",
       "  </thead>\n",
       "  <tbody>\n",
       "    <tr>\n",
       "      <th>dia1</th>\n",
       "      <td>0.23</td>\n",
       "      <td>Ideal</td>\n",
       "      <td>E</td>\n",
       "      <td>SI2</td>\n",
       "      <td>61.5</td>\n",
       "      <td>55.0</td>\n",
       "      <td>326</td>\n",
       "    </tr>\n",
       "    <tr>\n",
       "      <th>dia2</th>\n",
       "      <td>0.21</td>\n",
       "      <td>Premium</td>\n",
       "      <td>E</td>\n",
       "      <td>SI1</td>\n",
       "      <td>59.8</td>\n",
       "      <td>61.0</td>\n",
       "      <td>326</td>\n",
       "    </tr>\n",
       "    <tr>\n",
       "      <th>dia3</th>\n",
       "      <td>0.23</td>\n",
       "      <td>Good</td>\n",
       "      <td>E</td>\n",
       "      <td>VS1</td>\n",
       "      <td>56.9</td>\n",
       "      <td>65.0</td>\n",
       "      <td>327</td>\n",
       "    </tr>\n",
       "    <tr>\n",
       "      <th>dia4</th>\n",
       "      <td>0.29</td>\n",
       "      <td>Premium</td>\n",
       "      <td>I</td>\n",
       "      <td>VS2</td>\n",
       "      <td>62.4</td>\n",
       "      <td>58.0</td>\n",
       "      <td>334</td>\n",
       "    </tr>\n",
       "    <tr>\n",
       "      <th>dia5</th>\n",
       "      <td>0.31</td>\n",
       "      <td>Good</td>\n",
       "      <td>J</td>\n",
       "      <td>SI2</td>\n",
       "      <td>63.3</td>\n",
       "      <td>58.0</td>\n",
       "      <td>335</td>\n",
       "    </tr>\n",
       "  </tbody>\n",
       "</table>\n",
       "</div>"
      ],
      "text/plain": [
       "      carat      cut color clarity  depth  table  price\n",
       "num                                                    \n",
       "dia1   0.23    Ideal     E     SI2   61.5   55.0    326\n",
       "dia2   0.21  Premium     E     SI1   59.8   61.0    326\n",
       "dia3   0.23     Good     E     VS1   56.9   65.0    327\n",
       "dia4   0.29  Premium     I     VS2   62.4   58.0    334\n",
       "dia5   0.31     Good     J     SI2   63.3   58.0    335"
      ]
     },
     "execution_count": 28,
     "metadata": {},
     "output_type": "execute_result"
    }
   ],
   "source": [
    "# 특정 열을 인덱스로 활용\n",
    "ndf = df.set_index(['num'])\n",
    "ndf"
   ]
  },
  {
   "cell_type": "code",
   "execution_count": 34,
   "metadata": {},
   "outputs": [
    {
     "name": "stdout",
     "output_type": "stream",
     "text": [
      "      carat      cut color clarity  depth  table  price\n",
      "num                                                    \n",
      "dia1   0.23    Ideal     E     SI2   61.5   55.0    326\n",
      "dia2   0.21  Premium     E     SI1   59.8   61.0    326\n",
      "dia3   0.23     Good     E     VS1   56.9   65.0    327\n",
      "dia4   0.29  Premium     I     VS2   62.4   58.0    334\n"
     ]
    },
    {
     "name": "stderr",
     "output_type": "stream",
     "text": [
      "C:\\ProgramData\\Anaconda3\\lib\\site-packages\\pandas\\core\\frame.py:3997: SettingWithCopyWarning: \n",
      "A value is trying to be set on a copy of a slice from a DataFrame\n",
      "\n",
      "See the caveats in the documentation: https://pandas.pydata.org/pandas-docs/stable/user_guide/indexing.html#returning-a-view-versus-a-copy\n",
      "  errors=errors,\n"
     ]
    }
   ],
   "source": [
    "# 행 삭제\n",
    "df2 = ndf[:]\n",
    "df2.drop('dia5', inplace = True)\n",
    "print(df2)"
   ]
  },
  {
   "cell_type": "code",
   "execution_count": 35,
   "metadata": {},
   "outputs": [
    {
     "name": "stdout",
     "output_type": "stream",
     "text": [
      "      carat      cut color clarity  depth  price\n",
      "num                                             \n",
      "dia1   0.23    Ideal     E     SI2   61.5    326\n",
      "dia2   0.21  Premium     E     SI1   59.8    326\n",
      "dia3   0.23     Good     E     VS1   56.9    327\n",
      "dia4   0.29  Premium     I     VS2   62.4    334\n",
      "dia5   0.31     Good     J     SI2   63.3    335\n"
     ]
    },
    {
     "name": "stderr",
     "output_type": "stream",
     "text": [
      "C:\\ProgramData\\Anaconda3\\lib\\site-packages\\pandas\\core\\frame.py:3997: SettingWithCopyWarning: \n",
      "A value is trying to be set on a copy of a slice from a DataFrame\n",
      "\n",
      "See the caveats in the documentation: https://pandas.pydata.org/pandas-docs/stable/user_guide/indexing.html#returning-a-view-versus-a-copy\n",
      "  errors=errors,\n"
     ]
    }
   ],
   "source": [
    "# 열 삭제\n",
    "df2=ndf[:]\n",
    "df2.drop('table', axis = 1, inplace = True)\n",
    "print(df2)"
   ]
  },
  {
   "cell_type": "code",
   "execution_count": 41,
   "metadata": {},
   "outputs": [
    {
     "name": "stdout",
     "output_type": "stream",
     "text": [
      "      carat    cut color clarity  depth  table  price\n",
      "num                                                  \n",
      "dia1   0.23  Ideal     E     SI2   61.5   55.0    326\n",
      "\n",
      "\n",
      "      carat    cut color clarity  depth  table  price\n",
      "num                                                  \n",
      "dia1   0.23  Ideal     E     SI2   61.5   55.0    326\n"
     ]
    }
   ],
   "source": [
    "label = ndf.loc[['dia1']]\n",
    "position = ndf.iloc[0:1]\n",
    "print(label)\n",
    "print('\\n')\n",
    "print(position)"
   ]
  },
  {
   "cell_type": "code",
   "execution_count": 42,
   "metadata": {},
   "outputs": [
    {
     "name": "stdout",
     "output_type": "stream",
     "text": [
      "num\n",
      "dia1    326\n",
      "dia2    326\n",
      "dia3    327\n",
      "dia4    334\n",
      "dia5    335\n",
      "Name: price, dtype: int64\n"
     ]
    }
   ],
   "source": [
    "price = ndf['price']\n",
    "print(price)"
   ]
  },
  {
   "cell_type": "code",
   "execution_count": 43,
   "metadata": {},
   "outputs": [
    {
     "name": "stdout",
     "output_type": "stream",
     "text": [
      "      carat    cut color clarity  depth  table  price\n",
      "num                                                  \n",
      "dia1   0.23  Ideal     E     SI2   61.5   55.0    326\n",
      "dia3   0.23   Good     E     VS1   56.9   65.0    327\n",
      "dia5   0.31   Good     J     SI2   63.3   58.0    335\n",
      "\n",
      "\n",
      "      carat      cut color clarity  depth  table  price\n",
      "num                                                    \n",
      "dia5   0.31     Good     J     SI2   63.3   58.0    335\n",
      "dia4   0.29  Premium     I     VS2   62.4   58.0    334\n",
      "dia3   0.23     Good     E     VS1   56.9   65.0    327\n",
      "dia2   0.21  Premium     E     SI1   59.8   61.0    326\n",
      "dia1   0.23    Ideal     E     SI2   61.5   55.0    326\n"
     ]
    }
   ],
   "source": [
    "jump = ndf.iloc[0:5:2]\n",
    "rev = ndf.iloc[::-1]\n",
    "print(jump)\n",
    "print('\\n')\n",
    "print(rev)"
   ]
  },
  {
   "cell_type": "code",
   "execution_count": 44,
   "metadata": {},
   "outputs": [
    {
     "data": {
      "text/html": [
       "<div>\n",
       "<style scoped>\n",
       "    .dataframe tbody tr th:only-of-type {\n",
       "        vertical-align: middle;\n",
       "    }\n",
       "\n",
       "    .dataframe tbody tr th {\n",
       "        vertical-align: top;\n",
       "    }\n",
       "\n",
       "    .dataframe thead th {\n",
       "        text-align: right;\n",
       "    }\n",
       "</style>\n",
       "<table border=\"1\" class=\"dataframe\">\n",
       "  <thead>\n",
       "    <tr style=\"text-align: right;\">\n",
       "      <th></th>\n",
       "      <th>carat</th>\n",
       "      <th>cut</th>\n",
       "      <th>color</th>\n",
       "      <th>clarity</th>\n",
       "      <th>depth</th>\n",
       "      <th>table</th>\n",
       "      <th>price</th>\n",
       "    </tr>\n",
       "    <tr>\n",
       "      <th>num</th>\n",
       "      <th></th>\n",
       "      <th></th>\n",
       "      <th></th>\n",
       "      <th></th>\n",
       "      <th></th>\n",
       "      <th></th>\n",
       "      <th></th>\n",
       "    </tr>\n",
       "  </thead>\n",
       "  <tbody>\n",
       "    <tr>\n",
       "      <th>dia1</th>\n",
       "      <td>0.23</td>\n",
       "      <td>Ideal</td>\n",
       "      <td>E</td>\n",
       "      <td>SI2</td>\n",
       "      <td>61.5</td>\n",
       "      <td>55.0</td>\n",
       "      <td>326</td>\n",
       "    </tr>\n",
       "    <tr>\n",
       "      <th>dia2</th>\n",
       "      <td>0.21</td>\n",
       "      <td>Premium</td>\n",
       "      <td>E</td>\n",
       "      <td>SI1</td>\n",
       "      <td>59.8</td>\n",
       "      <td>61.0</td>\n",
       "      <td>326</td>\n",
       "    </tr>\n",
       "    <tr>\n",
       "      <th>dia3</th>\n",
       "      <td>0.23</td>\n",
       "      <td>Good</td>\n",
       "      <td>E</td>\n",
       "      <td>VS1</td>\n",
       "      <td>56.9</td>\n",
       "      <td>65.0</td>\n",
       "      <td>327</td>\n",
       "    </tr>\n",
       "    <tr>\n",
       "      <th>dia4</th>\n",
       "      <td>0.29</td>\n",
       "      <td>Premium</td>\n",
       "      <td>I</td>\n",
       "      <td>VS2</td>\n",
       "      <td>62.4</td>\n",
       "      <td>58.0</td>\n",
       "      <td>334</td>\n",
       "    </tr>\n",
       "    <tr>\n",
       "      <th>dia5</th>\n",
       "      <td>0.31</td>\n",
       "      <td>Good</td>\n",
       "      <td>J</td>\n",
       "      <td>SI2</td>\n",
       "      <td>63.3</td>\n",
       "      <td>58.0</td>\n",
       "      <td>400</td>\n",
       "    </tr>\n",
       "  </tbody>\n",
       "</table>\n",
       "</div>"
      ],
      "text/plain": [
       "      carat      cut color clarity  depth  table  price\n",
       "num                                                    \n",
       "dia1   0.23    Ideal     E     SI2   61.5   55.0    326\n",
       "dia2   0.21  Premium     E     SI1   59.8   61.0    326\n",
       "dia3   0.23     Good     E     VS1   56.9   65.0    327\n",
       "dia4   0.29  Premium     I     VS2   62.4   58.0    334\n",
       "dia5   0.31     Good     J     SI2   63.3   58.0    400"
      ]
     },
     "execution_count": 44,
     "metadata": {},
     "output_type": "execute_result"
    }
   ],
   "source": [
    "ndf.loc['dia5','price'] = 400\n",
    "ndf"
   ]
  },
  {
   "cell_type": "code",
   "execution_count": 45,
   "metadata": {},
   "outputs": [
    {
     "data": {
      "text/html": [
       "<div>\n",
       "<style scoped>\n",
       "    .dataframe tbody tr th:only-of-type {\n",
       "        vertical-align: middle;\n",
       "    }\n",
       "\n",
       "    .dataframe tbody tr th {\n",
       "        vertical-align: top;\n",
       "    }\n",
       "\n",
       "    .dataframe thead th {\n",
       "        text-align: right;\n",
       "    }\n",
       "</style>\n",
       "<table border=\"1\" class=\"dataframe\">\n",
       "  <thead>\n",
       "    <tr style=\"text-align: right;\">\n",
       "      <th></th>\n",
       "      <th>carat</th>\n",
       "      <th>cut</th>\n",
       "      <th>color</th>\n",
       "      <th>clarity</th>\n",
       "      <th>depth</th>\n",
       "      <th>table</th>\n",
       "      <th>price</th>\n",
       "    </tr>\n",
       "    <tr>\n",
       "      <th>num</th>\n",
       "      <th></th>\n",
       "      <th></th>\n",
       "      <th></th>\n",
       "      <th></th>\n",
       "      <th></th>\n",
       "      <th></th>\n",
       "      <th></th>\n",
       "    </tr>\n",
       "  </thead>\n",
       "  <tbody>\n",
       "    <tr>\n",
       "      <th>dia1</th>\n",
       "      <td>0.23</td>\n",
       "      <td>Ideal</td>\n",
       "      <td>E</td>\n",
       "      <td>SI2</td>\n",
       "      <td>61.5</td>\n",
       "      <td>55.0</td>\n",
       "      <td>300</td>\n",
       "    </tr>\n",
       "    <tr>\n",
       "      <th>dia2</th>\n",
       "      <td>0.21</td>\n",
       "      <td>Premium</td>\n",
       "      <td>E</td>\n",
       "      <td>SI1</td>\n",
       "      <td>59.8</td>\n",
       "      <td>61.0</td>\n",
       "      <td>326</td>\n",
       "    </tr>\n",
       "    <tr>\n",
       "      <th>dia3</th>\n",
       "      <td>0.23</td>\n",
       "      <td>Good</td>\n",
       "      <td>E</td>\n",
       "      <td>VS1</td>\n",
       "      <td>56.9</td>\n",
       "      <td>65.0</td>\n",
       "      <td>327</td>\n",
       "    </tr>\n",
       "    <tr>\n",
       "      <th>dia4</th>\n",
       "      <td>0.29</td>\n",
       "      <td>Premium</td>\n",
       "      <td>I</td>\n",
       "      <td>VS2</td>\n",
       "      <td>62.4</td>\n",
       "      <td>58.0</td>\n",
       "      <td>334</td>\n",
       "    </tr>\n",
       "    <tr>\n",
       "      <th>dia5</th>\n",
       "      <td>0.31</td>\n",
       "      <td>Good</td>\n",
       "      <td>J</td>\n",
       "      <td>SI2</td>\n",
       "      <td>63.3</td>\n",
       "      <td>58.0</td>\n",
       "      <td>400</td>\n",
       "    </tr>\n",
       "  </tbody>\n",
       "</table>\n",
       "</div>"
      ],
      "text/plain": [
       "      carat      cut color clarity  depth  table  price\n",
       "num                                                    \n",
       "dia1   0.23    Ideal     E     SI2   61.5   55.0    300\n",
       "dia2   0.21  Premium     E     SI1   59.8   61.0    326\n",
       "dia3   0.23     Good     E     VS1   56.9   65.0    327\n",
       "dia4   0.29  Premium     I     VS2   62.4   58.0    334\n",
       "dia5   0.31     Good     J     SI2   63.3   58.0    400"
      ]
     },
     "execution_count": 45,
     "metadata": {},
     "output_type": "execute_result"
    }
   ],
   "source": [
    "ndf.iloc[0,6]= 300\n",
    "ndf"
   ]
  },
  {
   "cell_type": "code",
   "execution_count": 46,
   "metadata": {},
   "outputs": [
    {
     "data": {
      "text/html": [
       "<div>\n",
       "<style scoped>\n",
       "    .dataframe tbody tr th:only-of-type {\n",
       "        vertical-align: middle;\n",
       "    }\n",
       "\n",
       "    .dataframe tbody tr th {\n",
       "        vertical-align: top;\n",
       "    }\n",
       "\n",
       "    .dataframe thead th {\n",
       "        text-align: right;\n",
       "    }\n",
       "</style>\n",
       "<table border=\"1\" class=\"dataframe\">\n",
       "  <thead>\n",
       "    <tr style=\"text-align: right;\">\n",
       "      <th></th>\n",
       "      <th>carat</th>\n",
       "      <th>cut</th>\n",
       "      <th>color</th>\n",
       "      <th>clarity</th>\n",
       "      <th>depth</th>\n",
       "      <th>table</th>\n",
       "      <th>price</th>\n",
       "    </tr>\n",
       "    <tr>\n",
       "      <th>num</th>\n",
       "      <th></th>\n",
       "      <th></th>\n",
       "      <th></th>\n",
       "      <th></th>\n",
       "      <th></th>\n",
       "      <th></th>\n",
       "      <th></th>\n",
       "    </tr>\n",
       "  </thead>\n",
       "  <tbody>\n",
       "    <tr>\n",
       "      <th>dia1</th>\n",
       "      <td>0.23</td>\n",
       "      <td>Ideal</td>\n",
       "      <td>E</td>\n",
       "      <td>SI2</td>\n",
       "      <td>61.5</td>\n",
       "      <td>55</td>\n",
       "      <td>300</td>\n",
       "    </tr>\n",
       "    <tr>\n",
       "      <th>dia2</th>\n",
       "      <td>0.21</td>\n",
       "      <td>Premium</td>\n",
       "      <td>E</td>\n",
       "      <td>SI1</td>\n",
       "      <td>59.8</td>\n",
       "      <td>61</td>\n",
       "      <td>326</td>\n",
       "    </tr>\n",
       "    <tr>\n",
       "      <th>dia3</th>\n",
       "      <td>0.23</td>\n",
       "      <td>Good</td>\n",
       "      <td>E</td>\n",
       "      <td>VS1</td>\n",
       "      <td>56.9</td>\n",
       "      <td>65</td>\n",
       "      <td>327</td>\n",
       "    </tr>\n",
       "    <tr>\n",
       "      <th>dia4</th>\n",
       "      <td>0.29</td>\n",
       "      <td>Premium</td>\n",
       "      <td>I</td>\n",
       "      <td>VS2</td>\n",
       "      <td>62.4</td>\n",
       "      <td>58</td>\n",
       "      <td>334</td>\n",
       "    </tr>\n",
       "    <tr>\n",
       "      <th>dia5</th>\n",
       "      <td>0.31</td>\n",
       "      <td>Good</td>\n",
       "      <td>J</td>\n",
       "      <td>SI2</td>\n",
       "      <td>63.3</td>\n",
       "      <td>58</td>\n",
       "      <td>400</td>\n",
       "    </tr>\n",
       "    <tr>\n",
       "      <th>dia6</th>\n",
       "      <td>0.30</td>\n",
       "      <td>ideal</td>\n",
       "      <td>E</td>\n",
       "      <td>VS1</td>\n",
       "      <td>63.0</td>\n",
       "      <td>60.0</td>\n",
       "      <td>401</td>\n",
       "    </tr>\n",
       "  </tbody>\n",
       "</table>\n",
       "</div>"
      ],
      "text/plain": [
       "      carat      cut color clarity depth table price\n",
       "num                                                 \n",
       "dia1   0.23    Ideal     E     SI2  61.5    55   300\n",
       "dia2   0.21  Premium     E     SI1  59.8    61   326\n",
       "dia3   0.23     Good     E     VS1  56.9    65   327\n",
       "dia4   0.29  Premium     I     VS2  62.4    58   334\n",
       "dia5   0.31     Good     J     SI2  63.3    58   400\n",
       "dia6   0.30    ideal     E     VS1  63.0  60.0   401"
      ]
     },
     "execution_count": 46,
     "metadata": {},
     "output_type": "execute_result"
    }
   ],
   "source": [
    "ndf.loc['dia6'] = [0.30,'ideal','E','VS1','63.0','60.0','401']\n",
    "ndf"
   ]
  },
  {
   "cell_type": "code",
   "execution_count": 51,
   "metadata": {},
   "outputs": [
    {
     "data": {
      "text/html": [
       "<div>\n",
       "<style scoped>\n",
       "    .dataframe tbody tr th:only-of-type {\n",
       "        vertical-align: middle;\n",
       "    }\n",
       "\n",
       "    .dataframe tbody tr th {\n",
       "        vertical-align: top;\n",
       "    }\n",
       "\n",
       "    .dataframe thead th {\n",
       "        text-align: right;\n",
       "    }\n",
       "</style>\n",
       "<table border=\"1\" class=\"dataframe\">\n",
       "  <thead>\n",
       "    <tr style=\"text-align: right;\">\n",
       "      <th></th>\n",
       "      <th>carat</th>\n",
       "      <th>cut</th>\n",
       "      <th>color</th>\n",
       "      <th>clarity</th>\n",
       "      <th>depth</th>\n",
       "      <th>table</th>\n",
       "      <th>price</th>\n",
       "    </tr>\n",
       "    <tr>\n",
       "      <th>num</th>\n",
       "      <th></th>\n",
       "      <th></th>\n",
       "      <th></th>\n",
       "      <th></th>\n",
       "      <th></th>\n",
       "      <th></th>\n",
       "      <th></th>\n",
       "    </tr>\n",
       "  </thead>\n",
       "  <tbody>\n",
       "    <tr>\n",
       "      <th>dia1</th>\n",
       "      <td>0.23</td>\n",
       "      <td>Ideal</td>\n",
       "      <td>E</td>\n",
       "      <td>SI2</td>\n",
       "      <td>61.5</td>\n",
       "      <td>55</td>\n",
       "      <td>300</td>\n",
       "    </tr>\n",
       "    <tr>\n",
       "      <th>dia2</th>\n",
       "      <td>0.21</td>\n",
       "      <td>Premium</td>\n",
       "      <td>E</td>\n",
       "      <td>SI1</td>\n",
       "      <td>59.8</td>\n",
       "      <td>61</td>\n",
       "      <td>326</td>\n",
       "    </tr>\n",
       "    <tr>\n",
       "      <th>dia3</th>\n",
       "      <td>0.23</td>\n",
       "      <td>Good</td>\n",
       "      <td>E</td>\n",
       "      <td>VS1</td>\n",
       "      <td>56.9</td>\n",
       "      <td>65</td>\n",
       "      <td>327</td>\n",
       "    </tr>\n",
       "    <tr>\n",
       "      <th>dia4</th>\n",
       "      <td>0.29</td>\n",
       "      <td>Premium</td>\n",
       "      <td>I</td>\n",
       "      <td>VS2</td>\n",
       "      <td>62.4</td>\n",
       "      <td>58</td>\n",
       "      <td>334</td>\n",
       "    </tr>\n",
       "    <tr>\n",
       "      <th>dia5</th>\n",
       "      <td>0.31</td>\n",
       "      <td>Good</td>\n",
       "      <td>J</td>\n",
       "      <td>SI2</td>\n",
       "      <td>63.3</td>\n",
       "      <td>58</td>\n",
       "      <td>400</td>\n",
       "    </tr>\n",
       "    <tr>\n",
       "      <th>dia6</th>\n",
       "      <td>0.30</td>\n",
       "      <td>ideal</td>\n",
       "      <td>E</td>\n",
       "      <td>VS1</td>\n",
       "      <td>63.0</td>\n",
       "      <td>60.0</td>\n",
       "      <td>401</td>\n",
       "    </tr>\n",
       "    <tr>\n",
       "      <th>dia7</th>\n",
       "      <td>0.23</td>\n",
       "      <td>Good</td>\n",
       "      <td>E</td>\n",
       "      <td>VS1</td>\n",
       "      <td>56.9</td>\n",
       "      <td>65</td>\n",
       "      <td>327</td>\n",
       "    </tr>\n",
       "  </tbody>\n",
       "</table>\n",
       "</div>"
      ],
      "text/plain": [
       "      carat      cut color clarity depth table price\n",
       "num                                                 \n",
       "dia1   0.23    Ideal     E     SI2  61.5    55   300\n",
       "dia2   0.21  Premium     E     SI1  59.8    61   326\n",
       "dia3   0.23     Good     E     VS1  56.9    65   327\n",
       "dia4   0.29  Premium     I     VS2  62.4    58   334\n",
       "dia5   0.31     Good     J     SI2  63.3    58   400\n",
       "dia6   0.30    ideal     E     VS1  63.0  60.0   401\n",
       "dia7   0.23     Good     E     VS1  56.9    65   327"
      ]
     },
     "execution_count": 51,
     "metadata": {},
     "output_type": "execute_result"
    }
   ],
   "source": [
    "ndf.loc['dia7'] = ndf.loc['dia3']\n",
    "ndf"
   ]
  },
  {
   "cell_type": "code",
   "execution_count": 52,
   "metadata": {},
   "outputs": [
    {
     "data": {
      "text/html": [
       "<div>\n",
       "<style scoped>\n",
       "    .dataframe tbody tr th:only-of-type {\n",
       "        vertical-align: middle;\n",
       "    }\n",
       "\n",
       "    .dataframe tbody tr th {\n",
       "        vertical-align: top;\n",
       "    }\n",
       "\n",
       "    .dataframe thead th {\n",
       "        text-align: right;\n",
       "    }\n",
       "</style>\n",
       "<table border=\"1\" class=\"dataframe\">\n",
       "  <thead>\n",
       "    <tr style=\"text-align: right;\">\n",
       "      <th>num</th>\n",
       "      <th>dia1</th>\n",
       "      <th>dia2</th>\n",
       "      <th>dia3</th>\n",
       "      <th>dia4</th>\n",
       "      <th>dia5</th>\n",
       "      <th>dia6</th>\n",
       "      <th>dia7</th>\n",
       "    </tr>\n",
       "  </thead>\n",
       "  <tbody>\n",
       "    <tr>\n",
       "      <th>carat</th>\n",
       "      <td>0.23</td>\n",
       "      <td>0.21</td>\n",
       "      <td>0.23</td>\n",
       "      <td>0.29</td>\n",
       "      <td>0.31</td>\n",
       "      <td>0.3</td>\n",
       "      <td>0.23</td>\n",
       "    </tr>\n",
       "    <tr>\n",
       "      <th>cut</th>\n",
       "      <td>Ideal</td>\n",
       "      <td>Premium</td>\n",
       "      <td>Good</td>\n",
       "      <td>Premium</td>\n",
       "      <td>Good</td>\n",
       "      <td>ideal</td>\n",
       "      <td>Good</td>\n",
       "    </tr>\n",
       "    <tr>\n",
       "      <th>color</th>\n",
       "      <td>E</td>\n",
       "      <td>E</td>\n",
       "      <td>E</td>\n",
       "      <td>I</td>\n",
       "      <td>J</td>\n",
       "      <td>E</td>\n",
       "      <td>E</td>\n",
       "    </tr>\n",
       "    <tr>\n",
       "      <th>clarity</th>\n",
       "      <td>SI2</td>\n",
       "      <td>SI1</td>\n",
       "      <td>VS1</td>\n",
       "      <td>VS2</td>\n",
       "      <td>SI2</td>\n",
       "      <td>VS1</td>\n",
       "      <td>VS1</td>\n",
       "    </tr>\n",
       "    <tr>\n",
       "      <th>depth</th>\n",
       "      <td>61.5</td>\n",
       "      <td>59.8</td>\n",
       "      <td>56.9</td>\n",
       "      <td>62.4</td>\n",
       "      <td>63.3</td>\n",
       "      <td>63.0</td>\n",
       "      <td>56.9</td>\n",
       "    </tr>\n",
       "    <tr>\n",
       "      <th>table</th>\n",
       "      <td>55</td>\n",
       "      <td>61</td>\n",
       "      <td>65</td>\n",
       "      <td>58</td>\n",
       "      <td>58</td>\n",
       "      <td>60.0</td>\n",
       "      <td>65</td>\n",
       "    </tr>\n",
       "    <tr>\n",
       "      <th>price</th>\n",
       "      <td>300</td>\n",
       "      <td>326</td>\n",
       "      <td>327</td>\n",
       "      <td>334</td>\n",
       "      <td>400</td>\n",
       "      <td>401</td>\n",
       "      <td>327</td>\n",
       "    </tr>\n",
       "  </tbody>\n",
       "</table>\n",
       "</div>"
      ],
      "text/plain": [
       "num       dia1     dia2  dia3     dia4  dia5   dia6  dia7\n",
       "carat     0.23     0.21  0.23     0.29  0.31    0.3  0.23\n",
       "cut      Ideal  Premium  Good  Premium  Good  ideal  Good\n",
       "color        E        E     E        I     J      E     E\n",
       "clarity    SI2      SI1   VS1      VS2   SI2    VS1   VS1\n",
       "depth     61.5     59.8  56.9     62.4  63.3   63.0  56.9\n",
       "table       55       61    65       58    58   60.0    65\n",
       "price      300      326   327      334   400    401   327"
      ]
     },
     "execution_count": 52,
     "metadata": {},
     "output_type": "execute_result"
    }
   ],
   "source": [
    "df = ndf.T\n",
    "df"
   ]
  },
  {
   "cell_type": "markdown",
   "metadata": {},
   "source": [
    "### 02. 데이터 살펴보기 (part2)"
   ]
  },
  {
   "cell_type": "code",
   "execution_count": 53,
   "metadata": {},
   "outputs": [
    {
     "name": "stdout",
     "output_type": "stream",
     "text": [
      "   carat      cut color clarity  depth  table  price     x     y     z\n",
      "0   0.23    Ideal     E     SI2   61.5   55.0    326  3.95  3.98  2.43\n",
      "1   0.21  Premium     E     SI1   59.8   61.0    326  3.89  3.84  2.31\n",
      "2   0.23     Good     E     VS1   56.9   65.0    327  4.05  4.07  2.31\n",
      "3   0.29  Premium     I     VS2   62.4   58.0    334  4.20  4.23  2.63\n",
      "4   0.31     Good     J     SI2   63.3   58.0    335  4.34  4.35  2.75\n",
      "\n",
      "\n",
      "       carat        cut color clarity  depth  table  price     x     y     z\n",
      "53935   0.72      Ideal     D     SI1   60.8   57.0   2757  5.75  5.76  3.50\n",
      "53936   0.72       Good     D     SI1   63.1   55.0   2757  5.69  5.75  3.61\n",
      "53937   0.70  Very Good     D     SI1   62.8   60.0   2757  5.66  5.68  3.56\n",
      "53938   0.86    Premium     H     SI2   61.0   58.0   2757  6.15  6.12  3.74\n",
      "53939   0.75      Ideal     D     SI2   62.2   55.0   2757  5.83  5.87  3.64\n"
     ]
    }
   ],
   "source": [
    "dia = pd.read_csv('diamonds.csv')\n",
    "print(dia.head())\n",
    "print('\\n')\n",
    "print(dia.tail())"
   ]
  },
  {
   "cell_type": "code",
   "execution_count": 54,
   "metadata": {},
   "outputs": [
    {
     "name": "stdout",
     "output_type": "stream",
     "text": [
      "(53940, 10)\n",
      "\n",
      "\n",
      "<class 'pandas.core.frame.DataFrame'>\n",
      "RangeIndex: 53940 entries, 0 to 53939\n",
      "Data columns (total 10 columns):\n",
      " #   Column   Non-Null Count  Dtype  \n",
      "---  ------   --------------  -----  \n",
      " 0   carat    53940 non-null  float64\n",
      " 1   cut      53940 non-null  object \n",
      " 2   color    53940 non-null  object \n",
      " 3   clarity  53940 non-null  object \n",
      " 4   depth    53940 non-null  float64\n",
      " 5   table    53940 non-null  float64\n",
      " 6   price    53940 non-null  int64  \n",
      " 7   x        53940 non-null  float64\n",
      " 8   y        53940 non-null  float64\n",
      " 9   z        53940 non-null  float64\n",
      "dtypes: float64(6), int64(1), object(3)\n",
      "memory usage: 4.1+ MB\n",
      "None\n"
     ]
    }
   ],
   "source": [
    "print(dia.shape)\n",
    "print('\\n')\n",
    "print(dia.info())"
   ]
  },
  {
   "cell_type": "code",
   "execution_count": 55,
   "metadata": {},
   "outputs": [
    {
     "name": "stdout",
     "output_type": "stream",
     "text": [
      "carat      float64\n",
      "cut         object\n",
      "color       object\n",
      "clarity     object\n",
      "depth      float64\n",
      "table      float64\n",
      "price        int64\n",
      "x          float64\n",
      "y          float64\n",
      "z          float64\n",
      "dtype: object\n"
     ]
    }
   ],
   "source": [
    "print(dia.dtypes)"
   ]
  },
  {
   "cell_type": "code",
   "execution_count": 58,
   "metadata": {},
   "outputs": [
    {
     "name": "stdout",
     "output_type": "stream",
     "text": [
      "               carat    cut  color clarity         depth         table  \\\n",
      "count   53940.000000  53940  53940   53940  53940.000000  53940.000000   \n",
      "unique           NaN      5      7       8           NaN           NaN   \n",
      "top              NaN  Ideal      G     SI1           NaN           NaN   \n",
      "freq             NaN  21551  11292   13065           NaN           NaN   \n",
      "mean        0.797940    NaN    NaN     NaN     61.749405     57.457184   \n",
      "std         0.474011    NaN    NaN     NaN      1.432621      2.234491   \n",
      "min         0.200000    NaN    NaN     NaN     43.000000     43.000000   \n",
      "25%         0.400000    NaN    NaN     NaN     61.000000     56.000000   \n",
      "50%         0.700000    NaN    NaN     NaN     61.800000     57.000000   \n",
      "75%         1.040000    NaN    NaN     NaN     62.500000     59.000000   \n",
      "max         5.010000    NaN    NaN     NaN     79.000000     95.000000   \n",
      "\n",
      "               price             x             y             z  \n",
      "count   53940.000000  53940.000000  53940.000000  53940.000000  \n",
      "unique           NaN           NaN           NaN           NaN  \n",
      "top              NaN           NaN           NaN           NaN  \n",
      "freq             NaN           NaN           NaN           NaN  \n",
      "mean     3932.799722      5.731157      5.734526      3.538734  \n",
      "std      3989.439738      1.121761      1.142135      0.705699  \n",
      "min       326.000000      0.000000      0.000000      0.000000  \n",
      "25%       950.000000      4.710000      4.720000      2.910000  \n",
      "50%      2401.000000      5.700000      5.710000      3.530000  \n",
      "75%      5324.250000      6.540000      6.540000      4.040000  \n",
      "max     18823.000000     10.740000     58.900000     31.800000  \n"
     ]
    }
   ],
   "source": [
    "print(dia.describe(include = 'all')) # include = 'all': 산술 데이터가 아닌 열에 대한 정보를 추가하는 옵션"
   ]
  },
  {
   "cell_type": "code",
   "execution_count": 59,
   "metadata": {},
   "outputs": [
    {
     "name": "stdout",
     "output_type": "stream",
     "text": [
      "carat      53940\n",
      "cut        53940\n",
      "color      53940\n",
      "clarity    53940\n",
      "depth      53940\n",
      "table      53940\n",
      "price      53940\n",
      "x          53940\n",
      "y          53940\n",
      "z          53940\n",
      "dtype: int64\n",
      "\n",
      "\n",
      "<class 'pandas.core.series.Series'>\n"
     ]
    }
   ],
   "source": [
    "print(dia.count())\n",
    "print('\\n')\n",
    "print(type(dia.count()))"
   ]
  },
  {
   "cell_type": "code",
   "execution_count": 60,
   "metadata": {},
   "outputs": [
    {
     "name": "stdout",
     "output_type": "stream",
     "text": [
      "Ideal        21551\n",
      "Premium      13791\n",
      "Very Good    12082\n",
      "Good          4906\n",
      "Fair          1610\n",
      "Name: cut, dtype: int64\n"
     ]
    }
   ],
   "source": [
    "print(dia['cut'].value_counts())"
   ]
  },
  {
   "cell_type": "code",
   "execution_count": 61,
   "metadata": {},
   "outputs": [
    {
     "name": "stdout",
     "output_type": "stream",
     "text": [
      "carat       0.797940\n",
      "depth      61.749405\n",
      "table      57.457184\n",
      "price    3932.799722\n",
      "x           5.731157\n",
      "y           5.734526\n",
      "z           3.538734\n",
      "dtype: float64\n"
     ]
    }
   ],
   "source": [
    "print(dia.mean())"
   ]
  },
  {
   "cell_type": "code",
   "execution_count": 62,
   "metadata": {},
   "outputs": [
    {
     "name": "stdout",
     "output_type": "stream",
     "text": [
      "carat       0.474011\n",
      "depth       1.432621\n",
      "table       2.234491\n",
      "price    3989.439738\n",
      "x           1.121761\n",
      "y           1.142135\n",
      "z           0.705699\n",
      "dtype: float64\n"
     ]
    }
   ],
   "source": [
    "print(dia.std())"
   ]
  },
  {
   "cell_type": "code",
   "execution_count": 63,
   "metadata": {},
   "outputs": [
    {
     "name": "stdout",
     "output_type": "stream",
     "text": [
      "carat       0.70\n",
      "depth      61.80\n",
      "table      57.00\n",
      "price    2401.00\n",
      "x           5.70\n",
      "y           5.71\n",
      "z           3.53\n",
      "dtype: float64\n"
     ]
    }
   ],
   "source": [
    "print(dia.median())"
   ]
  },
  {
   "cell_type": "code",
   "execution_count": 64,
   "metadata": {},
   "outputs": [
    {
     "name": "stdout",
     "output_type": "stream",
     "text": [
      "          carat     depth     table     price         x         y         z\n",
      "carat  1.000000  0.028224  0.181618  0.921591  0.975094  0.951722  0.953387\n",
      "depth  0.028224  1.000000 -0.295779 -0.010647 -0.025289 -0.029341  0.094924\n",
      "table  0.181618 -0.295779  1.000000  0.127134  0.195344  0.183760  0.150929\n",
      "price  0.921591 -0.010647  0.127134  1.000000  0.884435  0.865421  0.861249\n",
      "x      0.975094 -0.025289  0.195344  0.884435  1.000000  0.974701  0.970772\n",
      "y      0.951722 -0.029341  0.183760  0.865421  0.974701  1.000000  0.952006\n",
      "z      0.953387  0.094924  0.150929  0.861249  0.970772  0.952006  1.000000\n"
     ]
    }
   ],
   "source": [
    "print(dia.corr())"
   ]
  },
  {
   "cell_type": "code",
   "execution_count": 65,
   "metadata": {},
   "outputs": [
    {
     "name": "stdout",
     "output_type": "stream",
     "text": [
      "carat        5.01\n",
      "price    18823.00\n",
      "dtype: float64\n"
     ]
    }
   ],
   "source": [
    "print(dia[['carat','price']].max())"
   ]
  },
  {
   "cell_type": "code",
   "execution_count": 66,
   "metadata": {},
   "outputs": [
    {
     "name": "stdout",
     "output_type": "stream",
     "text": [
      "carat      0.2\n",
      "price    326.0\n",
      "dtype: float64\n"
     ]
    }
   ],
   "source": [
    "print(dia[['carat','price']].min())"
   ]
  },
  {
   "cell_type": "code",
   "execution_count": 72,
   "metadata": {},
   "outputs": [
    {
     "name": "stdout",
     "output_type": "stream",
     "text": [
      "      Korea  Japan  America\n",
      "Year                       \n",
      "2000   61.5   69.0     74.1\n",
      "2001   62.2   68.9     73.1\n",
      "2002   63.4   68.3     71.9\n",
      "2003   63.0   68.5     71.2\n",
      "2004   63.8   68.8     71.2\n",
      "\n",
      "\n"
     ]
    },
    {
     "data": {
      "text/plain": [
       "<matplotlib.axes._subplots.AxesSubplot at 0x2216d258348>"
      ]
     },
     "execution_count": 72,
     "metadata": {},
     "output_type": "execute_result"
    },
    {
     "data": {
      "image/png": "[encoded data removed]",
      "text/plain": [
       "<Figure size 432x288 with 1 Axes>"
      ]
     },
     "metadata": {
      "needs_background": "light"
     },
     "output_type": "display_data"
    }
   ],
   "source": [
    "# 판다스 내장 그래프 도구\n",
    "\n",
    "hr = pd.read_csv('hiring_rate.csv')\n",
    "hr = hr.set_index(['Year'])\n",
    "print(hr.head())\n",
    "print('\\n')\n",
    "hr.plot()"
   ]
  },
  {
   "cell_type": "code",
   "execution_count": 74,
   "metadata": {},
   "outputs": [
    {
     "data": {
      "text/plain": [
       "<matplotlib.axes._subplots.AxesSubplot at 0x2216dadc988>"
      ]
     },
     "execution_count": 74,
     "metadata": {},
     "output_type": "execute_result"
    },
    {
     "data": {
      "image/png": "[encoded data removed]",
      "text/plain": [
       "<Figure size 432x288 with 1 Axes>"
      ]
     },
     "metadata": {
      "needs_background": "light"
     },
     "output_type": "display_data"
    }
   ],
   "source": [
    "hr.plot(kind = 'bar')"
   ]
  },
  {
   "cell_type": "code",
   "execution_count": 75,
   "metadata": {},
   "outputs": [
    {
     "data": {
      "text/plain": [
       "<matplotlib.axes._subplots.AxesSubplot at 0x2216dc3fd88>"
      ]
     },
     "execution_count": 75,
     "metadata": {},
     "output_type": "execute_result"
    },
    {
     "data": {
      "image/png": "[encoded data removed]",
      "text/plain": [
       "<Figure size 432x288 with 1 Axes>"
      ]
     },
     "metadata": {
      "needs_background": "light"
     },
     "output_type": "display_data"
    }
   ],
   "source": [
    "hr.plot(kind = 'hist')"
   ]
  },
  {
   "cell_type": "code",
   "execution_count": 76,
   "metadata": {},
   "outputs": [
    {
     "data": {
      "text/plain": [
       "<matplotlib.axes._subplots.AxesSubplot at 0x2216dd056c8>"
      ]
     },
     "execution_count": 76,
     "metadata": {},
     "output_type": "execute_result"
    },
    {
     "data": {
      "image/png": "[encoded data removed]",
      "text/plain": [
       "<Figure size 432x288 with 1 Axes>"
      ]
     },
     "metadata": {
      "needs_background": "light"
     },
     "output_type": "display_data"
    }
   ],
   "source": [
    "hr.plot(x = 'Japan', y= 'Korea', kind='scatter')"
   ]
  },
  {
   "cell_type": "code",
   "execution_count": 77,
   "metadata": {},
   "outputs": [
    {
     "data": {
      "text/plain": [
       "<matplotlib.axes._subplots.AxesSubplot at 0x2216dd6b9c8>"
      ]
     },
     "execution_count": 77,
     "metadata": {},
     "output_type": "execute_result"
    },
    {
     "data": {
      "image/png": "[encoded data removed]",
      "text/plain": [
       "<Figure size 432x288 with 1 Axes>"
      ]
     },
     "metadata": {
      "needs_background": "light"
     },
     "output_type": "display_data"
    }
   ],
   "source": [
    "hr[['Korea','Japan','America']].plot(kind='box')"
   ]
  },
  {
   "cell_type": "markdown",
   "metadata": {},
   "source": [
    "### 03. 데이터 사전 처리 (part 5)"
   ]
  },
  {
   "cell_type": "code",
   "execution_count": 105,
   "metadata": {},
   "outputs": [
    {
     "data": {
      "text/html": [
       "<div>\n",
       "<style scoped>\n",
       "    .dataframe tbody tr th:only-of-type {\n",
       "        vertical-align: middle;\n",
       "    }\n",
       "\n",
       "    .dataframe tbody tr th {\n",
       "        vertical-align: top;\n",
       "    }\n",
       "\n",
       "    .dataframe thead th {\n",
       "        text-align: right;\n",
       "    }\n",
       "</style>\n",
       "<table border=\"1\" class=\"dataframe\">\n",
       "  <thead>\n",
       "    <tr style=\"text-align: right;\">\n",
       "      <th></th>\n",
       "      <th>대여일자</th>\n",
       "      <th>대여소번호</th>\n",
       "      <th>대여소</th>\n",
       "      <th>대여구분코드</th>\n",
       "      <th>성별</th>\n",
       "      <th>연령대코드</th>\n",
       "      <th>이용건수</th>\n",
       "      <th>운동량</th>\n",
       "      <th>탄소량</th>\n",
       "      <th>이동거리(M)</th>\n",
       "      <th>이동시간(분)</th>\n",
       "    </tr>\n",
       "  </thead>\n",
       "  <tbody>\n",
       "    <tr>\n",
       "      <th>0</th>\n",
       "      <td>2019-01-01</td>\n",
       "      <td>3</td>\n",
       "      <td>중랑센터</td>\n",
       "      <td>일일(회원)</td>\n",
       "      <td>M</td>\n",
       "      <td>AGE_003</td>\n",
       "      <td>12</td>\n",
       "      <td>288.87</td>\n",
       "      <td>2.25</td>\n",
       "      <td>9690</td>\n",
       "      <td>117</td>\n",
       "    </tr>\n",
       "    <tr>\n",
       "      <th>1</th>\n",
       "      <td>2019-01-01</td>\n",
       "      <td>3</td>\n",
       "      <td>중랑센터</td>\n",
       "      <td>일일(회원)</td>\n",
       "      <td>M</td>\n",
       "      <td>AGE_004</td>\n",
       "      <td>8</td>\n",
       "      <td>424.63</td>\n",
       "      <td>3.32</td>\n",
       "      <td>14310</td>\n",
       "      <td>151</td>\n",
       "    </tr>\n",
       "    <tr>\n",
       "      <th>2</th>\n",
       "      <td>2019-01-01</td>\n",
       "      <td>3</td>\n",
       "      <td>중랑센터</td>\n",
       "      <td>일일(회원)</td>\n",
       "      <td>M</td>\n",
       "      <td>AGE_005</td>\n",
       "      <td>27</td>\n",
       "      <td>4579.48</td>\n",
       "      <td>41.29</td>\n",
       "      <td>177910</td>\n",
       "      <td>542</td>\n",
       "    </tr>\n",
       "    <tr>\n",
       "      <th>3</th>\n",
       "      <td>2019-01-01</td>\n",
       "      <td>3</td>\n",
       "      <td>중랑센터</td>\n",
       "      <td>정기</td>\n",
       "      <td>M</td>\n",
       "      <td>AGE_003</td>\n",
       "      <td>17</td>\n",
       "      <td>3438.8</td>\n",
       "      <td>33.58</td>\n",
       "      <td>144730</td>\n",
       "      <td>593</td>\n",
       "    </tr>\n",
       "    <tr>\n",
       "      <th>4</th>\n",
       "      <td>2019-01-01</td>\n",
       "      <td>5</td>\n",
       "      <td>상암센터 정비실</td>\n",
       "      <td>일일(회원)</td>\n",
       "      <td>M</td>\n",
       "      <td>AGE_004</td>\n",
       "      <td>1</td>\n",
       "      <td>78.31</td>\n",
       "      <td>0.72</td>\n",
       "      <td>3090</td>\n",
       "      <td>33</td>\n",
       "    </tr>\n",
       "    <tr>\n",
       "      <th>...</th>\n",
       "      <td>...</td>\n",
       "      <td>...</td>\n",
       "      <td>...</td>\n",
       "      <td>...</td>\n",
       "      <td>...</td>\n",
       "      <td>...</td>\n",
       "      <td>...</td>\n",
       "      <td>...</td>\n",
       "      <td>...</td>\n",
       "      <td>...</td>\n",
       "      <td>...</td>\n",
       "    </tr>\n",
       "    <tr>\n",
       "      <th>284578</th>\n",
       "      <td>2019-06-01</td>\n",
       "      <td>9997</td>\n",
       "      <td>9997.강남센터</td>\n",
       "      <td>정기</td>\n",
       "      <td>M</td>\n",
       "      <td>AGE_002</td>\n",
       "      <td>2</td>\n",
       "      <td>95.7</td>\n",
       "      <td>0.85</td>\n",
       "      <td>3690</td>\n",
       "      <td>20</td>\n",
       "    </tr>\n",
       "    <tr>\n",
       "      <th>284579</th>\n",
       "      <td>2019-06-01</td>\n",
       "      <td>9997</td>\n",
       "      <td>9997.강남센터</td>\n",
       "      <td>정기</td>\n",
       "      <td>M</td>\n",
       "      <td>AGE_003</td>\n",
       "      <td>1</td>\n",
       "      <td>41.58</td>\n",
       "      <td>0.41</td>\n",
       "      <td>1750</td>\n",
       "      <td>14</td>\n",
       "    </tr>\n",
       "    <tr>\n",
       "      <th>284580</th>\n",
       "      <td>2019-06-01</td>\n",
       "      <td>9997</td>\n",
       "      <td>9997.강남센터</td>\n",
       "      <td>정기</td>\n",
       "      <td>M</td>\n",
       "      <td>AGE_005</td>\n",
       "      <td>1</td>\n",
       "      <td>35.64</td>\n",
       "      <td>0.28</td>\n",
       "      <td>1200</td>\n",
       "      <td>7</td>\n",
       "    </tr>\n",
       "    <tr>\n",
       "      <th>284581</th>\n",
       "      <td>2019-06-01</td>\n",
       "      <td>9998</td>\n",
       "      <td>9998. 영남주차장 정비센터</td>\n",
       "      <td>일일(회원)</td>\n",
       "      <td></td>\n",
       "      <td>AGE_004</td>\n",
       "      <td>3</td>\n",
       "      <td>602.86</td>\n",
       "      <td>4.16</td>\n",
       "      <td>17910</td>\n",
       "      <td>121</td>\n",
       "    </tr>\n",
       "    <tr>\n",
       "      <th>284582</th>\n",
       "      <td>2019-06-01</td>\n",
       "      <td>9998</td>\n",
       "      <td>9998. 영남주차장 정비센터</td>\n",
       "      <td>정기</td>\n",
       "      <td>M</td>\n",
       "      <td>AGE_004</td>\n",
       "      <td>2</td>\n",
       "      <td>672.82</td>\n",
       "      <td>5.05</td>\n",
       "      <td>21770</td>\n",
       "      <td>108</td>\n",
       "    </tr>\n",
       "  </tbody>\n",
       "</table>\n",
       "<p>284583 rows × 11 columns</p>\n",
       "</div>"
      ],
      "text/plain": [
       "             대여일자  대여소번호               대여소  대여구분코드 성별    연령대코드  이용건수      운동량  \\\n",
       "0      2019-01-01      3              중랑센터  일일(회원)  M  AGE_003    12   288.87   \n",
       "1      2019-01-01      3              중랑센터  일일(회원)  M  AGE_004     8   424.63   \n",
       "2      2019-01-01      3              중랑센터  일일(회원)  M  AGE_005    27  4579.48   \n",
       "3      2019-01-01      3              중랑센터      정기  M  AGE_003    17   3438.8   \n",
       "4      2019-01-01      5          상암센터 정비실  일일(회원)  M  AGE_004     1    78.31   \n",
       "...           ...    ...               ...     ... ..      ...   ...      ...   \n",
       "284578 2019-06-01   9997         9997.강남센터      정기  M  AGE_002     2     95.7   \n",
       "284579 2019-06-01   9997         9997.강남센터      정기  M  AGE_003     1    41.58   \n",
       "284580 2019-06-01   9997         9997.강남센터      정기  M  AGE_005     1    35.64   \n",
       "284581 2019-06-01   9998  9998. 영남주차장 정비센터  일일(회원)     AGE_004     3   602.86   \n",
       "284582 2019-06-01   9998  9998. 영남주차장 정비센터      정기  M  AGE_004     2   672.82   \n",
       "\n",
       "          탄소량  이동거리(M)  이동시간(분)  \n",
       "0        2.25     9690      117  \n",
       "1        3.32    14310      151  \n",
       "2       41.29   177910      542  \n",
       "3       33.58   144730      593  \n",
       "4        0.72     3090       33  \n",
       "...       ...      ...      ...  \n",
       "284578   0.85     3690       20  \n",
       "284579   0.41     1750       14  \n",
       "284580   0.28     1200        7  \n",
       "284581   4.16    17910      121  \n",
       "284582   5.05    21770      108  \n",
       "\n",
       "[284583 rows x 11 columns]"
      ]
     },
     "execution_count": 105,
     "metadata": {},
     "output_type": "execute_result"
    }
   ],
   "source": [
    "import pandas as pd\n",
    "bicycle = pd.read_excel('서울특별시 공공자전거 이용정보(월별)_201901_201906.xlsx')\n",
    "bicycle"
   ]
  },
  {
   "cell_type": "code",
   "execution_count": 106,
   "metadata": {},
   "outputs": [
    {
     "name": "stdout",
     "output_type": "stream",
     "text": [
      "<class 'pandas.core.frame.DataFrame'>\n",
      "RangeIndex: 284583 entries, 0 to 284582\n",
      "Data columns (total 11 columns):\n",
      " #   Column   Non-Null Count   Dtype         \n",
      "---  ------   --------------   -----         \n",
      " 0   대여일자     284583 non-null  datetime64[ns]\n",
      " 1   대여소번호    284583 non-null  int64         \n",
      " 2   대여소      284583 non-null  object        \n",
      " 3   대여구분코드   284583 non-null  object        \n",
      " 4   성별       271732 non-null  object        \n",
      " 5   연령대코드    284583 non-null  object        \n",
      " 6   이용건수     284583 non-null  int64         \n",
      " 7   운동량      284583 non-null  object        \n",
      " 8   탄소량      284583 non-null  object        \n",
      " 9   이동거리(M)  284583 non-null  int64         \n",
      " 10  이동시간(분)  284583 non-null  int64         \n",
      "dtypes: datetime64[ns](1), int64(4), object(6)\n",
      "memory usage: 23.9+ MB\n"
     ]
    }
   ],
   "source": [
    "bicycle.info()"
   ]
  },
  {
   "cell_type": "code",
   "execution_count": 107,
   "metadata": {},
   "outputs": [],
   "source": [
    "# 성별 변수에 결측치가 많다."
   ]
  },
  {
   "cell_type": "code",
   "execution_count": 112,
   "metadata": {},
   "outputs": [
    {
     "data": {
      "text/plain": [
       "       111295\n",
       "M       86349\n",
       "F       73977\n",
       "NaN     12851\n",
       "m          65\n",
       "f          46\n",
       "Name: 성별, dtype: int64"
      ]
     },
     "execution_count": 112,
     "metadata": {},
     "output_type": "execute_result"
    }
   ],
   "source": [
    "bicycle['성별'].value_counts(dropna = False)\n",
    "# dropna=False 옵션(default는 True)을 주면 누락데이터(NaN)의 개수도 함께 카운트해 준다."
   ]
  },
  {
   "cell_type": "code",
   "execution_count": null,
   "metadata": {},
   "outputs": [],
   "source": [
    "# 결측치 뿐만 아니라 ' '(공란) 값도 111295나 된다."
   ]
  },
  {
   "cell_type": "code",
   "execution_count": 124,
   "metadata": {},
   "outputs": [
    {
     "name": "stdout",
     "output_type": "stream",
     "text": [
      "\"성별\" 변수의 결측치 비율: 0.4362382854914032\n"
     ]
    }
   ],
   "source": [
    "import numpy as np\n",
    "bicycle['성별'].replace(' ',np.nan, inplace = True)\n",
    "print('\"성별\" 변수의 결측치 비율:', bicycle['성별'].isnull().sum()/len(bicycle))"
   ]
  },
  {
   "cell_type": "code",
   "execution_count": 126,
   "metadata": {},
   "outputs": [],
   "source": [
    "# 결측치가 43%로 너무 많다. -> ['성별']을 제거하는게 낫다."
   ]
  },
  {
   "cell_type": "code",
   "execution_count": 127,
   "metadata": {},
   "outputs": [
    {
     "name": "stdout",
     "output_type": "stream",
     "text": [
      "<class 'pandas.core.frame.DataFrame'>\n",
      "RangeIndex: 284583 entries, 0 to 284582\n",
      "Data columns (total 10 columns):\n",
      " #   Column   Non-Null Count   Dtype         \n",
      "---  ------   --------------   -----         \n",
      " 0   대여일자     284583 non-null  datetime64[ns]\n",
      " 1   대여소번호    284583 non-null  int64         \n",
      " 2   대여소      284583 non-null  object        \n",
      " 3   대여구분코드   284583 non-null  object        \n",
      " 4   연령대코드    284583 non-null  object        \n",
      " 5   이용건수     284583 non-null  int64         \n",
      " 6   운동량      284583 non-null  object        \n",
      " 7   탄소량      284583 non-null  object        \n",
      " 8   이동거리(M)  284583 non-null  int64         \n",
      " 9   이동시간(분)  284583 non-null  int64         \n",
      "dtypes: datetime64[ns](1), int64(4), object(5)\n",
      "memory usage: 21.7+ MB\n"
     ]
    }
   ],
   "source": [
    "bicycle = bicycle.drop(columns = ['성별'], axis = 1)\n",
    "bicycle.info()"
   ]
  },
  {
   "cell_type": "code",
   "execution_count": 128,
   "metadata": {},
   "outputs": [
    {
     "name": "stdout",
     "output_type": "stream",
     "text": [
      "[   3    5  101 ...  462  972 9993]\n"
     ]
    }
   ],
   "source": [
    "print(bicycle['대여소번호'].unique())\n",
    "bicycle['대여소번호'] = bicycle['대여소번호'].astype('category')"
   ]
  },
  {
   "cell_type": "code",
   "execution_count": 129,
   "metadata": {},
   "outputs": [
    {
     "name": "stdout",
     "output_type": "stream",
     "text": [
      "['일일(회원)' '정기' '단체' '일일(비회원)']\n"
     ]
    }
   ],
   "source": [
    "print(bicycle['대여구분코드'].unique())\n",
    "bicycle['대여구분코드'] = bicycle['대여구분코드'].astype('category')"
   ]
  },
  {
   "cell_type": "code",
   "execution_count": 130,
   "metadata": {},
   "outputs": [
    {
     "name": "stdout",
     "output_type": "stream",
     "text": [
      "['AGE_003' 'AGE_004' 'AGE_005' 'AGE_002' 'AGE_008' 'AGE_001' 'AGE_006'\n",
      " 'AGE_007']\n"
     ]
    }
   ],
   "source": [
    "print(bicycle['연령대코드'].unique())\n",
    "bicycle['연령대코드'] = bicycle['연령대코드'].astype('category')"
   ]
  },
  {
   "cell_type": "code",
   "execution_count": 131,
   "metadata": {},
   "outputs": [
    {
     "name": "stdout",
     "output_type": "stream",
     "text": [
      "운동량 : \n",
      "0           779\n",
      "            276\n",
      "39.64        63\n",
      "45.3         57\n",
      "54.05        52\n",
      "           ... \n",
      "2715.36       1\n",
      "9027.65       1\n",
      "10063.67      1\n",
      "17061.54      1\n",
      "2068.47       1\n",
      "Name: 운동량, Length: 185854, dtype: int64\n",
      "\n",
      "\n",
      "탄소량 : \n",
      "0.00      827\n",
      "0.32      630\n",
      "0.42      619\n",
      "0.39      590\n",
      "0.29      581\n",
      "         ... \n",
      "116.66      1\n",
      "264.72      1\n",
      "482.08      1\n",
      "136.63      1\n",
      "156.77      1\n",
      "Name: 탄소량, Length: 22941, dtype: int64\n"
     ]
    }
   ],
   "source": [
    "print('운동량 : ')\n",
    "print(bicycle['운동량'].value_counts())\n",
    "print('\\n')\n",
    "print('탄소량 : ')\n",
    "print(bicycle['탄소량'].value_counts())"
   ]
  },
  {
   "cell_type": "code",
   "execution_count": 137,
   "metadata": {},
   "outputs": [
    {
     "name": "stdout",
     "output_type": "stream",
     "text": [
      "\"운동량\" 변수의 결측치 비율: 0.0009698400818039025\n",
      "\"탄소량\" 변수의 결측치 비율: 0.0009698400818039025\n"
     ]
    }
   ],
   "source": [
    "bicycle['운동량'].replace(' ',np.nan, inplace=True)\n",
    "bicycle['탄소량'].replace(' ',np.nan, inplace=True)\n",
    "\n",
    "print('\"운동량\" 변수의 결측치 비율:', bicycle['운동량'].isnull().sum(axis = 0)/len(bicycle))\n",
    "print('\"탄소량\" 변수의 결측치 비율:', bicycle['탄소량'].isnull().sum(axis = 0)/len(bicycle))"
   ]
  },
  {
   "cell_type": "code",
   "execution_count": 138,
   "metadata": {},
   "outputs": [
    {
     "name": "stdout",
     "output_type": "stream",
     "text": [
      "<class 'pandas.core.frame.DataFrame'>\n",
      "Int64Index: 284307 entries, 0 to 284582\n",
      "Data columns (total 10 columns):\n",
      " #   Column   Non-Null Count   Dtype         \n",
      "---  ------   --------------   -----         \n",
      " 0   대여일자     284307 non-null  datetime64[ns]\n",
      " 1   대여소번호    284307 non-null  category      \n",
      " 2   대여소      284307 non-null  object        \n",
      " 3   대여구분코드   284307 non-null  category      \n",
      " 4   연령대코드    284307 non-null  category      \n",
      " 5   이용건수     284307 non-null  int64         \n",
      " 6   운동량      284307 non-null  float64       \n",
      " 7   탄소량      284307 non-null  float64       \n",
      " 8   이동거리(M)  284307 non-null  int64         \n",
      " 9   이동시간(분)  284307 non-null  int64         \n",
      "dtypes: category(3), datetime64[ns](1), float64(2), int64(3), object(1)\n",
      "memory usage: 18.5+ MB\n"
     ]
    }
   ],
   "source": [
    "# 결측 행 제거\n",
    "bicycle = bicycle.dropna(subset = ['운동량'], how = 'any', axis = 0)\n",
    "bicycle = bicycle.dropna(subset = ['탄소량'], how = 'any', axis = 0)\n",
    "\n",
    "bicycle.info()"
   ]
  },
  {
   "cell_type": "markdown",
   "metadata": {},
   "source": [
    "#### 시계열 데이터"
   ]
  },
  {
   "cell_type": "code",
   "execution_count": 139,
   "metadata": {},
   "outputs": [
    {
     "data": {
      "text/plain": [
       "array(['2019-01-01T00:00:00.000000000', '2019-02-01T00:00:00.000000000',\n",
       "       '2019-03-01T00:00:00.000000000', '2019-04-01T00:00:00.000000000',\n",
       "       '2019-05-01T00:00:00.000000000', '2019-06-01T00:00:00.000000000'],\n",
       "      dtype='datetime64[ns]')"
      ]
     },
     "execution_count": 139,
     "metadata": {},
     "output_type": "execute_result"
    }
   ],
   "source": [
    "bicycle['대여일자'].unique()"
   ]
  },
  {
   "cell_type": "code",
   "execution_count": 140,
   "metadata": {},
   "outputs": [],
   "source": [
    "bicycle_EDA = bicycle[:]\n",
    "bicycle_EDA['대여일자'] = bicycle_EDA['대여일자'].dt.to_period(freq = 'M')"
   ]
  },
  {
   "cell_type": "code",
   "execution_count": 141,
   "metadata": {},
   "outputs": [
    {
     "data": {
      "text/html": [
       "<div>\n",
       "<style scoped>\n",
       "    .dataframe tbody tr th:only-of-type {\n",
       "        vertical-align: middle;\n",
       "    }\n",
       "\n",
       "    .dataframe tbody tr th {\n",
       "        vertical-align: top;\n",
       "    }\n",
       "\n",
       "    .dataframe thead th {\n",
       "        text-align: right;\n",
       "    }\n",
       "</style>\n",
       "<table border=\"1\" class=\"dataframe\">\n",
       "  <thead>\n",
       "    <tr style=\"text-align: right;\">\n",
       "      <th></th>\n",
       "      <th>대여일자</th>\n",
       "      <th>대여소번호</th>\n",
       "      <th>대여소</th>\n",
       "      <th>대여구분코드</th>\n",
       "      <th>연령대코드</th>\n",
       "      <th>이용건수</th>\n",
       "      <th>운동량</th>\n",
       "      <th>탄소량</th>\n",
       "      <th>이동거리(M)</th>\n",
       "      <th>이동시간(분)</th>\n",
       "    </tr>\n",
       "  </thead>\n",
       "  <tbody>\n",
       "    <tr>\n",
       "      <th>0</th>\n",
       "      <td>2019-01</td>\n",
       "      <td>3</td>\n",
       "      <td>중랑센터</td>\n",
       "      <td>일일(회원)</td>\n",
       "      <td>AGE_003</td>\n",
       "      <td>12</td>\n",
       "      <td>288.87</td>\n",
       "      <td>2.25</td>\n",
       "      <td>9690</td>\n",
       "      <td>117</td>\n",
       "    </tr>\n",
       "    <tr>\n",
       "      <th>1</th>\n",
       "      <td>2019-01</td>\n",
       "      <td>3</td>\n",
       "      <td>중랑센터</td>\n",
       "      <td>일일(회원)</td>\n",
       "      <td>AGE_004</td>\n",
       "      <td>8</td>\n",
       "      <td>424.63</td>\n",
       "      <td>3.32</td>\n",
       "      <td>14310</td>\n",
       "      <td>151</td>\n",
       "    </tr>\n",
       "    <tr>\n",
       "      <th>2</th>\n",
       "      <td>2019-01</td>\n",
       "      <td>3</td>\n",
       "      <td>중랑센터</td>\n",
       "      <td>일일(회원)</td>\n",
       "      <td>AGE_005</td>\n",
       "      <td>27</td>\n",
       "      <td>4579.48</td>\n",
       "      <td>41.29</td>\n",
       "      <td>177910</td>\n",
       "      <td>542</td>\n",
       "    </tr>\n",
       "    <tr>\n",
       "      <th>3</th>\n",
       "      <td>2019-01</td>\n",
       "      <td>3</td>\n",
       "      <td>중랑센터</td>\n",
       "      <td>정기</td>\n",
       "      <td>AGE_003</td>\n",
       "      <td>17</td>\n",
       "      <td>3438.80</td>\n",
       "      <td>33.58</td>\n",
       "      <td>144730</td>\n",
       "      <td>593</td>\n",
       "    </tr>\n",
       "    <tr>\n",
       "      <th>4</th>\n",
       "      <td>2019-01</td>\n",
       "      <td>5</td>\n",
       "      <td>상암센터 정비실</td>\n",
       "      <td>일일(회원)</td>\n",
       "      <td>AGE_004</td>\n",
       "      <td>1</td>\n",
       "      <td>78.31</td>\n",
       "      <td>0.72</td>\n",
       "      <td>3090</td>\n",
       "      <td>33</td>\n",
       "    </tr>\n",
       "    <tr>\n",
       "      <th>...</th>\n",
       "      <td>...</td>\n",
       "      <td>...</td>\n",
       "      <td>...</td>\n",
       "      <td>...</td>\n",
       "      <td>...</td>\n",
       "      <td>...</td>\n",
       "      <td>...</td>\n",
       "      <td>...</td>\n",
       "      <td>...</td>\n",
       "      <td>...</td>\n",
       "    </tr>\n",
       "    <tr>\n",
       "      <th>284578</th>\n",
       "      <td>2019-06</td>\n",
       "      <td>9997</td>\n",
       "      <td>9997.강남센터</td>\n",
       "      <td>정기</td>\n",
       "      <td>AGE_002</td>\n",
       "      <td>2</td>\n",
       "      <td>95.70</td>\n",
       "      <td>0.85</td>\n",
       "      <td>3690</td>\n",
       "      <td>20</td>\n",
       "    </tr>\n",
       "    <tr>\n",
       "      <th>284579</th>\n",
       "      <td>2019-06</td>\n",
       "      <td>9997</td>\n",
       "      <td>9997.강남센터</td>\n",
       "      <td>정기</td>\n",
       "      <td>AGE_003</td>\n",
       "      <td>1</td>\n",
       "      <td>41.58</td>\n",
       "      <td>0.41</td>\n",
       "      <td>1750</td>\n",
       "      <td>14</td>\n",
       "    </tr>\n",
       "    <tr>\n",
       "      <th>284580</th>\n",
       "      <td>2019-06</td>\n",
       "      <td>9997</td>\n",
       "      <td>9997.강남센터</td>\n",
       "      <td>정기</td>\n",
       "      <td>AGE_005</td>\n",
       "      <td>1</td>\n",
       "      <td>35.64</td>\n",
       "      <td>0.28</td>\n",
       "      <td>1200</td>\n",
       "      <td>7</td>\n",
       "    </tr>\n",
       "    <tr>\n",
       "      <th>284581</th>\n",
       "      <td>2019-06</td>\n",
       "      <td>9998</td>\n",
       "      <td>9998. 영남주차장 정비센터</td>\n",
       "      <td>일일(회원)</td>\n",
       "      <td>AGE_004</td>\n",
       "      <td>3</td>\n",
       "      <td>602.86</td>\n",
       "      <td>4.16</td>\n",
       "      <td>17910</td>\n",
       "      <td>121</td>\n",
       "    </tr>\n",
       "    <tr>\n",
       "      <th>284582</th>\n",
       "      <td>2019-06</td>\n",
       "      <td>9998</td>\n",
       "      <td>9998. 영남주차장 정비센터</td>\n",
       "      <td>정기</td>\n",
       "      <td>AGE_004</td>\n",
       "      <td>2</td>\n",
       "      <td>672.82</td>\n",
       "      <td>5.05</td>\n",
       "      <td>21770</td>\n",
       "      <td>108</td>\n",
       "    </tr>\n",
       "  </tbody>\n",
       "</table>\n",
       "<p>284307 rows × 10 columns</p>\n",
       "</div>"
      ],
      "text/plain": [
       "           대여일자 대여소번호               대여소  대여구분코드    연령대코드  이용건수      운동량  \\\n",
       "0       2019-01     3              중랑센터  일일(회원)  AGE_003    12   288.87   \n",
       "1       2019-01     3              중랑센터  일일(회원)  AGE_004     8   424.63   \n",
       "2       2019-01     3              중랑센터  일일(회원)  AGE_005    27  4579.48   \n",
       "3       2019-01     3              중랑센터      정기  AGE_003    17  3438.80   \n",
       "4       2019-01     5          상암센터 정비실  일일(회원)  AGE_004     1    78.31   \n",
       "...         ...   ...               ...     ...      ...   ...      ...   \n",
       "284578  2019-06  9997         9997.강남센터      정기  AGE_002     2    95.70   \n",
       "284579  2019-06  9997         9997.강남센터      정기  AGE_003     1    41.58   \n",
       "284580  2019-06  9997         9997.강남센터      정기  AGE_005     1    35.64   \n",
       "284581  2019-06  9998  9998. 영남주차장 정비센터  일일(회원)  AGE_004     3   602.86   \n",
       "284582  2019-06  9998  9998. 영남주차장 정비센터      정기  AGE_004     2   672.82   \n",
       "\n",
       "          탄소량  이동거리(M)  이동시간(분)  \n",
       "0        2.25     9690      117  \n",
       "1        3.32    14310      151  \n",
       "2       41.29   177910      542  \n",
       "3       33.58   144730      593  \n",
       "4        0.72     3090       33  \n",
       "...       ...      ...      ...  \n",
       "284578   0.85     3690       20  \n",
       "284579   0.41     1750       14  \n",
       "284580   0.28     1200        7  \n",
       "284581   4.16    17910      121  \n",
       "284582   5.05    21770      108  \n",
       "\n",
       "[284307 rows x 10 columns]"
      ]
     },
     "execution_count": 141,
     "metadata": {},
     "output_type": "execute_result"
    }
   ],
   "source": [
    "bicycle_EDA"
   ]
  },
  {
   "cell_type": "code",
   "execution_count": 142,
   "metadata": {},
   "outputs": [
    {
     "data": {
      "text/html": [
       "<div>\n",
       "<style scoped>\n",
       "    .dataframe tbody tr th:only-of-type {\n",
       "        vertical-align: middle;\n",
       "    }\n",
       "\n",
       "    .dataframe tbody tr th {\n",
       "        vertical-align: top;\n",
       "    }\n",
       "\n",
       "    .dataframe thead th {\n",
       "        text-align: right;\n",
       "    }\n",
       "</style>\n",
       "<table border=\"1\" class=\"dataframe\">\n",
       "  <thead>\n",
       "    <tr style=\"text-align: right;\">\n",
       "      <th></th>\n",
       "      <th>대여일자</th>\n",
       "      <th>대여소번호</th>\n",
       "      <th>대여소</th>\n",
       "      <th>대여구분코드</th>\n",
       "      <th>연령대코드</th>\n",
       "      <th>이용건수</th>\n",
       "      <th>운동량</th>\n",
       "      <th>탄소량</th>\n",
       "      <th>이동거리(M)</th>\n",
       "      <th>이동시간(분)</th>\n",
       "      <th>월</th>\n",
       "    </tr>\n",
       "  </thead>\n",
       "  <tbody>\n",
       "    <tr>\n",
       "      <th>0</th>\n",
       "      <td>2019-01</td>\n",
       "      <td>3</td>\n",
       "      <td>중랑센터</td>\n",
       "      <td>일일(회원)</td>\n",
       "      <td>AGE_003</td>\n",
       "      <td>12</td>\n",
       "      <td>288.87</td>\n",
       "      <td>2.25</td>\n",
       "      <td>9690</td>\n",
       "      <td>117</td>\n",
       "      <td>1</td>\n",
       "    </tr>\n",
       "    <tr>\n",
       "      <th>1</th>\n",
       "      <td>2019-01</td>\n",
       "      <td>3</td>\n",
       "      <td>중랑센터</td>\n",
       "      <td>일일(회원)</td>\n",
       "      <td>AGE_004</td>\n",
       "      <td>8</td>\n",
       "      <td>424.63</td>\n",
       "      <td>3.32</td>\n",
       "      <td>14310</td>\n",
       "      <td>151</td>\n",
       "      <td>1</td>\n",
       "    </tr>\n",
       "    <tr>\n",
       "      <th>2</th>\n",
       "      <td>2019-01</td>\n",
       "      <td>3</td>\n",
       "      <td>중랑센터</td>\n",
       "      <td>일일(회원)</td>\n",
       "      <td>AGE_005</td>\n",
       "      <td>27</td>\n",
       "      <td>4579.48</td>\n",
       "      <td>41.29</td>\n",
       "      <td>177910</td>\n",
       "      <td>542</td>\n",
       "      <td>1</td>\n",
       "    </tr>\n",
       "    <tr>\n",
       "      <th>3</th>\n",
       "      <td>2019-01</td>\n",
       "      <td>3</td>\n",
       "      <td>중랑센터</td>\n",
       "      <td>정기</td>\n",
       "      <td>AGE_003</td>\n",
       "      <td>17</td>\n",
       "      <td>3438.80</td>\n",
       "      <td>33.58</td>\n",
       "      <td>144730</td>\n",
       "      <td>593</td>\n",
       "      <td>1</td>\n",
       "    </tr>\n",
       "    <tr>\n",
       "      <th>4</th>\n",
       "      <td>2019-01</td>\n",
       "      <td>5</td>\n",
       "      <td>상암센터 정비실</td>\n",
       "      <td>일일(회원)</td>\n",
       "      <td>AGE_004</td>\n",
       "      <td>1</td>\n",
       "      <td>78.31</td>\n",
       "      <td>0.72</td>\n",
       "      <td>3090</td>\n",
       "      <td>33</td>\n",
       "      <td>1</td>\n",
       "    </tr>\n",
       "  </tbody>\n",
       "</table>\n",
       "</div>"
      ],
      "text/plain": [
       "      대여일자 대여소번호       대여소  대여구분코드    연령대코드  이용건수      운동량    탄소량  이동거리(M)  \\\n",
       "0  2019-01     3      중랑센터  일일(회원)  AGE_003    12   288.87   2.25     9690   \n",
       "1  2019-01     3      중랑센터  일일(회원)  AGE_004     8   424.63   3.32    14310   \n",
       "2  2019-01     3      중랑센터  일일(회원)  AGE_005    27  4579.48  41.29   177910   \n",
       "3  2019-01     3      중랑센터      정기  AGE_003    17  3438.80  33.58   144730   \n",
       "4  2019-01     5  상암센터 정비실  일일(회원)  AGE_004     1    78.31   0.72     3090   \n",
       "\n",
       "   이동시간(분)  월  \n",
       "0      117  1  \n",
       "1      151  1  \n",
       "2      542  1  \n",
       "3      593  1  \n",
       "4       33  1  "
      ]
     },
     "execution_count": 142,
     "metadata": {},
     "output_type": "execute_result"
    }
   ],
   "source": [
    "bicycle_EDA['월'] = bicycle_EDA['대여일자'].dt.month\n",
    "bicycle_EDA.head()"
   ]
  },
  {
   "cell_type": "code",
   "execution_count": 143,
   "metadata": {},
   "outputs": [
    {
     "name": "stdout",
     "output_type": "stream",
     "text": [
      "<class 'pandas.core.frame.DataFrame'>\n",
      "Int64Index: 284307 entries, 0 to 284582\n",
      "Data columns (total 11 columns):\n",
      " #   Column   Non-Null Count   Dtype    \n",
      "---  ------   --------------   -----    \n",
      " 0   대여일자     284307 non-null  period[M]\n",
      " 1   대여소번호    284307 non-null  category \n",
      " 2   대여소      284307 non-null  object   \n",
      " 3   대여구분코드   284307 non-null  category \n",
      " 4   연령대코드    284307 non-null  category \n",
      " 5   이용건수     284307 non-null  int64    \n",
      " 6   운동량      284307 non-null  float64  \n",
      " 7   탄소량      284307 non-null  float64  \n",
      " 8   이동거리(M)  284307 non-null  int64    \n",
      " 9   이동시간(분)  284307 non-null  int64    \n",
      " 10  월        284307 non-null  int64    \n",
      "dtypes: category(3), float64(2), int64(4), object(1), period[M](1)\n",
      "memory usage: 20.7+ MB\n"
     ]
    }
   ],
   "source": [
    "bicycle_EDA.info()"
   ]
  },
  {
   "cell_type": "code",
   "execution_count": 144,
   "metadata": {},
   "outputs": [],
   "source": [
    "bicycle_EDA['월'] = bicycle_EDA['월'].astype('category')"
   ]
  },
  {
   "cell_type": "code",
   "execution_count": 152,
   "metadata": {},
   "outputs": [
    {
     "name": "stdout",
     "output_type": "stream",
     "text": [
      "월\n",
      "1     495535\n",
      "2     471488\n",
      "3     904744\n",
      "4    1468794\n",
      "5    2151012\n",
      "6    2293801\n",
      "Name: 이용건수, dtype: int64\n"
     ]
    }
   ],
   "source": [
    "# 월별 이용자 수 그래프 그리기\n",
    "import matplotlib.pyplot as plt\n",
    "\n",
    "month_user = bicycle_EDA.groupby('월')['이용건수'].sum()\n",
    "print(month_user)"
   ]
  },
  {
   "cell_type": "code",
   "execution_count": 153,
   "metadata": {},
   "outputs": [
    {
     "data": {
      "text/plain": [
       "<BarContainer object of 6 artists>"
      ]
     },
     "execution_count": 153,
     "metadata": {},
     "output_type": "execute_result"
    },
    {
     "data": {
      "image/png": "[encoded data removed]",
      "text/plain": [
       "<Figure size 432x288 with 1 Axes>"
      ]
     },
     "metadata": {
      "needs_background": "light"
     },
     "output_type": "display_data"
    }
   ],
   "source": [
    "plt.bar(month_user.index, month_user.values,color='green')"
   ]
  },
  {
   "cell_type": "code",
   "execution_count": 154,
   "metadata": {},
   "outputs": [
    {
     "name": "stdout",
     "output_type": "stream",
     "text": [
      "<class 'pandas.core.frame.DataFrame'>\n",
      "Int64Index: 284307 entries, 0 to 284582\n",
      "Data columns (total 10 columns):\n",
      " #   Column   Non-Null Count   Dtype         \n",
      "---  ------   --------------   -----         \n",
      " 0   대여일자     284307 non-null  datetime64[ns]\n",
      " 1   대여소번호    284307 non-null  category      \n",
      " 2   대여소      284307 non-null  object        \n",
      " 3   대여구분코드   284307 non-null  category      \n",
      " 4   연령대코드    284307 non-null  category      \n",
      " 5   이용건수     284307 non-null  int64         \n",
      " 6   운동량      284307 non-null  float64       \n",
      " 7   탄소량      284307 non-null  float64       \n",
      " 8   이동거리(M)  284307 non-null  int64         \n",
      " 9   이동시간(분)  284307 non-null  int64         \n",
      "dtypes: category(3), datetime64[ns](1), float64(2), int64(3), object(1)\n",
      "memory usage: 18.5+ MB\n"
     ]
    }
   ],
   "source": [
    "bicycle.info()"
   ]
  },
  {
   "cell_type": "code",
   "execution_count": 160,
   "metadata": {},
   "outputs": [
    {
     "data": {
      "text/html": [
       "<div>\n",
       "<style scoped>\n",
       "    .dataframe tbody tr th:only-of-type {\n",
       "        vertical-align: middle;\n",
       "    }\n",
       "\n",
       "    .dataframe tbody tr th {\n",
       "        vertical-align: top;\n",
       "    }\n",
       "\n",
       "    .dataframe thead th {\n",
       "        text-align: right;\n",
       "    }\n",
       "</style>\n",
       "<table border=\"1\" class=\"dataframe\">\n",
       "  <thead>\n",
       "    <tr style=\"text-align: right;\">\n",
       "      <th></th>\n",
       "      <th>대여일자</th>\n",
       "      <th>대여구분코드</th>\n",
       "      <th>연령대코드</th>\n",
       "      <th>이용건수</th>\n",
       "      <th>운동량</th>\n",
       "      <th>탄소량</th>\n",
       "      <th>이동거리(M)</th>\n",
       "      <th>이동시간(분)</th>\n",
       "    </tr>\n",
       "  </thead>\n",
       "  <tbody>\n",
       "    <tr>\n",
       "      <th>0</th>\n",
       "      <td>2019-01-01</td>\n",
       "      <td>일일(회원)</td>\n",
       "      <td>AGE_003</td>\n",
       "      <td>12</td>\n",
       "      <td>288.87</td>\n",
       "      <td>2.25</td>\n",
       "      <td>9690</td>\n",
       "      <td>117</td>\n",
       "    </tr>\n",
       "    <tr>\n",
       "      <th>1</th>\n",
       "      <td>2019-01-01</td>\n",
       "      <td>일일(회원)</td>\n",
       "      <td>AGE_004</td>\n",
       "      <td>8</td>\n",
       "      <td>424.63</td>\n",
       "      <td>3.32</td>\n",
       "      <td>14310</td>\n",
       "      <td>151</td>\n",
       "    </tr>\n",
       "    <tr>\n",
       "      <th>2</th>\n",
       "      <td>2019-01-01</td>\n",
       "      <td>일일(회원)</td>\n",
       "      <td>AGE_005</td>\n",
       "      <td>27</td>\n",
       "      <td>4579.48</td>\n",
       "      <td>41.29</td>\n",
       "      <td>177910</td>\n",
       "      <td>542</td>\n",
       "    </tr>\n",
       "    <tr>\n",
       "      <th>3</th>\n",
       "      <td>2019-01-01</td>\n",
       "      <td>정기</td>\n",
       "      <td>AGE_003</td>\n",
       "      <td>17</td>\n",
       "      <td>3438.80</td>\n",
       "      <td>33.58</td>\n",
       "      <td>144730</td>\n",
       "      <td>593</td>\n",
       "    </tr>\n",
       "    <tr>\n",
       "      <th>4</th>\n",
       "      <td>2019-01-01</td>\n",
       "      <td>일일(회원)</td>\n",
       "      <td>AGE_004</td>\n",
       "      <td>1</td>\n",
       "      <td>78.31</td>\n",
       "      <td>0.72</td>\n",
       "      <td>3090</td>\n",
       "      <td>33</td>\n",
       "    </tr>\n",
       "  </tbody>\n",
       "</table>\n",
       "</div>"
      ],
      "text/plain": [
       "        대여일자  대여구분코드    연령대코드  이용건수      운동량    탄소량  이동거리(M)  이동시간(분)\n",
       "0 2019-01-01  일일(회원)  AGE_003    12   288.87   2.25     9690      117\n",
       "1 2019-01-01  일일(회원)  AGE_004     8   424.63   3.32    14310      151\n",
       "2 2019-01-01  일일(회원)  AGE_005    27  4579.48  41.29   177910      542\n",
       "3 2019-01-01      정기  AGE_003    17  3438.80  33.58   144730      593\n",
       "4 2019-01-01  일일(회원)  AGE_004     1    78.31   0.72     3090       33"
      ]
     },
     "execution_count": 160,
     "metadata": {},
     "output_type": "execute_result"
    }
   ],
   "source": [
    "bicycle.drop(['대여소번호','대여소'], axis = 1, inplace = True)\n",
    "bicycle.head()"
   ]
  },
  {
   "cell_type": "code",
   "execution_count": 161,
   "metadata": {},
   "outputs": [
    {
     "data": {
      "text/html": [
       "<div>\n",
       "<style scoped>\n",
       "    .dataframe tbody tr th:only-of-type {\n",
       "        vertical-align: middle;\n",
       "    }\n",
       "\n",
       "    .dataframe tbody tr th {\n",
       "        vertical-align: top;\n",
       "    }\n",
       "\n",
       "    .dataframe thead th {\n",
       "        text-align: right;\n",
       "    }\n",
       "</style>\n",
       "<table border=\"1\" class=\"dataframe\">\n",
       "  <thead>\n",
       "    <tr style=\"text-align: right;\">\n",
       "      <th></th>\n",
       "      <th>단체</th>\n",
       "      <th>일일(비회원)</th>\n",
       "      <th>일일(회원)</th>\n",
       "      <th>정기</th>\n",
       "    </tr>\n",
       "  </thead>\n",
       "  <tbody>\n",
       "    <tr>\n",
       "      <th>0</th>\n",
       "      <td>0</td>\n",
       "      <td>0</td>\n",
       "      <td>1</td>\n",
       "      <td>0</td>\n",
       "    </tr>\n",
       "    <tr>\n",
       "      <th>1</th>\n",
       "      <td>0</td>\n",
       "      <td>0</td>\n",
       "      <td>1</td>\n",
       "      <td>0</td>\n",
       "    </tr>\n",
       "    <tr>\n",
       "      <th>2</th>\n",
       "      <td>0</td>\n",
       "      <td>0</td>\n",
       "      <td>1</td>\n",
       "      <td>0</td>\n",
       "    </tr>\n",
       "    <tr>\n",
       "      <th>3</th>\n",
       "      <td>0</td>\n",
       "      <td>0</td>\n",
       "      <td>0</td>\n",
       "      <td>1</td>\n",
       "    </tr>\n",
       "    <tr>\n",
       "      <th>4</th>\n",
       "      <td>0</td>\n",
       "      <td>0</td>\n",
       "      <td>1</td>\n",
       "      <td>0</td>\n",
       "    </tr>\n",
       "    <tr>\n",
       "      <th>...</th>\n",
       "      <td>...</td>\n",
       "      <td>...</td>\n",
       "      <td>...</td>\n",
       "      <td>...</td>\n",
       "    </tr>\n",
       "    <tr>\n",
       "      <th>284578</th>\n",
       "      <td>0</td>\n",
       "      <td>0</td>\n",
       "      <td>0</td>\n",
       "      <td>1</td>\n",
       "    </tr>\n",
       "    <tr>\n",
       "      <th>284579</th>\n",
       "      <td>0</td>\n",
       "      <td>0</td>\n",
       "      <td>0</td>\n",
       "      <td>1</td>\n",
       "    </tr>\n",
       "    <tr>\n",
       "      <th>284580</th>\n",
       "      <td>0</td>\n",
       "      <td>0</td>\n",
       "      <td>0</td>\n",
       "      <td>1</td>\n",
       "    </tr>\n",
       "    <tr>\n",
       "      <th>284581</th>\n",
       "      <td>0</td>\n",
       "      <td>0</td>\n",
       "      <td>1</td>\n",
       "      <td>0</td>\n",
       "    </tr>\n",
       "    <tr>\n",
       "      <th>284582</th>\n",
       "      <td>0</td>\n",
       "      <td>0</td>\n",
       "      <td>0</td>\n",
       "      <td>1</td>\n",
       "    </tr>\n",
       "  </tbody>\n",
       "</table>\n",
       "<p>284307 rows × 4 columns</p>\n",
       "</div>"
      ],
      "text/plain": [
       "        단체  일일(비회원)  일일(회원)  정기\n",
       "0        0        0       1   0\n",
       "1        0        0       1   0\n",
       "2        0        0       1   0\n",
       "3        0        0       0   1\n",
       "4        0        0       1   0\n",
       "...     ..      ...     ...  ..\n",
       "284578   0        0       0   1\n",
       "284579   0        0       0   1\n",
       "284580   0        0       0   1\n",
       "284581   0        0       1   0\n",
       "284582   0        0       0   1\n",
       "\n",
       "[284307 rows x 4 columns]"
      ]
     },
     "execution_count": 161,
     "metadata": {},
     "output_type": "execute_result"
    }
   ],
   "source": [
    "b1 = pd.get_dummies(bicycle['대여구분코드'])\n",
    "b1"
   ]
  },
  {
   "cell_type": "code",
   "execution_count": 162,
   "metadata": {},
   "outputs": [
    {
     "data": {
      "text/html": [
       "<div>\n",
       "<style scoped>\n",
       "    .dataframe tbody tr th:only-of-type {\n",
       "        vertical-align: middle;\n",
       "    }\n",
       "\n",
       "    .dataframe tbody tr th {\n",
       "        vertical-align: top;\n",
       "    }\n",
       "\n",
       "    .dataframe thead th {\n",
       "        text-align: right;\n",
       "    }\n",
       "</style>\n",
       "<table border=\"1\" class=\"dataframe\">\n",
       "  <thead>\n",
       "    <tr style=\"text-align: right;\">\n",
       "      <th></th>\n",
       "      <th>AGE_001</th>\n",
       "      <th>AGE_002</th>\n",
       "      <th>AGE_003</th>\n",
       "      <th>AGE_004</th>\n",
       "      <th>AGE_005</th>\n",
       "      <th>AGE_006</th>\n",
       "      <th>AGE_007</th>\n",
       "      <th>AGE_008</th>\n",
       "    </tr>\n",
       "  </thead>\n",
       "  <tbody>\n",
       "    <tr>\n",
       "      <th>0</th>\n",
       "      <td>0</td>\n",
       "      <td>0</td>\n",
       "      <td>1</td>\n",
       "      <td>0</td>\n",
       "      <td>0</td>\n",
       "      <td>0</td>\n",
       "      <td>0</td>\n",
       "      <td>0</td>\n",
       "    </tr>\n",
       "    <tr>\n",
       "      <th>1</th>\n",
       "      <td>0</td>\n",
       "      <td>0</td>\n",
       "      <td>0</td>\n",
       "      <td>1</td>\n",
       "      <td>0</td>\n",
       "      <td>0</td>\n",
       "      <td>0</td>\n",
       "      <td>0</td>\n",
       "    </tr>\n",
       "    <tr>\n",
       "      <th>2</th>\n",
       "      <td>0</td>\n",
       "      <td>0</td>\n",
       "      <td>0</td>\n",
       "      <td>0</td>\n",
       "      <td>1</td>\n",
       "      <td>0</td>\n",
       "      <td>0</td>\n",
       "      <td>0</td>\n",
       "    </tr>\n",
       "    <tr>\n",
       "      <th>3</th>\n",
       "      <td>0</td>\n",
       "      <td>0</td>\n",
       "      <td>1</td>\n",
       "      <td>0</td>\n",
       "      <td>0</td>\n",
       "      <td>0</td>\n",
       "      <td>0</td>\n",
       "      <td>0</td>\n",
       "    </tr>\n",
       "    <tr>\n",
       "      <th>4</th>\n",
       "      <td>0</td>\n",
       "      <td>0</td>\n",
       "      <td>0</td>\n",
       "      <td>1</td>\n",
       "      <td>0</td>\n",
       "      <td>0</td>\n",
       "      <td>0</td>\n",
       "      <td>0</td>\n",
       "    </tr>\n",
       "    <tr>\n",
       "      <th>...</th>\n",
       "      <td>...</td>\n",
       "      <td>...</td>\n",
       "      <td>...</td>\n",
       "      <td>...</td>\n",
       "      <td>...</td>\n",
       "      <td>...</td>\n",
       "      <td>...</td>\n",
       "      <td>...</td>\n",
       "    </tr>\n",
       "    <tr>\n",
       "      <th>284578</th>\n",
       "      <td>0</td>\n",
       "      <td>1</td>\n",
       "      <td>0</td>\n",
       "      <td>0</td>\n",
       "      <td>0</td>\n",
       "      <td>0</td>\n",
       "      <td>0</td>\n",
       "      <td>0</td>\n",
       "    </tr>\n",
       "    <tr>\n",
       "      <th>284579</th>\n",
       "      <td>0</td>\n",
       "      <td>0</td>\n",
       "      <td>1</td>\n",
       "      <td>0</td>\n",
       "      <td>0</td>\n",
       "      <td>0</td>\n",
       "      <td>0</td>\n",
       "      <td>0</td>\n",
       "    </tr>\n",
       "    <tr>\n",
       "      <th>284580</th>\n",
       "      <td>0</td>\n",
       "      <td>0</td>\n",
       "      <td>0</td>\n",
       "      <td>0</td>\n",
       "      <td>1</td>\n",
       "      <td>0</td>\n",
       "      <td>0</td>\n",
       "      <td>0</td>\n",
       "    </tr>\n",
       "    <tr>\n",
       "      <th>284581</th>\n",
       "      <td>0</td>\n",
       "      <td>0</td>\n",
       "      <td>0</td>\n",
       "      <td>1</td>\n",
       "      <td>0</td>\n",
       "      <td>0</td>\n",
       "      <td>0</td>\n",
       "      <td>0</td>\n",
       "    </tr>\n",
       "    <tr>\n",
       "      <th>284582</th>\n",
       "      <td>0</td>\n",
       "      <td>0</td>\n",
       "      <td>0</td>\n",
       "      <td>1</td>\n",
       "      <td>0</td>\n",
       "      <td>0</td>\n",
       "      <td>0</td>\n",
       "      <td>0</td>\n",
       "    </tr>\n",
       "  </tbody>\n",
       "</table>\n",
       "<p>284307 rows × 8 columns</p>\n",
       "</div>"
      ],
      "text/plain": [
       "        AGE_001  AGE_002  AGE_003  AGE_004  AGE_005  AGE_006  AGE_007  AGE_008\n",
       "0             0        0        1        0        0        0        0        0\n",
       "1             0        0        0        1        0        0        0        0\n",
       "2             0        0        0        0        1        0        0        0\n",
       "3             0        0        1        0        0        0        0        0\n",
       "4             0        0        0        1        0        0        0        0\n",
       "...         ...      ...      ...      ...      ...      ...      ...      ...\n",
       "284578        0        1        0        0        0        0        0        0\n",
       "284579        0        0        1        0        0        0        0        0\n",
       "284580        0        0        0        0        1        0        0        0\n",
       "284581        0        0        0        1        0        0        0        0\n",
       "284582        0        0        0        1        0        0        0        0\n",
       "\n",
       "[284307 rows x 8 columns]"
      ]
     },
     "execution_count": 162,
     "metadata": {},
     "output_type": "execute_result"
    }
   ],
   "source": [
    "b2 = pd.get_dummies(bicycle['연령대코드'])\n",
    "b2"
   ]
  },
  {
   "cell_type": "code",
   "execution_count": 163,
   "metadata": {},
   "outputs": [
    {
     "data": {
      "text/html": [
       "<div>\n",
       "<style scoped>\n",
       "    .dataframe tbody tr th:only-of-type {\n",
       "        vertical-align: middle;\n",
       "    }\n",
       "\n",
       "    .dataframe tbody tr th {\n",
       "        vertical-align: top;\n",
       "    }\n",
       "\n",
       "    .dataframe thead th {\n",
       "        text-align: right;\n",
       "    }\n",
       "</style>\n",
       "<table border=\"1\" class=\"dataframe\">\n",
       "  <thead>\n",
       "    <tr style=\"text-align: right;\">\n",
       "      <th></th>\n",
       "      <th>대여일자</th>\n",
       "      <th>이용건수</th>\n",
       "      <th>운동량</th>\n",
       "      <th>탄소량</th>\n",
       "      <th>이동거리(M)</th>\n",
       "      <th>이동시간(분)</th>\n",
       "      <th>단체</th>\n",
       "      <th>일일(비회원)</th>\n",
       "      <th>일일(회원)</th>\n",
       "      <th>정기</th>\n",
       "      <th>AGE_001</th>\n",
       "      <th>AGE_002</th>\n",
       "      <th>AGE_003</th>\n",
       "      <th>AGE_004</th>\n",
       "      <th>AGE_005</th>\n",
       "      <th>AGE_006</th>\n",
       "      <th>AGE_007</th>\n",
       "      <th>AGE_008</th>\n",
       "    </tr>\n",
       "  </thead>\n",
       "  <tbody>\n",
       "    <tr>\n",
       "      <th>0</th>\n",
       "      <td>2019-01-01</td>\n",
       "      <td>12</td>\n",
       "      <td>288.87</td>\n",
       "      <td>2.25</td>\n",
       "      <td>9690</td>\n",
       "      <td>117</td>\n",
       "      <td>0</td>\n",
       "      <td>0</td>\n",
       "      <td>1</td>\n",
       "      <td>0</td>\n",
       "      <td>0</td>\n",
       "      <td>0</td>\n",
       "      <td>1</td>\n",
       "      <td>0</td>\n",
       "      <td>0</td>\n",
       "      <td>0</td>\n",
       "      <td>0</td>\n",
       "      <td>0</td>\n",
       "    </tr>\n",
       "    <tr>\n",
       "      <th>1</th>\n",
       "      <td>2019-01-01</td>\n",
       "      <td>8</td>\n",
       "      <td>424.63</td>\n",
       "      <td>3.32</td>\n",
       "      <td>14310</td>\n",
       "      <td>151</td>\n",
       "      <td>0</td>\n",
       "      <td>0</td>\n",
       "      <td>1</td>\n",
       "      <td>0</td>\n",
       "      <td>0</td>\n",
       "      <td>0</td>\n",
       "      <td>0</td>\n",
       "      <td>1</td>\n",
       "      <td>0</td>\n",
       "      <td>0</td>\n",
       "      <td>0</td>\n",
       "      <td>0</td>\n",
       "    </tr>\n",
       "    <tr>\n",
       "      <th>2</th>\n",
       "      <td>2019-01-01</td>\n",
       "      <td>27</td>\n",
       "      <td>4579.48</td>\n",
       "      <td>41.29</td>\n",
       "      <td>177910</td>\n",
       "      <td>542</td>\n",
       "      <td>0</td>\n",
       "      <td>0</td>\n",
       "      <td>1</td>\n",
       "      <td>0</td>\n",
       "      <td>0</td>\n",
       "      <td>0</td>\n",
       "      <td>0</td>\n",
       "      <td>0</td>\n",
       "      <td>1</td>\n",
       "      <td>0</td>\n",
       "      <td>0</td>\n",
       "      <td>0</td>\n",
       "    </tr>\n",
       "    <tr>\n",
       "      <th>3</th>\n",
       "      <td>2019-01-01</td>\n",
       "      <td>17</td>\n",
       "      <td>3438.80</td>\n",
       "      <td>33.58</td>\n",
       "      <td>144730</td>\n",
       "      <td>593</td>\n",
       "      <td>0</td>\n",
       "      <td>0</td>\n",
       "      <td>0</td>\n",
       "      <td>1</td>\n",
       "      <td>0</td>\n",
       "      <td>0</td>\n",
       "      <td>1</td>\n",
       "      <td>0</td>\n",
       "      <td>0</td>\n",
       "      <td>0</td>\n",
       "      <td>0</td>\n",
       "      <td>0</td>\n",
       "    </tr>\n",
       "    <tr>\n",
       "      <th>4</th>\n",
       "      <td>2019-01-01</td>\n",
       "      <td>1</td>\n",
       "      <td>78.31</td>\n",
       "      <td>0.72</td>\n",
       "      <td>3090</td>\n",
       "      <td>33</td>\n",
       "      <td>0</td>\n",
       "      <td>0</td>\n",
       "      <td>1</td>\n",
       "      <td>0</td>\n",
       "      <td>0</td>\n",
       "      <td>0</td>\n",
       "      <td>0</td>\n",
       "      <td>1</td>\n",
       "      <td>0</td>\n",
       "      <td>0</td>\n",
       "      <td>0</td>\n",
       "      <td>0</td>\n",
       "    </tr>\n",
       "  </tbody>\n",
       "</table>\n",
       "</div>"
      ],
      "text/plain": [
       "        대여일자  이용건수      운동량    탄소량  이동거리(M)  이동시간(분)  단체  일일(비회원)  일일(회원)  정기  \\\n",
       "0 2019-01-01    12   288.87   2.25     9690      117   0        0       1   0   \n",
       "1 2019-01-01     8   424.63   3.32    14310      151   0        0       1   0   \n",
       "2 2019-01-01    27  4579.48  41.29   177910      542   0        0       1   0   \n",
       "3 2019-01-01    17  3438.80  33.58   144730      593   0        0       0   1   \n",
       "4 2019-01-01     1    78.31   0.72     3090       33   0        0       1   0   \n",
       "\n",
       "   AGE_001  AGE_002  AGE_003  AGE_004  AGE_005  AGE_006  AGE_007  AGE_008  \n",
       "0        0        0        1        0        0        0        0        0  \n",
       "1        0        0        0        1        0        0        0        0  \n",
       "2        0        0        0        0        1        0        0        0  \n",
       "3        0        0        1        0        0        0        0        0  \n",
       "4        0        0        0        1        0        0        0        0  "
      ]
     },
     "execution_count": 163,
     "metadata": {},
     "output_type": "execute_result"
    }
   ],
   "source": [
    "bicycle = pd.concat([bicycle,b1,b2], axis = 1)\n",
    "bicycle.drop(['대여구분코드','연령대코드'], axis = 1, inplace=True)\n",
    "bicycle.head()"
   ]
  },
  {
   "cell_type": "code",
   "execution_count": null,
   "metadata": {},
   "outputs": [],
   "source": []
  }
 ],
 "metadata": {
  "kernelspec": {
   "display_name": "Python 3",
   "language": "python",
   "name": "python3"
  },
  "language_info": {
   "codemirror_mode": {
    "name": "ipython",
    "version": 3
   },
   "file_extension": ".py",
   "mimetype": "text/x-python",
   "name": "python",
   "nbconvert_exporter": "python",
   "pygments_lexer": "ipython3",
   "version": "3.7.6"
  }
 },
 "nbformat": 4,
 "nbformat_minor": 4
}
