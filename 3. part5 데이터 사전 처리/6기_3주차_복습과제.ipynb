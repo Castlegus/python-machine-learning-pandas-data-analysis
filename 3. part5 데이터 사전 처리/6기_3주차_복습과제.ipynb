{
 "cells": [
  {
   "cell_type": "markdown",
   "metadata": {},
   "source": [
    "#                                     Week3 - 복습과제"
   ]
  },
  {
   "cell_type": "markdown",
   "metadata": {},
   "source": [
    "## 문제1."
   ]
  },
  {
   "cell_type": "markdown",
   "metadata": {},
   "source": [
    "### 문제 1-1.\n",
    "#### bmi = 체중(kg) / 신장(m)²입니다. 이 공식을 바탕으로 체중을 계산하여 새로운 열(weight)로 추가한 후 소수점 아래 첫째 자리까지 반올림한 후 상위 10개 데이터를 출력해주세요.\n",
    "#### 힌트 1) 데이터 속의 신장은 cm 단위이지만 bmi를 계산하기 위해서는 m 단위의 신장이 필요합니다.             \n",
    "#### 힌트 2) 파이썬은 x의 y제곱을 x**y로 나타낼 수 있습니다.\n"
   ]
  },
  {
   "cell_type": "code",
   "execution_count": 1,
   "metadata": {},
   "outputs": [],
   "source": [
    "import pandas as pd\n",
    "import numpy as np\n",
    "\n",
    "df = pd.read_csv('insurance.csv')"
   ]
  },
  {
   "cell_type": "code",
   "execution_count": 9,
   "metadata": {},
   "outputs": [
    {
     "data": {
      "text/plain": [
       "0    44.4\n",
       "1    60.1\n",
       "2    60.7\n",
       "3    40.9\n",
       "4    50.5\n",
       "5    43.0\n",
       "6    47.5\n",
       "7    42.2\n",
       "8    52.8\n",
       "9    39.3\n",
       "Name: weight, dtype: float64"
      ]
     },
     "execution_count": 9,
     "metadata": {},
     "output_type": "execute_result"
    }
   ],
   "source": [
    "# 체중 = bmi * 신장\n",
    "df['weight'] = df['bmi'] * df['height'] * 0.01\n",
    "df['weight'].round(1).head(10)"
   ]
  },
  {
   "cell_type": "markdown",
   "metadata": {},
   "source": [
    "### 문제 1-2.\n",
    "#### 체중을 5개의 구간으로 나눈 후 각 구간의 경계값을 출력해주세요. 또 각 경계값에 '완전 과체중, 과체중, 보통체중, 저체중, 과한 저체중' 다섯 개의 이름으로 저장한 후 체중과 경계값의 첫 15개 행을 함께 출력해주세요."
   ]
  },
  {
   "cell_type": "code",
   "execution_count": 27,
   "metadata": {},
   "outputs": [
    {
     "name": "stdout",
     "output_type": "stream",
     "text": [
      "[239 664 369  63   3]\n",
      "[ 25.4486  40.7608  56.073   71.3852  86.6974 102.0096]\n",
      "     weight      범주\n",
      "0   44.3610     과체중\n",
      "1   60.1106    보통체중\n",
      "2   60.7200    보통체중\n",
      "3   40.8690     과체중\n",
      "4   50.5400     과체중\n",
      "5   42.9858     과체중\n",
      "6   47.4848     과체중\n",
      "7   42.1648     과체중\n",
      "8   52.7991     과체중\n",
      "9   39.2768  완전 과체중\n",
      "10  45.8850     과체중\n",
      "11  43.9043     과체중\n",
      "12  61.9200    보통체중\n",
      "13  57.3408    보통체중\n",
      "14  80.4683     저체중\n"
     ]
    }
   ],
   "source": [
    "count, bin_dividers = np.histogram(df['weight'], bins = 5)\n",
    "print(count) # 경계값 개수\n",
    "print(bin_dividers) # 경계값\n",
    "\n",
    "df['범주'] = pd.cut( df['weight'],\n",
    "                     bins = bin_dividers,\n",
    "                     labels = ['완전 과체중', '과체중', '보통체중', '저체중', '과한 저체중'],\n",
    "                     include_lowest = True)\n",
    "\n",
    "print(df[['weight','범주']].head(15))"
   ]
  },
  {
   "cell_type": "markdown",
   "metadata": {},
   "source": [
    "## 문제2."
   ]
  },
  {
   "cell_type": "markdown",
   "metadata": {},
   "source": [
    "### 문제 2-1.\n",
    "#### insurance.csv파일 내 숫자형 데이터 피처의 평균과 분산을 확인하고 표준화를 진행해주세요! \n",
    "#### 표준화된 데이터 피처의 평균과 분산을 결과값으로 출력해주세요! StandardScaler를 활용해주세요! 1번에서 사용하신 df를 그대로 사용하시면 됩니다!"
   ]
  },
  {
   "cell_type": "code",
   "execution_count": 28,
   "metadata": {},
   "outputs": [],
   "source": [
    "from sklearn.preprocessing import StandardScaler"
   ]
  },
  {
   "cell_type": "code",
   "execution_count": 57,
   "metadata": {},
   "outputs": [
    {
     "name": "stdout",
     "output_type": "stream",
     "text": [
      "age            39.207025\n",
      "bmi            30.663397\n",
      "height        167.372197\n",
      "children        1.094918\n",
      "charges     13270.422265\n",
      "weight         51.355685\n",
      "dtype: float64\n",
      "age            14.049960\n",
      "bmi             6.098187\n",
      "height         13.993926\n",
      "children        1.205493\n",
      "charges     12110.011237\n",
      "weight         11.313880\n",
      "dtype: float64\n"
     ]
    }
   ],
   "source": [
    "print(df.mean())\n",
    "print(df.std())"
   ]
  },
  {
   "cell_type": "code",
   "execution_count": 58,
   "metadata": {},
   "outputs": [
    {
     "name": "stdout",
     "output_type": "stream",
     "text": [
      "<class 'pandas.core.frame.DataFrame'>\n",
      "RangeIndex: 1338 entries, 0 to 1337\n",
      "Data columns (total 10 columns):\n",
      " #   Column    Non-Null Count  Dtype   \n",
      "---  ------    --------------  -----   \n",
      " 0   age       1338 non-null   int64   \n",
      " 1   sex       1338 non-null   object  \n",
      " 2   bmi       1338 non-null   float64 \n",
      " 3   height    1338 non-null   int64   \n",
      " 4   children  1338 non-null   int64   \n",
      " 5   smoker    1338 non-null   object  \n",
      " 6   region    1338 non-null   object  \n",
      " 7   charges   1338 non-null   float64 \n",
      " 8   weight    1338 non-null   float64 \n",
      " 9   범주        1338 non-null   category\n",
      "dtypes: category(1), float64(3), int64(3), object(3)\n",
      "memory usage: 95.7+ KB\n"
     ]
    }
   ],
   "source": [
    "df.info()"
   ]
  },
  {
   "cell_type": "code",
   "execution_count": 60,
   "metadata": {},
   "outputs": [
    {
     "data": {
      "text/html": [
       "<div>\n",
       "<style scoped>\n",
       "    .dataframe tbody tr th:only-of-type {\n",
       "        vertical-align: middle;\n",
       "    }\n",
       "\n",
       "    .dataframe tbody tr th {\n",
       "        vertical-align: top;\n",
       "    }\n",
       "\n",
       "    .dataframe thead th {\n",
       "        text-align: right;\n",
       "    }\n",
       "</style>\n",
       "<table border=\"1\" class=\"dataframe\">\n",
       "  <thead>\n",
       "    <tr style=\"text-align: right;\">\n",
       "      <th></th>\n",
       "      <th>age</th>\n",
       "      <th>bmi</th>\n",
       "      <th>height</th>\n",
       "      <th>children</th>\n",
       "      <th>charges</th>\n",
       "      <th>weight</th>\n",
       "    </tr>\n",
       "  </thead>\n",
       "  <tbody>\n",
       "    <tr>\n",
       "      <th>0</th>\n",
       "      <td>19</td>\n",
       "      <td>27.900</td>\n",
       "      <td>159</td>\n",
       "      <td>0</td>\n",
       "      <td>16884.92400</td>\n",
       "      <td>44.3610</td>\n",
       "    </tr>\n",
       "    <tr>\n",
       "      <th>1</th>\n",
       "      <td>18</td>\n",
       "      <td>33.770</td>\n",
       "      <td>178</td>\n",
       "      <td>1</td>\n",
       "      <td>1725.55230</td>\n",
       "      <td>60.1106</td>\n",
       "    </tr>\n",
       "    <tr>\n",
       "      <th>2</th>\n",
       "      <td>28</td>\n",
       "      <td>33.000</td>\n",
       "      <td>184</td>\n",
       "      <td>3</td>\n",
       "      <td>4449.46200</td>\n",
       "      <td>60.7200</td>\n",
       "    </tr>\n",
       "    <tr>\n",
       "      <th>3</th>\n",
       "      <td>33</td>\n",
       "      <td>22.705</td>\n",
       "      <td>180</td>\n",
       "      <td>0</td>\n",
       "      <td>21984.47061</td>\n",
       "      <td>40.8690</td>\n",
       "    </tr>\n",
       "    <tr>\n",
       "      <th>4</th>\n",
       "      <td>32</td>\n",
       "      <td>28.880</td>\n",
       "      <td>175</td>\n",
       "      <td>0</td>\n",
       "      <td>3866.85520</td>\n",
       "      <td>50.5400</td>\n",
       "    </tr>\n",
       "    <tr>\n",
       "      <th>...</th>\n",
       "      <td>...</td>\n",
       "      <td>...</td>\n",
       "      <td>...</td>\n",
       "      <td>...</td>\n",
       "      <td>...</td>\n",
       "      <td>...</td>\n",
       "    </tr>\n",
       "    <tr>\n",
       "      <th>1333</th>\n",
       "      <td>50</td>\n",
       "      <td>30.970</td>\n",
       "      <td>167</td>\n",
       "      <td>3</td>\n",
       "      <td>10600.54830</td>\n",
       "      <td>51.7199</td>\n",
       "    </tr>\n",
       "    <tr>\n",
       "      <th>1334</th>\n",
       "      <td>18</td>\n",
       "      <td>31.920</td>\n",
       "      <td>173</td>\n",
       "      <td>0</td>\n",
       "      <td>2205.98080</td>\n",
       "      <td>55.2216</td>\n",
       "    </tr>\n",
       "    <tr>\n",
       "      <th>1335</th>\n",
       "      <td>18</td>\n",
       "      <td>36.850</td>\n",
       "      <td>144</td>\n",
       "      <td>0</td>\n",
       "      <td>1629.83350</td>\n",
       "      <td>53.0640</td>\n",
       "    </tr>\n",
       "    <tr>\n",
       "      <th>1336</th>\n",
       "      <td>21</td>\n",
       "      <td>25.800</td>\n",
       "      <td>166</td>\n",
       "      <td>0</td>\n",
       "      <td>2007.94500</td>\n",
       "      <td>42.8280</td>\n",
       "    </tr>\n",
       "    <tr>\n",
       "      <th>1337</th>\n",
       "      <td>61</td>\n",
       "      <td>29.070</td>\n",
       "      <td>140</td>\n",
       "      <td>0</td>\n",
       "      <td>29141.36030</td>\n",
       "      <td>40.6980</td>\n",
       "    </tr>\n",
       "  </tbody>\n",
       "</table>\n",
       "<p>1338 rows × 6 columns</p>\n",
       "</div>"
      ],
      "text/plain": [
       "      age     bmi  height  children      charges   weight\n",
       "0      19  27.900     159         0  16884.92400  44.3610\n",
       "1      18  33.770     178         1   1725.55230  60.1106\n",
       "2      28  33.000     184         3   4449.46200  60.7200\n",
       "3      33  22.705     180         0  21984.47061  40.8690\n",
       "4      32  28.880     175         0   3866.85520  50.5400\n",
       "...   ...     ...     ...       ...          ...      ...\n",
       "1333   50  30.970     167         3  10600.54830  51.7199\n",
       "1334   18  31.920     173         0   2205.98080  55.2216\n",
       "1335   18  36.850     144         0   1629.83350  53.0640\n",
       "1336   21  25.800     166         0   2007.94500  42.8280\n",
       "1337   61  29.070     140         0  29141.36030  40.6980\n",
       "\n",
       "[1338 rows x 6 columns]"
      ]
     },
     "execution_count": 60,
     "metadata": {},
     "output_type": "execute_result"
    }
   ],
   "source": [
    "df_num = df.drop(['sex','smoker','region','범주'], axis = 1)\n",
    "df_num"
   ]
  },
  {
   "cell_type": "code",
   "execution_count": 78,
   "metadata": {},
   "outputs": [
    {
     "name": "stdout",
     "output_type": "stream",
     "text": [
      "age        -1.853691e-16\n",
      "bmi        -1.869041e-16\n",
      "height      5.814980e-16\n",
      "children    2.721623e-17\n",
      "charges    -5.758556e-17\n",
      "weight     -4.360405e-16\n",
      "dtype: float64\n",
      "age         1.000374\n",
      "bmi         1.000374\n",
      "height      1.000374\n",
      "children    1.000374\n",
      "charges     1.000374\n",
      "weight      1.000374\n",
      "dtype: float64\n"
     ]
    }
   ],
   "source": [
    "Scaler = StandardScaler()\n",
    "Scaler.fit(df_num)\n",
    "Scaled_df_num = Scaler.transform(df_num)\n",
    "Scaled_df_num_df = pd.DataFrame(data = Scaled_df_num, columns = df_num.columns)\n",
    "\n",
    "print(Scaled_df_num_df.mean())\n",
    "print(Scaled_df_num_df.std())"
   ]
  },
  {
   "cell_type": "markdown",
   "metadata": {},
   "source": [
    "### 문제 2-2.\n",
    "#### insurance.csv파일 내 숫자형 데이터 피처의 정규화를 지시에 따라 진행해주세요! 정규화된 데이터 피처의 최댓값과 최솟값을 결과값으로 출력해주세요"
   ]
  },
  {
   "cell_type": "markdown",
   "metadata": {},
   "source": [
    "#### 2-2-1.\n",
    "#### MinMaxScaler로 정규화 작업을 진행해주세요"
   ]
  },
  {
   "cell_type": "code",
   "execution_count": 79,
   "metadata": {},
   "outputs": [],
   "source": [
    "from sklearn.preprocessing import MinMaxScaler"
   ]
  },
  {
   "cell_type": "code",
   "execution_count": 87,
   "metadata": {},
   "outputs": [
    {
     "name": "stdout",
     "output_type": "stream",
     "text": [
      "age         0.0\n",
      "bmi         0.0\n",
      "height      0.0\n",
      "children    0.0\n",
      "charges     0.0\n",
      "weight      0.0\n",
      "dtype: float64\n",
      "age         1.0\n",
      "bmi         1.0\n",
      "height      1.0\n",
      "children    1.0\n",
      "charges     1.0\n",
      "weight      1.0\n",
      "dtype: float64\n"
     ]
    }
   ],
   "source": [
    "Scaler = MinMaxScaler()\n",
    "Scaler.fit(df_num)\n",
    "Scaled_df_num = Scaler.transform(df_num)\n",
    "Scaled_df_num_df = pd.DataFrame(data = Scaled_df_num, columns = df_num.columns)\n",
    "\n",
    "print(Scaled_df_num_df.min())\n",
    "print(Scaled_df_num_df.max())"
   ]
  },
  {
   "cell_type": "markdown",
   "metadata": {},
   "source": [
    "#### 문제 2-2-2.\n",
    "##### 각 열의 최댓값의 절대값으로 각 열 데이터를 나눠주는 방법으로 정규화 작업을 진행해주세요!"
   ]
  },
  {
   "cell_type": "code",
   "execution_count": 88,
   "metadata": {},
   "outputs": [
    {
     "name": "stdout",
     "output_type": "stream",
     "text": [
      "age         1.0\n",
      "bmi         1.0\n",
      "height      1.0\n",
      "children    1.0\n",
      "charges     1.0\n",
      "weight      1.0\n",
      "dtype: float64\n",
      "age         0.281250\n",
      "bmi         0.300395\n",
      "height      0.729167\n",
      "children    0.000000\n",
      "charges     0.017592\n",
      "weight      0.249473\n",
      "dtype: float64\n"
     ]
    }
   ],
   "source": [
    "Scaled_df_num = df_num/abs(df_num.max())\n",
    "\n",
    "print(Scaled_df_num.max())\n",
    "print(Scaled_df_num.min())"
   ]
  },
  {
   "cell_type": "markdown",
   "metadata": {},
   "source": [
    "#### 문제2-2-3.\n",
    "##### 벡터 정규화를 진행해주세요! 정규화된 데이터 프레임의 Norm을 추가로 출력해주세요!"
   ]
  },
  {
   "cell_type": "code",
   "execution_count": 98,
   "metadata": {},
   "outputs": [
    {
     "name": "stdout",
     "output_type": "stream",
     "text": [
      "age         0.000097\n",
      "bmi         0.000081\n",
      "height      0.000292\n",
      "children    0.000008\n",
      "charges     0.097052\n",
      "weight      0.000155\n",
      "dtype: float64\n",
      "age         0.000027\n",
      "bmi         0.000024\n",
      "height      0.000213\n",
      "children    0.000000\n",
      "charges     0.001707\n",
      "weight      0.000039\n",
      "dtype: float64\n"
     ]
    },
    {
     "data": {
      "text/plain": [
       "0.9999999999999999"
      ]
     },
     "execution_count": 98,
     "metadata": {},
     "output_type": "execute_result"
    }
   ],
   "source": [
    "Scaled_df_num = df_num / np.linalg.norm(df_num)\n",
    "\n",
    "print(Scaled_df_num.max())\n",
    "print(Scaled_df_num.min())\n",
    "\n",
    "np.linalg.norm(Scaled_df_num)"
   ]
  },
  {
   "cell_type": "markdown",
   "metadata": {},
   "source": [
    "## 문제3."
   ]
  },
  {
   "cell_type": "markdown",
   "metadata": {},
   "source": [
    "### 문제 3-1.\n",
    "#### credit.csv 파일을 dataframe으로 읽은 후, unknown 값을 NaN으로 바꿔주세요."
   ]
  },
  {
   "cell_type": "code",
   "execution_count": 99,
   "metadata": {},
   "outputs": [],
   "source": [
    "import pandas as pd\n",
    "import numpy as np\n",
    "\n",
    "df = pd.read_csv('credit.csv')"
   ]
  },
  {
   "cell_type": "code",
   "execution_count": 103,
   "metadata": {},
   "outputs": [],
   "source": [
    "df.replace('unknown',np.nan,inplace=True)"
   ]
  },
  {
   "cell_type": "code",
   "execution_count": 104,
   "metadata": {},
   "outputs": [
    {
     "data": {
      "text/html": [
       "<div>\n",
       "<style scoped>\n",
       "    .dataframe tbody tr th:only-of-type {\n",
       "        vertical-align: middle;\n",
       "    }\n",
       "\n",
       "    .dataframe tbody tr th {\n",
       "        vertical-align: top;\n",
       "    }\n",
       "\n",
       "    .dataframe thead th {\n",
       "        text-align: right;\n",
       "    }\n",
       "</style>\n",
       "<table border=\"1\" class=\"dataframe\">\n",
       "  <thead>\n",
       "    <tr style=\"text-align: right;\">\n",
       "      <th></th>\n",
       "      <th>checking_balance</th>\n",
       "      <th>months_loan_duration</th>\n",
       "      <th>credit_history</th>\n",
       "      <th>purpose</th>\n",
       "      <th>amount</th>\n",
       "      <th>savings_balance</th>\n",
       "      <th>employment_duration</th>\n",
       "      <th>percent_of_income</th>\n",
       "      <th>years_at_residence</th>\n",
       "      <th>age</th>\n",
       "      <th>other_credit</th>\n",
       "      <th>housing</th>\n",
       "      <th>existing_loans_count</th>\n",
       "      <th>job</th>\n",
       "      <th>dependents</th>\n",
       "      <th>phone</th>\n",
       "      <th>default</th>\n",
       "    </tr>\n",
       "  </thead>\n",
       "  <tbody>\n",
       "    <tr>\n",
       "      <th>0</th>\n",
       "      <td>&lt; 0 DM</td>\n",
       "      <td>6</td>\n",
       "      <td>critical</td>\n",
       "      <td>furniture/appliances</td>\n",
       "      <td>1169</td>\n",
       "      <td>NaN</td>\n",
       "      <td>&gt; 7 years</td>\n",
       "      <td>4</td>\n",
       "      <td>4</td>\n",
       "      <td>67</td>\n",
       "      <td>none</td>\n",
       "      <td>own</td>\n",
       "      <td>2</td>\n",
       "      <td>skilled</td>\n",
       "      <td>1</td>\n",
       "      <td>yes</td>\n",
       "      <td>no</td>\n",
       "    </tr>\n",
       "    <tr>\n",
       "      <th>1</th>\n",
       "      <td>1 - 200 DM</td>\n",
       "      <td>48</td>\n",
       "      <td>good</td>\n",
       "      <td>furniture/appliances</td>\n",
       "      <td>5951</td>\n",
       "      <td>&lt; 100 DM</td>\n",
       "      <td>1 - 4 years</td>\n",
       "      <td>2</td>\n",
       "      <td>2</td>\n",
       "      <td>22</td>\n",
       "      <td>none</td>\n",
       "      <td>own</td>\n",
       "      <td>1</td>\n",
       "      <td>skilled</td>\n",
       "      <td>1</td>\n",
       "      <td>no</td>\n",
       "      <td>yes</td>\n",
       "    </tr>\n",
       "    <tr>\n",
       "      <th>2</th>\n",
       "      <td>NaN</td>\n",
       "      <td>12</td>\n",
       "      <td>critical</td>\n",
       "      <td>education</td>\n",
       "      <td>2096</td>\n",
       "      <td>&lt; 100 DM</td>\n",
       "      <td>4 - 7 years</td>\n",
       "      <td>2</td>\n",
       "      <td>3</td>\n",
       "      <td>49</td>\n",
       "      <td>none</td>\n",
       "      <td>own</td>\n",
       "      <td>1</td>\n",
       "      <td>unskilled</td>\n",
       "      <td>2</td>\n",
       "      <td>no</td>\n",
       "      <td>no</td>\n",
       "    </tr>\n",
       "    <tr>\n",
       "      <th>3</th>\n",
       "      <td>&lt; 0 DM</td>\n",
       "      <td>42</td>\n",
       "      <td>good</td>\n",
       "      <td>furniture/appliances</td>\n",
       "      <td>7882</td>\n",
       "      <td>&lt; 100 DM</td>\n",
       "      <td>4 - 7 years</td>\n",
       "      <td>2</td>\n",
       "      <td>4</td>\n",
       "      <td>45</td>\n",
       "      <td>none</td>\n",
       "      <td>other</td>\n",
       "      <td>1</td>\n",
       "      <td>skilled</td>\n",
       "      <td>2</td>\n",
       "      <td>no</td>\n",
       "      <td>no</td>\n",
       "    </tr>\n",
       "    <tr>\n",
       "      <th>4</th>\n",
       "      <td>&lt; 0 DM</td>\n",
       "      <td>24</td>\n",
       "      <td>poor</td>\n",
       "      <td>car</td>\n",
       "      <td>4870</td>\n",
       "      <td>&lt; 100 DM</td>\n",
       "      <td>1 - 4 years</td>\n",
       "      <td>3</td>\n",
       "      <td>4</td>\n",
       "      <td>53</td>\n",
       "      <td>none</td>\n",
       "      <td>other</td>\n",
       "      <td>2</td>\n",
       "      <td>skilled</td>\n",
       "      <td>2</td>\n",
       "      <td>no</td>\n",
       "      <td>yes</td>\n",
       "    </tr>\n",
       "    <tr>\n",
       "      <th>...</th>\n",
       "      <td>...</td>\n",
       "      <td>...</td>\n",
       "      <td>...</td>\n",
       "      <td>...</td>\n",
       "      <td>...</td>\n",
       "      <td>...</td>\n",
       "      <td>...</td>\n",
       "      <td>...</td>\n",
       "      <td>...</td>\n",
       "      <td>...</td>\n",
       "      <td>...</td>\n",
       "      <td>...</td>\n",
       "      <td>...</td>\n",
       "      <td>...</td>\n",
       "      <td>...</td>\n",
       "      <td>...</td>\n",
       "      <td>...</td>\n",
       "    </tr>\n",
       "    <tr>\n",
       "      <th>995</th>\n",
       "      <td>NaN</td>\n",
       "      <td>12</td>\n",
       "      <td>good</td>\n",
       "      <td>furniture/appliances</td>\n",
       "      <td>1736</td>\n",
       "      <td>&lt; 100 DM</td>\n",
       "      <td>4 - 7 years</td>\n",
       "      <td>3</td>\n",
       "      <td>4</td>\n",
       "      <td>31</td>\n",
       "      <td>none</td>\n",
       "      <td>own</td>\n",
       "      <td>1</td>\n",
       "      <td>unskilled</td>\n",
       "      <td>1</td>\n",
       "      <td>no</td>\n",
       "      <td>no</td>\n",
       "    </tr>\n",
       "    <tr>\n",
       "      <th>996</th>\n",
       "      <td>&lt; 0 DM</td>\n",
       "      <td>30</td>\n",
       "      <td>good</td>\n",
       "      <td>car</td>\n",
       "      <td>3857</td>\n",
       "      <td>&lt; 100 DM</td>\n",
       "      <td>1 - 4 years</td>\n",
       "      <td>4</td>\n",
       "      <td>4</td>\n",
       "      <td>40</td>\n",
       "      <td>none</td>\n",
       "      <td>own</td>\n",
       "      <td>1</td>\n",
       "      <td>management</td>\n",
       "      <td>1</td>\n",
       "      <td>yes</td>\n",
       "      <td>no</td>\n",
       "    </tr>\n",
       "    <tr>\n",
       "      <th>997</th>\n",
       "      <td>NaN</td>\n",
       "      <td>12</td>\n",
       "      <td>good</td>\n",
       "      <td>furniture/appliances</td>\n",
       "      <td>804</td>\n",
       "      <td>&lt; 100 DM</td>\n",
       "      <td>&gt; 7 years</td>\n",
       "      <td>4</td>\n",
       "      <td>4</td>\n",
       "      <td>38</td>\n",
       "      <td>none</td>\n",
       "      <td>own</td>\n",
       "      <td>1</td>\n",
       "      <td>skilled</td>\n",
       "      <td>1</td>\n",
       "      <td>no</td>\n",
       "      <td>no</td>\n",
       "    </tr>\n",
       "    <tr>\n",
       "      <th>998</th>\n",
       "      <td>&lt; 0 DM</td>\n",
       "      <td>45</td>\n",
       "      <td>good</td>\n",
       "      <td>furniture/appliances</td>\n",
       "      <td>1845</td>\n",
       "      <td>&lt; 100 DM</td>\n",
       "      <td>1 - 4 years</td>\n",
       "      <td>4</td>\n",
       "      <td>4</td>\n",
       "      <td>23</td>\n",
       "      <td>none</td>\n",
       "      <td>other</td>\n",
       "      <td>1</td>\n",
       "      <td>skilled</td>\n",
       "      <td>1</td>\n",
       "      <td>yes</td>\n",
       "      <td>yes</td>\n",
       "    </tr>\n",
       "    <tr>\n",
       "      <th>999</th>\n",
       "      <td>1 - 200 DM</td>\n",
       "      <td>45</td>\n",
       "      <td>critical</td>\n",
       "      <td>car</td>\n",
       "      <td>4576</td>\n",
       "      <td>100 - 500 DM</td>\n",
       "      <td>unemployed</td>\n",
       "      <td>3</td>\n",
       "      <td>4</td>\n",
       "      <td>27</td>\n",
       "      <td>none</td>\n",
       "      <td>own</td>\n",
       "      <td>1</td>\n",
       "      <td>skilled</td>\n",
       "      <td>1</td>\n",
       "      <td>no</td>\n",
       "      <td>no</td>\n",
       "    </tr>\n",
       "  </tbody>\n",
       "</table>\n",
       "<p>1000 rows × 17 columns</p>\n",
       "</div>"
      ],
      "text/plain": [
       "    checking_balance  months_loan_duration credit_history  \\\n",
       "0             < 0 DM                     6       critical   \n",
       "1         1 - 200 DM                    48           good   \n",
       "2                NaN                    12       critical   \n",
       "3             < 0 DM                    42           good   \n",
       "4             < 0 DM                    24           poor   \n",
       "..               ...                   ...            ...   \n",
       "995              NaN                    12           good   \n",
       "996           < 0 DM                    30           good   \n",
       "997              NaN                    12           good   \n",
       "998           < 0 DM                    45           good   \n",
       "999       1 - 200 DM                    45       critical   \n",
       "\n",
       "                  purpose  amount savings_balance employment_duration  \\\n",
       "0    furniture/appliances    1169             NaN           > 7 years   \n",
       "1    furniture/appliances    5951        < 100 DM         1 - 4 years   \n",
       "2               education    2096        < 100 DM         4 - 7 years   \n",
       "3    furniture/appliances    7882        < 100 DM         4 - 7 years   \n",
       "4                     car    4870        < 100 DM         1 - 4 years   \n",
       "..                    ...     ...             ...                 ...   \n",
       "995  furniture/appliances    1736        < 100 DM         4 - 7 years   \n",
       "996                   car    3857        < 100 DM         1 - 4 years   \n",
       "997  furniture/appliances     804        < 100 DM           > 7 years   \n",
       "998  furniture/appliances    1845        < 100 DM         1 - 4 years   \n",
       "999                   car    4576    100 - 500 DM          unemployed   \n",
       "\n",
       "     percent_of_income  years_at_residence  age other_credit housing  \\\n",
       "0                    4                   4   67         none     own   \n",
       "1                    2                   2   22         none     own   \n",
       "2                    2                   3   49         none     own   \n",
       "3                    2                   4   45         none   other   \n",
       "4                    3                   4   53         none   other   \n",
       "..                 ...                 ...  ...          ...     ...   \n",
       "995                  3                   4   31         none     own   \n",
       "996                  4                   4   40         none     own   \n",
       "997                  4                   4   38         none     own   \n",
       "998                  4                   4   23         none   other   \n",
       "999                  3                   4   27         none     own   \n",
       "\n",
       "     existing_loans_count         job  dependents phone default  \n",
       "0                       2     skilled           1   yes      no  \n",
       "1                       1     skilled           1    no     yes  \n",
       "2                       1   unskilled           2    no      no  \n",
       "3                       1     skilled           2    no      no  \n",
       "4                       2     skilled           2    no     yes  \n",
       "..                    ...         ...         ...   ...     ...  \n",
       "995                     1   unskilled           1    no      no  \n",
       "996                     1  management           1   yes      no  \n",
       "997                     1     skilled           1    no      no  \n",
       "998                     1     skilled           1   yes     yes  \n",
       "999                     1     skilled           1    no      no  \n",
       "\n",
       "[1000 rows x 17 columns]"
      ]
     },
     "execution_count": 104,
     "metadata": {},
     "output_type": "execute_result"
    }
   ],
   "source": [
    "df"
   ]
  },
  {
   "cell_type": "markdown",
   "metadata": {},
   "source": [
    "### 문제 3-2.\n",
    "#### 각 column의 누락 데이터 수를 확인(try & except문) 한 후에, checking_balance 누락 값은 해당 열에서 가장 많이 나타나는 값으로 바꾸고, savings_balance 누락 값은 이웃하고 있는 바로 다음 행 값으로 바꾼다."
   ]
  },
  {
   "cell_type": "code",
   "execution_count": 112,
   "metadata": {},
   "outputs": [
    {
     "data": {
      "text/plain": [
       "checking_balance        394\n",
       "months_loan_duration      0\n",
       "credit_history            0\n",
       "purpose                   0\n",
       "amount                    0\n",
       "savings_balance         183\n",
       "employment_duration       0\n",
       "percent_of_income         0\n",
       "years_at_residence        0\n",
       "age                       0\n",
       "other_credit              0\n",
       "housing                   0\n",
       "existing_loans_count      0\n",
       "job                       0\n",
       "dependents                0\n",
       "phone                     0\n",
       "default                   0\n",
       "dtype: int64"
      ]
     },
     "execution_count": 112,
     "metadata": {},
     "output_type": "execute_result"
    }
   ],
   "source": [
    "df.isna().sum()"
   ]
  },
  {
   "cell_type": "code",
   "execution_count": 140,
   "metadata": {},
   "outputs": [
    {
     "data": {
      "text/plain": [
       "< 0 DM        274\n",
       "1 - 200 DM    269\n",
       "> 200 DM       63\n",
       "Name: checking_balance, dtype: int64"
      ]
     },
     "execution_count": 140,
     "metadata": {},
     "output_type": "execute_result"
    }
   ],
   "source": [
    "df['checking_balance'].value_counts()"
   ]
  },
  {
   "cell_type": "code",
   "execution_count": 143,
   "metadata": {},
   "outputs": [
    {
     "data": {
      "text/plain": [
       "'< 0 DM'"
      ]
     },
     "execution_count": 143,
     "metadata": {},
     "output_type": "execute_result"
    }
   ],
   "source": [
    "df['checking_balance'].value_counts().index[0]"
   ]
  },
  {
   "cell_type": "code",
   "execution_count": 144,
   "metadata": {},
   "outputs": [],
   "source": [
    "df['checking_balance'].fillna(df['checking_balance'].value_counts().index[0], inplace = True)\n",
    "df['savings_balance'].fillna(method = 'bfill', inplace = True)"
   ]
  },
  {
   "cell_type": "code",
   "execution_count": 145,
   "metadata": {},
   "outputs": [
    {
     "data": {
      "text/html": [
       "<div>\n",
       "<style scoped>\n",
       "    .dataframe tbody tr th:only-of-type {\n",
       "        vertical-align: middle;\n",
       "    }\n",
       "\n",
       "    .dataframe tbody tr th {\n",
       "        vertical-align: top;\n",
       "    }\n",
       "\n",
       "    .dataframe thead th {\n",
       "        text-align: right;\n",
       "    }\n",
       "</style>\n",
       "<table border=\"1\" class=\"dataframe\">\n",
       "  <thead>\n",
       "    <tr style=\"text-align: right;\">\n",
       "      <th></th>\n",
       "      <th>checking_balance</th>\n",
       "      <th>months_loan_duration</th>\n",
       "      <th>credit_history</th>\n",
       "      <th>purpose</th>\n",
       "      <th>amount</th>\n",
       "      <th>savings_balance</th>\n",
       "      <th>employment_duration</th>\n",
       "      <th>percent_of_income</th>\n",
       "      <th>years_at_residence</th>\n",
       "      <th>age</th>\n",
       "      <th>other_credit</th>\n",
       "      <th>housing</th>\n",
       "      <th>existing_loans_count</th>\n",
       "      <th>job</th>\n",
       "      <th>dependents</th>\n",
       "      <th>phone</th>\n",
       "      <th>default</th>\n",
       "    </tr>\n",
       "  </thead>\n",
       "  <tbody>\n",
       "    <tr>\n",
       "      <th>0</th>\n",
       "      <td>&lt; 0 DM</td>\n",
       "      <td>6</td>\n",
       "      <td>critical</td>\n",
       "      <td>furniture/appliances</td>\n",
       "      <td>1169</td>\n",
       "      <td>&lt; 100 DM</td>\n",
       "      <td>&gt; 7 years</td>\n",
       "      <td>4</td>\n",
       "      <td>4</td>\n",
       "      <td>67</td>\n",
       "      <td>none</td>\n",
       "      <td>own</td>\n",
       "      <td>2</td>\n",
       "      <td>skilled</td>\n",
       "      <td>1</td>\n",
       "      <td>yes</td>\n",
       "      <td>no</td>\n",
       "    </tr>\n",
       "    <tr>\n",
       "      <th>1</th>\n",
       "      <td>1 - 200 DM</td>\n",
       "      <td>48</td>\n",
       "      <td>good</td>\n",
       "      <td>furniture/appliances</td>\n",
       "      <td>5951</td>\n",
       "      <td>&lt; 100 DM</td>\n",
       "      <td>1 - 4 years</td>\n",
       "      <td>2</td>\n",
       "      <td>2</td>\n",
       "      <td>22</td>\n",
       "      <td>none</td>\n",
       "      <td>own</td>\n",
       "      <td>1</td>\n",
       "      <td>skilled</td>\n",
       "      <td>1</td>\n",
       "      <td>no</td>\n",
       "      <td>yes</td>\n",
       "    </tr>\n",
       "    <tr>\n",
       "      <th>2</th>\n",
       "      <td>&lt; 0 DM</td>\n",
       "      <td>12</td>\n",
       "      <td>critical</td>\n",
       "      <td>education</td>\n",
       "      <td>2096</td>\n",
       "      <td>&lt; 100 DM</td>\n",
       "      <td>4 - 7 years</td>\n",
       "      <td>2</td>\n",
       "      <td>3</td>\n",
       "      <td>49</td>\n",
       "      <td>none</td>\n",
       "      <td>own</td>\n",
       "      <td>1</td>\n",
       "      <td>unskilled</td>\n",
       "      <td>2</td>\n",
       "      <td>no</td>\n",
       "      <td>no</td>\n",
       "    </tr>\n",
       "    <tr>\n",
       "      <th>3</th>\n",
       "      <td>&lt; 0 DM</td>\n",
       "      <td>42</td>\n",
       "      <td>good</td>\n",
       "      <td>furniture/appliances</td>\n",
       "      <td>7882</td>\n",
       "      <td>&lt; 100 DM</td>\n",
       "      <td>4 - 7 years</td>\n",
       "      <td>2</td>\n",
       "      <td>4</td>\n",
       "      <td>45</td>\n",
       "      <td>none</td>\n",
       "      <td>other</td>\n",
       "      <td>1</td>\n",
       "      <td>skilled</td>\n",
       "      <td>2</td>\n",
       "      <td>no</td>\n",
       "      <td>no</td>\n",
       "    </tr>\n",
       "    <tr>\n",
       "      <th>4</th>\n",
       "      <td>&lt; 0 DM</td>\n",
       "      <td>24</td>\n",
       "      <td>poor</td>\n",
       "      <td>car</td>\n",
       "      <td>4870</td>\n",
       "      <td>&lt; 100 DM</td>\n",
       "      <td>1 - 4 years</td>\n",
       "      <td>3</td>\n",
       "      <td>4</td>\n",
       "      <td>53</td>\n",
       "      <td>none</td>\n",
       "      <td>other</td>\n",
       "      <td>2</td>\n",
       "      <td>skilled</td>\n",
       "      <td>2</td>\n",
       "      <td>no</td>\n",
       "      <td>yes</td>\n",
       "    </tr>\n",
       "    <tr>\n",
       "      <th>...</th>\n",
       "      <td>...</td>\n",
       "      <td>...</td>\n",
       "      <td>...</td>\n",
       "      <td>...</td>\n",
       "      <td>...</td>\n",
       "      <td>...</td>\n",
       "      <td>...</td>\n",
       "      <td>...</td>\n",
       "      <td>...</td>\n",
       "      <td>...</td>\n",
       "      <td>...</td>\n",
       "      <td>...</td>\n",
       "      <td>...</td>\n",
       "      <td>...</td>\n",
       "      <td>...</td>\n",
       "      <td>...</td>\n",
       "      <td>...</td>\n",
       "    </tr>\n",
       "    <tr>\n",
       "      <th>995</th>\n",
       "      <td>&lt; 0 DM</td>\n",
       "      <td>12</td>\n",
       "      <td>good</td>\n",
       "      <td>furniture/appliances</td>\n",
       "      <td>1736</td>\n",
       "      <td>&lt; 100 DM</td>\n",
       "      <td>4 - 7 years</td>\n",
       "      <td>3</td>\n",
       "      <td>4</td>\n",
       "      <td>31</td>\n",
       "      <td>none</td>\n",
       "      <td>own</td>\n",
       "      <td>1</td>\n",
       "      <td>unskilled</td>\n",
       "      <td>1</td>\n",
       "      <td>no</td>\n",
       "      <td>no</td>\n",
       "    </tr>\n",
       "    <tr>\n",
       "      <th>996</th>\n",
       "      <td>&lt; 0 DM</td>\n",
       "      <td>30</td>\n",
       "      <td>good</td>\n",
       "      <td>car</td>\n",
       "      <td>3857</td>\n",
       "      <td>&lt; 100 DM</td>\n",
       "      <td>1 - 4 years</td>\n",
       "      <td>4</td>\n",
       "      <td>4</td>\n",
       "      <td>40</td>\n",
       "      <td>none</td>\n",
       "      <td>own</td>\n",
       "      <td>1</td>\n",
       "      <td>management</td>\n",
       "      <td>1</td>\n",
       "      <td>yes</td>\n",
       "      <td>no</td>\n",
       "    </tr>\n",
       "    <tr>\n",
       "      <th>997</th>\n",
       "      <td>&lt; 0 DM</td>\n",
       "      <td>12</td>\n",
       "      <td>good</td>\n",
       "      <td>furniture/appliances</td>\n",
       "      <td>804</td>\n",
       "      <td>&lt; 100 DM</td>\n",
       "      <td>&gt; 7 years</td>\n",
       "      <td>4</td>\n",
       "      <td>4</td>\n",
       "      <td>38</td>\n",
       "      <td>none</td>\n",
       "      <td>own</td>\n",
       "      <td>1</td>\n",
       "      <td>skilled</td>\n",
       "      <td>1</td>\n",
       "      <td>no</td>\n",
       "      <td>no</td>\n",
       "    </tr>\n",
       "    <tr>\n",
       "      <th>998</th>\n",
       "      <td>&lt; 0 DM</td>\n",
       "      <td>45</td>\n",
       "      <td>good</td>\n",
       "      <td>furniture/appliances</td>\n",
       "      <td>1845</td>\n",
       "      <td>&lt; 100 DM</td>\n",
       "      <td>1 - 4 years</td>\n",
       "      <td>4</td>\n",
       "      <td>4</td>\n",
       "      <td>23</td>\n",
       "      <td>none</td>\n",
       "      <td>other</td>\n",
       "      <td>1</td>\n",
       "      <td>skilled</td>\n",
       "      <td>1</td>\n",
       "      <td>yes</td>\n",
       "      <td>yes</td>\n",
       "    </tr>\n",
       "    <tr>\n",
       "      <th>999</th>\n",
       "      <td>1 - 200 DM</td>\n",
       "      <td>45</td>\n",
       "      <td>critical</td>\n",
       "      <td>car</td>\n",
       "      <td>4576</td>\n",
       "      <td>100 - 500 DM</td>\n",
       "      <td>unemployed</td>\n",
       "      <td>3</td>\n",
       "      <td>4</td>\n",
       "      <td>27</td>\n",
       "      <td>none</td>\n",
       "      <td>own</td>\n",
       "      <td>1</td>\n",
       "      <td>skilled</td>\n",
       "      <td>1</td>\n",
       "      <td>no</td>\n",
       "      <td>no</td>\n",
       "    </tr>\n",
       "  </tbody>\n",
       "</table>\n",
       "<p>1000 rows × 17 columns</p>\n",
       "</div>"
      ],
      "text/plain": [
       "    checking_balance  months_loan_duration credit_history  \\\n",
       "0             < 0 DM                     6       critical   \n",
       "1         1 - 200 DM                    48           good   \n",
       "2             < 0 DM                    12       critical   \n",
       "3             < 0 DM                    42           good   \n",
       "4             < 0 DM                    24           poor   \n",
       "..               ...                   ...            ...   \n",
       "995           < 0 DM                    12           good   \n",
       "996           < 0 DM                    30           good   \n",
       "997           < 0 DM                    12           good   \n",
       "998           < 0 DM                    45           good   \n",
       "999       1 - 200 DM                    45       critical   \n",
       "\n",
       "                  purpose  amount savings_balance employment_duration  \\\n",
       "0    furniture/appliances    1169        < 100 DM           > 7 years   \n",
       "1    furniture/appliances    5951        < 100 DM         1 - 4 years   \n",
       "2               education    2096        < 100 DM         4 - 7 years   \n",
       "3    furniture/appliances    7882        < 100 DM         4 - 7 years   \n",
       "4                     car    4870        < 100 DM         1 - 4 years   \n",
       "..                    ...     ...             ...                 ...   \n",
       "995  furniture/appliances    1736        < 100 DM         4 - 7 years   \n",
       "996                   car    3857        < 100 DM         1 - 4 years   \n",
       "997  furniture/appliances     804        < 100 DM           > 7 years   \n",
       "998  furniture/appliances    1845        < 100 DM         1 - 4 years   \n",
       "999                   car    4576    100 - 500 DM          unemployed   \n",
       "\n",
       "     percent_of_income  years_at_residence  age other_credit housing  \\\n",
       "0                    4                   4   67         none     own   \n",
       "1                    2                   2   22         none     own   \n",
       "2                    2                   3   49         none     own   \n",
       "3                    2                   4   45         none   other   \n",
       "4                    3                   4   53         none   other   \n",
       "..                 ...                 ...  ...          ...     ...   \n",
       "995                  3                   4   31         none     own   \n",
       "996                  4                   4   40         none     own   \n",
       "997                  4                   4   38         none     own   \n",
       "998                  4                   4   23         none   other   \n",
       "999                  3                   4   27         none     own   \n",
       "\n",
       "     existing_loans_count         job  dependents phone default  \n",
       "0                       2     skilled           1   yes      no  \n",
       "1                       1     skilled           1    no     yes  \n",
       "2                       1   unskilled           2    no      no  \n",
       "3                       1     skilled           2    no      no  \n",
       "4                       2     skilled           2    no     yes  \n",
       "..                    ...         ...         ...   ...     ...  \n",
       "995                     1   unskilled           1    no      no  \n",
       "996                     1  management           1   yes      no  \n",
       "997                     1     skilled           1    no      no  \n",
       "998                     1     skilled           1   yes     yes  \n",
       "999                     1     skilled           1    no      no  \n",
       "\n",
       "[1000 rows x 17 columns]"
      ]
     },
     "execution_count": 145,
     "metadata": {},
     "output_type": "execute_result"
    }
   ],
   "source": [
    "df"
   ]
  },
  {
   "cell_type": "markdown",
   "metadata": {},
   "source": [
    "## 문제4.\n",
    "### credit데이터를 불러와서 원-핫인코딩하기\n",
    "\n"
   ]
  },
  {
   "cell_type": "markdown",
   "metadata": {},
   "source": [
    "### 4-1. credit 데이터의 'credit_history'피처를 사이킷런의 머신러닝알고리즘을 통해 인코딩해보세요\n"
   ]
  },
  {
   "cell_type": "markdown",
   "metadata": {},
   "source": [
    "#### 4-1-1. 먼저, 숫자값으로의 변환을 위해 레이블인코딩하기"
   ]
  },
  {
   "cell_type": "markdown",
   "metadata": {},
   "source": [
    "* credit_data에 파일을 불러온 뒤 credit_data1에 'credit_history'피처만 저장 후 인코딩\n",
    "* 어떤 데이터가 어떻게 인코딩되었는지 나타내기(classes_ 사용하세요)\n",
    "* 변환된 데이터 값 출력"
   ]
  },
  {
   "cell_type": "code",
   "execution_count": 162,
   "metadata": {},
   "outputs": [
    {
     "name": "stdout",
     "output_type": "stream",
     "text": [
      "['critical' 'good' 'perfect' 'poor' 'very good']\n"
     ]
    }
   ],
   "source": [
    "from sklearn.preprocessing import LabelEncoder\n",
    "Encoder = LabelEncoder()\n",
    "\n",
    "credit_data = pd.read_csv('credit.csv')\n",
    "credit_data1 = credit_data['credit_history']\n",
    "\n",
    "Encoder.fit(credit_data1)\n",
    "labels = Encoder.transform(credit_data1)\n",
    "\n",
    "print(Encoder.classes_)"
   ]
  },
  {
   "cell_type": "markdown",
   "metadata": {},
   "source": [
    "#### 4-1-2. 원핫인코딩 하기"
   ]
  },
  {
   "cell_type": "markdown",
   "metadata": {},
   "source": [
    "* 변환된 데이터값 출력\n",
    "* 원본데이터가 몇 행 몇 열의 데이터로 변환되었는지 나타내기"
   ]
  },
  {
   "cell_type": "code",
   "execution_count": 170,
   "metadata": {},
   "outputs": [
    {
     "data": {
      "text/plain": [
       "array([[1., 0., 0., 0., 0.],\n",
       "       [0., 1., 0., 0., 0.],\n",
       "       [1., 0., 0., 0., 0.],\n",
       "       ...,\n",
       "       [0., 1., 0., 0., 0.],\n",
       "       [0., 1., 0., 0., 0.],\n",
       "       [1., 0., 0., 0., 0.]])"
      ]
     },
     "execution_count": 170,
     "metadata": {},
     "output_type": "execute_result"
    }
   ],
   "source": [
    "from sklearn.preprocessing import OneHotEncoder\n",
    "Encoder = OneHotEncoder()\n",
    "\n",
    "labels = labels.reshape(-1,1)\n",
    "\n",
    "Encoder.fit(labels)\n",
    "one_hot_ecoding_labels = Encoder.transform(labels)\n",
    "one_hot_ecoding_labels.toarray()"
   ]
  },
  {
   "cell_type": "code",
   "execution_count": 173,
   "metadata": {
    "scrolled": true
   },
   "outputs": [
    {
     "data": {
      "text/plain": [
       "(1000, 5)"
      ]
     },
     "execution_count": 173,
     "metadata": {},
     "output_type": "execute_result"
    }
   ],
   "source": [
    "one_hot_ecoding_labels.shape"
   ]
  },
  {
   "cell_type": "markdown",
   "metadata": {},
   "source": [
    "### 4-2. credit 데이터의 'default'피처를 판다스 API를 통해 인코딩해보세요"
   ]
  },
  {
   "cell_type": "code",
   "execution_count": 186,
   "metadata": {},
   "outputs": [
    {
     "data": {
      "text/html": [
       "<div>\n",
       "<style scoped>\n",
       "    .dataframe tbody tr th:only-of-type {\n",
       "        vertical-align: middle;\n",
       "    }\n",
       "\n",
       "    .dataframe tbody tr th {\n",
       "        vertical-align: top;\n",
       "    }\n",
       "\n",
       "    .dataframe thead th {\n",
       "        text-align: right;\n",
       "    }\n",
       "</style>\n",
       "<table border=\"1\" class=\"dataframe\">\n",
       "  <thead>\n",
       "    <tr style=\"text-align: right;\">\n",
       "      <th></th>\n",
       "      <th>no</th>\n",
       "      <th>yes</th>\n",
       "    </tr>\n",
       "  </thead>\n",
       "  <tbody>\n",
       "    <tr>\n",
       "      <th>0</th>\n",
       "      <td>1</td>\n",
       "      <td>0</td>\n",
       "    </tr>\n",
       "    <tr>\n",
       "      <th>1</th>\n",
       "      <td>0</td>\n",
       "      <td>1</td>\n",
       "    </tr>\n",
       "    <tr>\n",
       "      <th>2</th>\n",
       "      <td>1</td>\n",
       "      <td>0</td>\n",
       "    </tr>\n",
       "    <tr>\n",
       "      <th>3</th>\n",
       "      <td>1</td>\n",
       "      <td>0</td>\n",
       "    </tr>\n",
       "    <tr>\n",
       "      <th>4</th>\n",
       "      <td>0</td>\n",
       "      <td>1</td>\n",
       "    </tr>\n",
       "    <tr>\n",
       "      <th>...</th>\n",
       "      <td>...</td>\n",
       "      <td>...</td>\n",
       "    </tr>\n",
       "    <tr>\n",
       "      <th>995</th>\n",
       "      <td>1</td>\n",
       "      <td>0</td>\n",
       "    </tr>\n",
       "    <tr>\n",
       "      <th>996</th>\n",
       "      <td>1</td>\n",
       "      <td>0</td>\n",
       "    </tr>\n",
       "    <tr>\n",
       "      <th>997</th>\n",
       "      <td>1</td>\n",
       "      <td>0</td>\n",
       "    </tr>\n",
       "    <tr>\n",
       "      <th>998</th>\n",
       "      <td>0</td>\n",
       "      <td>1</td>\n",
       "    </tr>\n",
       "    <tr>\n",
       "      <th>999</th>\n",
       "      <td>1</td>\n",
       "      <td>0</td>\n",
       "    </tr>\n",
       "  </tbody>\n",
       "</table>\n",
       "<p>1000 rows × 2 columns</p>\n",
       "</div>"
      ],
      "text/plain": [
       "     no  yes\n",
       "0     1    0\n",
       "1     0    1\n",
       "2     1    0\n",
       "3     1    0\n",
       "4     0    1\n",
       "..   ..  ...\n",
       "995   1    0\n",
       "996   1    0\n",
       "997   1    0\n",
       "998   0    1\n",
       "999   1    0\n",
       "\n",
       "[1000 rows x 2 columns]"
      ]
     },
     "execution_count": 186,
     "metadata": {},
     "output_type": "execute_result"
    }
   ],
   "source": [
    "c_d = credit_data['default']\n",
    "pd.get_dummies(c_d)"
   ]
  },
  {
   "cell_type": "code",
   "execution_count": null,
   "metadata": {},
   "outputs": [],
   "source": []
  }
 ],
 "metadata": {
  "kernelspec": {
   "display_name": "Python 3",
   "language": "python",
   "name": "python3"
  },
  "language_info": {
   "codemirror_mode": {
    "name": "ipython",
    "version": 3
   },
   "file_extension": ".py",
   "mimetype": "text/x-python",
   "name": "python",
   "nbconvert_exporter": "python",
   "pygments_lexer": "ipython3",
   "version": "3.7.6"
  },
  "varInspector": {
   "cols": {
    "lenName": 16,
    "lenType": 16,
    "lenVar": 40
   },
   "kernels_config": {
    "python": {
     "delete_cmd_postfix": "",
     "delete_cmd_prefix": "del ",
     "library": "var_list.py",
     "varRefreshCmd": "print(var_dic_list())"
    },
    "r": {
     "delete_cmd_postfix": ") ",
     "delete_cmd_prefix": "rm(",
     "library": "var_list.r",
     "varRefreshCmd": "cat(var_dic_list()) "
    }
   },
   "types_to_exclude": [
    "module",
    "function",
    "builtin_function_or_method",
    "instance",
    "_Feature"
   ],
   "window_display": false
  }
 },
 "nbformat": 4,
 "nbformat_minor": 4
}
