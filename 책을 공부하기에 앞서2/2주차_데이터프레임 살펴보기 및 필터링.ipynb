{
 "cells": [
  {
   "cell_type": "markdown",
   "metadata": {},
   "source": [
    "# 3. 데이터프레임 살펴보기 및 필터링"
   ]
  },
  {
   "cell_type": "code",
   "execution_count": null,
   "metadata": {},
   "outputs": [],
   "source": [
    "# 데이터 살펴보기\n",
    "import pandas as pd\n",
    "df = pd.read_csv('auto-mpg.csv', header = None)\n",
    "df.columns = ['mpg','cylinders','displacement','horsepowwer','weight','acceleration','model year','origin','name']\n",
    "\n",
    "print(df.head())\n",
    "print()\n",
    "print(df.tail())"
   ]
  },
  {
   "cell_type": "code",
   "execution_count": null,
   "metadata": {},
   "outputs": [],
   "source": [
    "print(df.shape)"
   ]
  },
  {
   "cell_type": "code",
   "execution_count": null,
   "metadata": {},
   "outputs": [],
   "source": [
    "print(df.info)"
   ]
  },
  {
   "cell_type": "code",
   "execution_count": null,
   "metadata": {},
   "outputs": [],
   "source": [
    "print(df.dtypes)\n",
    "print()\n",
    "print(df.mpg.dtype)"
   ]
  },
  {
   "cell_type": "code",
   "execution_count": null,
   "metadata": {},
   "outputs": [],
   "source": [
    "print(df.describe())\n",
    "print('------------------------------')\n",
    "print(df.describe(include='all'))"
   ]
  },
  {
   "cell_type": "code",
   "execution_count": null,
   "metadata": {},
   "outputs": [],
   "source": [
    "df.describe(percentiles = [.1,.2,.3]) # 백분위 구간 설정 가능"
   ]
  },
  {
   "cell_type": "code",
   "execution_count": null,
   "metadata": {},
   "outputs": [],
   "source": [
    "df.describe().astype('int')"
   ]
  },
  {
   "cell_type": "code",
   "execution_count": null,
   "metadata": {},
   "outputs": [],
   "source": [
    "print(df.count())"
   ]
  },
  {
   "cell_type": "code",
   "execution_count": null,
   "metadata": {},
   "outputs": [],
   "source": [
    "unique_values = df['origin'].value_counts()\n",
    "unique_values"
   ]
  },
  {
   "cell_type": "code",
   "execution_count": null,
   "metadata": {},
   "outputs": [],
   "source": [
    "# 평균값\n",
    "print(df.mean())\n",
    "print()\n",
    "print(df['mpg'].mean())\n",
    "print(df.mpg.mean())\n",
    "print()\n",
    "print(df[['mpg','weight']].mean())"
   ]
  },
  {
   "cell_type": "code",
   "execution_count": null,
   "metadata": {},
   "outputs": [],
   "source": [
    "# 중간값\n",
    "print(df.median())\n",
    "print()\n",
    "print(df['mpg'].median())\n",
    "\n",
    "# 최대값\n",
    "print(df.max())\n",
    "print()\n",
    "print(df['mpg'].max())\n",
    "print()\n",
    "\n",
    "# 최소값\n",
    "print(df.min())\n",
    "print()\n",
    "print(df['mpg'].min())\n",
    "print()\n",
    "\n",
    "# 표준편차\n",
    "print(df.std())\n",
    "print()\n",
    "print(df['mpg'].std())\n",
    "print()\n",
    "\n",
    "#상관계수\n",
    "print(df.corr())\n",
    "print()\n",
    "print(df[['mpg','weight']].corr())"
   ]
  },
  {
   "cell_type": "code",
   "execution_count": null,
   "metadata": {},
   "outputs": [],
   "source": [
    "# 불린 인덱싱 AND\n",
    "import seaborn as sns\n",
    "\n",
    "titanic = sns.load_dataset('titanic')\n",
    "\n",
    "titanic_boolean = titanic[titanic['age']>60]\n",
    "print(type(titanic_boolean))\n",
    "titanic_boolean.head()"
   ]
  },
  {
   "cell_type": "code",
   "execution_count": null,
   "metadata": {},
   "outputs": [],
   "source": [
    "titanic[(titanic['age']>60) & (titanic['pclass']==1) & (titanic['sex']=='female')]"
   ]
  },
  {
   "cell_type": "code",
   "execution_count": null,
   "metadata": {},
   "outputs": [],
   "source": [
    "cond1 = titanic['age'] > 60\n",
    "cond2 = titanic['pclass']==1\n",
    "cond3 = titanic['sex']=='female'\n",
    "titanic[cond1&cond2&cond3]"
   ]
  },
  {
   "cell_type": "code",
   "execution_count": null,
   "metadata": {},
   "outputs": [],
   "source": [
    "# 불린 인덱싱 OR\n",
    "titanic[cond1|cond2].head()"
   ]
  },
  {
   "cell_type": "code",
   "execution_count": null,
   "metadata": {},
   "outputs": [],
   "source": [
    "# isin()\n",
    "isin_filter = titanic['sibsp'].isin([3,4,5]) # 'sibsp' 값이 3,4,5인 행들을 추출\n",
    "df_isin = titanic[isin_filter]\n",
    "df_isin.head()"
   ]
  },
  {
   "cell_type": "code",
   "execution_count": null,
   "metadata": {},
   "outputs": [],
   "source": [
    "# 불린 인덱싱과 isin() 비교\n",
    "mask3 = titanic['sibsp'] == 3\n",
    "mask4 = titanic['sibsp'] == 4\n",
    "mask5 = titanic['sibsp'] == 5\n",
    "df_boolean = titanic[mask3|mask4|mask5]\n",
    "df_boolean.head()"
   ]
  },
  {
   "cell_type": "code",
   "execution_count": null,
   "metadata": {},
   "outputs": [],
   "source": [
    "# Query 함수\n",
    "# 장점: 가독성과 편의성이 뛰어나다. / 단점: .loc[]로 구현한 것보다 속도가 느리다."
   ]
  },
  {
   "cell_type": "markdown",
   "metadata": {},
   "source": [
    "### Query 함수"
   ]
  },
  {
   "cell_type": "code",
   "execution_count": null,
   "metadata": {},
   "outputs": [],
   "source": [
    "# Query 함수(비교 연산자( ==, >, >=, <, <=, != ))\n",
    "titanic = sns.load_dataset('titanic')\n",
    "str_expr = 'age == 65'\n",
    "titanic_q = titanic.query(str_expr)\n",
    "titanic_q"
   ]
  },
  {
   "cell_type": "code",
   "execution_count": null,
   "metadata": {},
   "outputs": [],
   "source": [
    "str_expr = 'age>=65'\n",
    "titanic_q = titanic.query(str_expr)\n",
    "titanic_q"
   ]
  },
  {
   "cell_type": "code",
   "execution_count": null,
   "metadata": {},
   "outputs": [],
   "source": [
    "# Query 함수(in 연산자( in, ==, not in, != ))\n",
    "str_expr = 'age in [65,66]' # str_expr ='age == [65,66]' 와 동일함\n",
    "titanic_q = titanic.query(str_expr)\n",
    "titanic_q"
   ]
  },
  {
   "cell_type": "code",
   "execution_count": null,
   "metadata": {},
   "outputs": [],
   "source": [
    "str_expr = 'age not in [65,66]' # str_expr ='age != [65,66]' 와 동일함\n",
    "titanic_q = titanic.query(str_expr)\n",
    "titanic_q.head()"
   ]
  },
  {
   "cell_type": "code",
   "execution_count": null,
   "metadata": {},
   "outputs": [],
   "source": [
    "# Query 함수(논리 연산자(and, or, not))\n",
    "str_expr = '(age == 65) and (pclass >= 1)'\n",
    "titanic_q = titanic.query(str_expr)\n",
    "titanic_q"
   ]
  },
  {
   "cell_type": "code",
   "execution_count": null,
   "metadata": {},
   "outputs": [],
   "source": [
    "str_expr = '(age == 65) or (pclass >= 1)'\n",
    "titanic_q = titanic.query(str_expr)\n",
    "titanic_q.head()"
   ]
  },
  {
   "cell_type": "code",
   "execution_count": null,
   "metadata": {},
   "outputs": [],
   "source": [
    "# Query 함수(외부 변수(또는 함수) 참조 연산)\n",
    "num_age = 35\n",
    "\n",
    "str_expr = 'age == @num_age'# 외부 변수명 또는 함수명 앞에 @를 붙여 사용\n",
    "titanic_q = titanic.query(str_expr)\n",
    "titanic_q.head()"
   ]
  },
  {
   "cell_type": "code",
   "execution_count": null,
   "metadata": {},
   "outputs": [],
   "source": [
    "num_age = 35\n",
    "num_pclass = 2\n",
    "\n",
    "str_expr = f'(age == {num_age}) and (pclass >= {num_pclass})' # f-String를 이용하여 str_expr를 만들 때 외부변수를 미리 참조\n",
    "titanic_q = titanic.query(str_expr)\n",
    "titanic_q.head()"
   ]
  },
  {
   "cell_type": "code",
   "execution_count": null,
   "metadata": {},
   "outputs": [],
   "source": [
    "# Query 함수(인덱스 검색)\n",
    "str_expr = 'index >= 2' # 인덱스이름이 있다면 index대신 인덱스 이름을 기입\n",
    "# 인덱스명이 칼럼 명과 겹친다면 칼럼명으로 간주되어 칼럼으로 연산\n",
    "titanic_q = titanic.query(str_expr)\n",
    "titanic_q.head()"
   ]
  },
  {
   "cell_type": "code",
   "execution_count": null,
   "metadata": {},
   "outputs": [],
   "source": []
  }
 ],
 "metadata": {
  "kernelspec": {
   "display_name": "Python 3",
   "language": "python",
   "name": "python3"
  },
  "language_info": {
   "codemirror_mode": {
    "name": "ipython",
    "version": 3
   },
   "file_extension": ".py",
   "mimetype": "text/x-python",
   "name": "python",
   "nbconvert_exporter": "python",
   "pygments_lexer": "ipython3",
   "version": "3.7.6"
  }
 },
 "nbformat": 4,
 "nbformat_minor": 4
}
