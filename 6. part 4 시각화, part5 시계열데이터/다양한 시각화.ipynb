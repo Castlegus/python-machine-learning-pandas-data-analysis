{
 "cells": [
  {
   "cell_type": "markdown",
   "metadata": {},
   "source": [
    "# 워드클라우드 설치\n",
    "Anaconda prompt를 실행하고 'pip install wordcloud'를 입력한다."
   ]
  },
  {
   "cell_type": "markdown",
   "metadata": {},
   "source": [
    "## 워드클라우드 1. 영어 문서"
   ]
  },
  {
   "cell_type": "code",
   "execution_count": null,
   "metadata": {},
   "outputs": [],
   "source": [
    "from wordcloud import WordCloud\n",
    "import matplotlib.pyplot as plt\n",
    "\n",
    "# 텍스트 파일 열기 (트럼프 대통령 취임사)\n",
    "text = open('usa_president_message.txt', encoding='UTF-8').read() # 파이썬 내장함수인 open() 함수를 이용하여 파일을 열고,\n",
    "                                                                    # read() 메서드를 이용하여 텍스트를 읽는다.\n",
    "\n",
    "# 워드 클라우드 이미지 생성하기\n",
    "wordcloud = WordCloud(background_color='white', # 배경 색 지정\n",
    "                      width=1920,height=1080 # 이미지 크기 지정\n",
    "                     ).generate(text) # generate() 메서드에 텍스트 문자열을 입력하면 단어 개수를 계산하여 워드클라우드 객체를 만든다.\n",
    "\n",
    "# 화면에 출력하기\n",
    "fig = plt.figure()\n",
    "plt.imshow(wordcloud, interpolation='bilinear', cmap='YlOrBr') # inshow() 함수를 이용하여 그림 객체에 워드클라우드 이미지를 그린다.\n",
    "                                                                # interpolation(이미지 보간법) : 이미지의 부드럽기 정도\n",
    "                                                                # cmap: 색깔지정\n",
    "        \n",
    "plt.axis('off') # 그래프의 가로축, 세로축을 표시하지 않도록 하는 명령"
   ]
  },
  {
   "cell_type": "markdown",
   "metadata": {},
   "source": [
    "https://khann.tistory.com/60"
   ]
  },
  {
   "cell_type": "markdown",
   "metadata": {},
   "source": [
    "## 워드클라우드 이미지 마스킹 처리하기"
   ]
  },
  {
   "cell_type": "code",
   "execution_count": null,
   "metadata": {},
   "outputs": [],
   "source": [
    "from wordcloud import WordCloud, STOPWORDS\n",
    "import matplotlib.pyplot as plt\n",
    "from PIL import Image\n",
    "import numpy as np\n",
    "\n",
    "# 텍스트 파일 열기\n",
    "text = open('usa_president_message.txt', encoding='UTF-8').read()\n",
    "\n",
    "# 이미지 마스킹 처리\n",
    "image_path = 'usa_map.jpg' # PIL 라이브러리의 Image 모듈을 사용하여 워드클라우드 이미지의 기본 형태로 사용할 마스크 이미지를 불러온다.\n",
    "usa_map = np.array(Image.open(image_path)) # 이미지 파일을 numpy array로 변환한 값을 usa_map 변수에 저장\n",
    "\n",
    "# 워드 클라우드 이미지 생성하기\n",
    "wordcloud = WordCloud(background_color='white', \n",
    "                      max_font_size = 100,\n",
    "                      max_words=1000, # 최대로 포함할 수 있는 단어 수\n",
    "                      stopwords=STOPWORDS,# Stopwords 는 빈도수를 계산할 때 제외되는 단어입니다. \n",
    "                                          #영어에서 자주 이용되는 stopwords 는 wordcloud.STOPWORDS 저장되어 있다.\n",
    "                      mask=usa_map\n",
    "                     ).generate(text)\n",
    "\n",
    "# 화면에 출력하기\n",
    "fig = plt.figure(figsize=(15,15))\n",
    "plt.imshow(wordcloud, interpolation='bilinear')\n",
    "plt.axis('off')"
   ]
  },
  {
   "cell_type": "markdown",
   "metadata": {},
   "source": [
    "## 워드클라우드 2. 한글 문서\n",
    "한글 형태소의 명사, 동사 등 품사를 구분하여 추출하기 위해서는 NLP를 사용한다. 대표적인 파이썬 한국어 NLP인 KoNLPy를 설치한다.\n",
    "\n",
    "다소 복잡한 과정이라 생략\n",
    "\n",
    "https://konlpy-ko.readthedocs.io/ko/v0.4.3/install/"
   ]
  },
  {
   "cell_type": "markdown",
   "metadata": {},
   "source": [
    "# 레이더 차트(방사형 차트)"
   ]
  },
  {
   "cell_type": "code",
   "execution_count": null,
   "metadata": {},
   "outputs": [],
   "source": [
    "import matplotlib.pyplot as plt\n",
    "import pandas as pd\n",
    "from math import pi\n",
    "\n",
    "# 데이터  로딩 ( KBO 프로야구 1위팀, 10위 팀의 성적 데이터)\n",
    "kbo = pd.read_csv(\"kbo.csv\")\n",
    "kbo.head()"
   ]
  },
  {
   "cell_type": "code",
   "execution_count": null,
   "metadata": {},
   "outputs": [],
   "source": [
    "# 변수 지정\n",
    "var = kbo.columns.to_list()[1:] # '승리' 열부터 이후에 위치하는 모든 열을 선택하여 리스트로 변환\n",
    "print(var)"
   ]
  },
  {
   "cell_type": "code",
   "execution_count": null,
   "metadata": {},
   "outputs": [],
   "source": [
    "# 1위 팀 값 지정 \n",
    "val1 = kbo.loc[0, :].drop('팀명').values.tolist()\n",
    "val1.append(val1[0]) # 레이더 차트가 중간에 끊기지 않고 극좌표에서 고리 형태로 연결되도록 0행의 첫번째 값인 88을 리스트에 추가한다.\n",
    "print(val1)\n",
    "\n",
    "# 10위 팀 값 지정 \n",
    "val2 = kbo.loc[1, :].drop('팀명').values.tolist()\n",
    "val2.append(val2[0])\n",
    "print(val2)"
   ]
  },
  {
   "cell_type": "code",
   "execution_count": null,
   "metadata": {},
   "outputs": [],
   "source": [
    "# 변수별 각도 계산\n",
    "num_var = len(var) # 차트에 그릴 변수의 개수 구하기\n",
    "deg = [n / float(num_var) * 2 * pi for n in range(num_var)] # 원의 각도(2π=360°)를 라디안으로 나타내고 변수의 개수로 나눈다.\n",
    "deg.append(deg[0])\n",
    "print(deg)"
   ]
  },
  {
   "cell_type": "code",
   "execution_count": null,
   "metadata": {},
   "outputs": [],
   "source": [
    "# matplotlib 한글 폰트 오류 문제 해결\n",
    "from matplotlib import font_manager, rc\n",
    "font_path = \"malgun.ttf\"  \n",
    "font_name = font_manager.FontProperties(fname=font_path).get_name()\n",
    "rc('font', family=font_name)"
   ]
  },
  {
   "cell_type": "code",
   "execution_count": null,
   "metadata": {},
   "outputs": [],
   "source": [
    " # 레이더 차트 그리기\n",
    "ax = plt.subplot(111, polar=True) # 극좌표를 사용하기 위해 polar = True\n",
    "plt.xticks(deg[:-1], var, color='grey', size=10) # 변수 4개의 값을 x축의 값으로 표시한다. 폰트 색은 그레이, 사이즈 10\n",
    " \n",
    "ax.set_rlabel_position(45) # 극좌표의 반경(radial)을 나타낼 각도를 45도로 지정한다.\n",
    "plt.yticks([25,50,75,100], [\"25\",\"50\",\"75\",\"100\"], color=\"red\", size=10) \n",
    "plt.ylim(0,100) # 반경을 나타내는 y축 값의 범위"
   ]
  },
  {
   "cell_type": "code",
   "execution_count": null,
   "metadata": {},
   "outputs": [],
   "source": [
    " # 레이더 차트 그리기\n",
    "ax = plt.subplot(111, polar=True) # 극좌표를 사용하기 위해 polar = True\n",
    "plt.xticks(deg[:-1], var, color='grey', size=10) # 변수 4개의 값을 x축의 값으로 표시한다. 폰트 색은 그레이, 사이즈 10\n",
    " \n",
    "ax.set_rlabel_position(45) # 극좌표의 반경(radial)을 나타낼 각도를 45도로 지정한다.\n",
    "plt.yticks([25,50,75,100], [\"25\",\"50\",\"75\",\"100\"], color=\"red\", size=10) \n",
    "plt.ylim(0,100) # 반경을 나타내는 y축 값의 범위\n",
    "\n",
    "ax.plot(deg, val1, linewidth=1, linestyle='solid', label='1위 팀')\n",
    "ax.fill(deg, val1, 'skyblue', alpha=0.2) # fill은 내부 영역을 색으로 채우는 함수\n",
    "\n",
    "ax.plot(deg, val2, linewidth=1, linestyle='solid', label='10위 팀')\n",
    "ax.fill(deg, val2, 'hotpink', alpha=0.2)\n",
    "\n",
    "plt.legend(loc='best', bbox_to_anchor=(0.05, 0.95)) # bbox_to_anchor 옵션은 범례 상자가 위치하는 절대 좌표를 지정한다.\n",
    "                                                    # (0.05, 0.95)는 가로 방향으로 0.5, 세로 방향으로 0.95 위치를 나타낸다.\n",
    "                                                    # 따라서 화면의 왼쪽 상단에 위치한다."
   ]
  },
  {
   "cell_type": "markdown",
   "metadata": {},
   "source": [
    "# 채색 달력 그래프 (calmap)\n",
    "채색 달력 그래프는 일별 데이터 값을 달력에 다른 색으로 구분하여 표현한 그래프를 말한다.\n",
    "\n",
    "Anaconda prompt를 실행하고 'pip install calmap'를 입력한다."
   ]
  },
  {
   "cell_type": "code",
   "execution_count": null,
   "metadata": {},
   "outputs": [],
   "source": [
    "import pandas as pd\n",
    "import calmap\n",
    "import matplotlib.pyplot as plt\n",
    "\n",
    "# KOSPI 데이터 준비 (2018년 kospi 주가 지수 일별 데이터)\n",
    "df = pd.read_excel('kospi.xls', parse_dates=['년/월/일'])\n",
    "df = df.set_index('년/월/일', drop=True)\n",
    "df"
   ]
  },
  {
   "cell_type": "code",
   "execution_count": null,
   "metadata": {},
   "outputs": [],
   "source": [
    "# Calendar Map 표현\n",
    "plt.figure(figsize=(16,8))\n",
    "calmap.calendarplot(df['등락률(%)'], # 'change' 열을 데이터로 선택\n",
    "                    monthticks=1, # 1~12월의 이름을 표시하는 간격을 나타낸다. 1로 설정하면 모든 월 이름을 표시한다.\n",
    "                    daylabels='MTWTFSS', # 월~일까지 요일명을 나타내는 형식\n",
    "                    dayticks=[0, 2, 4, 6], # 요일명을 표시하는 간격. 0,2,4,6번째 위치에 해당하는 월,수,금,일 표시\n",
    "                    cmap='YlGn', linewidth=0.05, fillcolor='gray', # cmap은 컬러맵, linewidth는 구분선의 두께, fillcolor는 누락치가 있을 때 해당 칸을 표시하는 색\n",
    "                    fig_kws=dict(figsize=(14, 6)), # 채색 달력 그래프의 크기 설정\n",
    "                    yearlabel_kws=dict(color='black', fontsize=20), # 연도 표시 형식 지정 \n",
    "                    subplot_kws=dict(title='2018 KOSPI Price Trend'),# 제목 표시                        \n",
    "                    )\n",
    "\n",
    "plt.show()"
   ]
  },
  {
   "cell_type": "code",
   "execution_count": null,
   "metadata": {},
   "outputs": [],
   "source": []
  }
 ],
 "metadata": {
  "kernelspec": {
   "display_name": "Python 3",
   "language": "python",
   "name": "python3"
  },
  "language_info": {
   "codemirror_mode": {
    "name": "ipython",
    "version": 3
   },
   "file_extension": ".py",
   "mimetype": "text/x-python",
   "name": "python",
   "nbconvert_exporter": "python",
   "pygments_lexer": "ipython3",
   "version": "3.7.6"
  }
 },
 "nbformat": 4,
 "nbformat_minor": 4
}
